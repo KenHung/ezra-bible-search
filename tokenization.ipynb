{
 "metadata": {
  "language_info": {
   "codemirror_mode": {
    "name": "ipython",
    "version": 3
   },
   "file_extension": ".py",
   "mimetype": "text/x-python",
   "name": "python",
   "nbconvert_exporter": "python",
   "pygments_lexer": "ipython3",
   "version": "3.7.9-final"
  },
  "orig_nbformat": 2,
  "kernelspec": {
   "name": "cnlp",
   "display_name": "ezra",
   "language": "python"
  }
 },
 "nbformat": 4,
 "nbformat_minor": 2,
 "cells": [
  {
   "source": [
    "# Try different tokenization methods"
   ],
   "cell_type": "markdown",
   "metadata": {}
  },
  {
   "cell_type": "code",
   "execution_count": 1,
   "metadata": {},
   "outputs": [],
   "source": [
    "from data import read_bible\n",
    "\n",
    "unv = read_bible('https://bible.fhl.net/public/dnstrunv.tgz')"
   ]
  },
  {
   "cell_type": "code",
   "execution_count": 2,
   "metadata": {},
   "outputs": [
    {
     "output_type": "stream",
     "name": "stderr",
     "text": [
      "Paddle enabled successfully......\n"
     ]
    }
   ],
   "source": [
    "import jieba\n",
    "import jieba.posseg as pseg\n",
    "\n",
    "jieba.enable_paddle()"
   ]
  },
  {
   "source": [
    "## Paddle"
   ],
   "cell_type": "markdown",
   "metadata": {}
  },
  {
   "cell_type": "code",
   "execution_count": 3,
   "metadata": {},
   "outputs": [],
   "source": [
    "from hanziconv import HanziConv\n",
    "\n",
    "unv['text_s'] = unv.text.apply(HanziConv.toSimplified)\n",
    "unv['text_s_tk'] = unv.text_s.apply(lambda v: pseg.lcut(v, use_paddle=True))"
   ]
  },
  {
   "cell_type": "code",
   "execution_count": 4,
   "metadata": {
    "tags": []
   },
   "outputs": [
    {
     "output_type": "stream",
     "name": "stdout",
     "text": [
      "['起初/d', '，神/v', '创造/v', '天地/n', '。/v']\n['地/n', '是/v', '空虚/a', '混沌，渊面黑暗；神/nz', '的/u', '灵运行/nz', '在/p', '水面/n', '上/f', '。/v']\n['神/n', '说/v', '：「/nr', '要/v', '有/v', '光」，/nz', '就/d', '有/v', '了/u', '光。/n']\n['神看光/nz', '是/v', '好/a', '的/u', '，/n', '就/d', '把/p', '光/n', '暗/a', '分开/v', '了/u', '。/n']\n['神称光/nr', '为/v', '「昼」，/nr', '称/v', '暗/an', '为/v', '「夜」。/nr', '有/v', '晚上/TIME', '，/n', '有/v', '早晨/TIME', '，/v', '这/r', '是/v', '头/n', '一日/TIME', '。/v']\n['神说：「诸水/nw', '之间/f', '要/v', '有/v', '空气/n', '，/v', '将/p', '水/n', '分为/v', '上下/f', '。」/v']\n['神/n', '就/d', '造出/v', '空气/n', '，/v', '将/p', '空气/n', '以下/f', '的/u', '水、/n', '空气/n', '以上/f', '的/u', '水/n', '分开/v', '了/u', '。事/n', '就这样/d', '成/v', '了/u', '。/n']\n['神称/v', '空气/n', '为/v', '「天」。/nz', '有/v', '晚上/TIME', '，/n', '有/v', '早晨/TIME', '，/n', '是/v', '第/xc', '二日/TIME', '。/v']\n['神/n', '说/v', '：「/v', '天下/n', '的/u', '水/n', '要/v', '聚/v', '在/p', '一处/m', '，/n', '使/v', '旱地/n', '露/v', '出来/v', '。/v', '」事/n', '就这样/d', '成/v', '了/u', '。/n']\n['神称/v', '旱地/n', '为/v', '「/n', '地/u', '」，/nr', '称/v', '水/n', '的/u', '聚处/n', '为/v', '「海」。神/nr', '看着/v', '是/v', '好/a', '的/u', '。/n']\n['神/n', '说/v', '：「/n', '地/u', '要/v', '发生/v', '青草/n', '和/c', '结/v', '种子/n', '的/u', '菜蔬/n', '，/n', '并/c', '结/v', '果子/n', '的/u', '树木/n', '，/v', '各/r', '从/p', '其/r', '类/n', '，果子/n', '都/d', '包/v', '着/u', '核/n', '。/v', '」事/n', '就这样/d', '成/v', '了/u', '。/n']\n['于是/c', '地/u', '发生/v', '了/u', '青草/n', '和/c', '结/v', '种子/n', '的/u', '菜蔬/n', '，/v', '各/r', '从/p', '其/r', '类；/n', '并/c', '结/v', '果子/n', '的/u', '树木/n', '，/v', '各/r', '从/p', '其/r', '类/n', '；果子/n', '都/d', '包/v', '着/u', '核/n', '。神/n', '看着/v', '是/v', '好/a', '的/u', '。/n']\n['有/v', '晚上/TIME', '，/n', '有/v', '早晨/TIME', '，/n', '是/v', '第三日/TIME', '。/n']\n['神/n', '说/v', '：「/nr', '天上/s', '要/v', '有/v', '光体/n', '，/n', '可以/v', '分/v', '昼夜/n', '，作/v', '记号/n', '，定节令、日子、年岁，/nz']\n['并/c', '要/v', '发光/v', '在/p', '天空/n', '，普照/v', '在/p', '地上/s', '。/v', '」事/n', '就这样/d', '成/v', '了/u', '。/n']\n['于是/c', '神/n', '造/v', '了/u', '两个/m', '大光/n', '，/v', '大/a', '的/u', '管昼，/nr', '小/a', '的/u', '管夜，/nr', '又/d', '造/v', '众星，/nz']\n['就/d', '把/p', '这些/r', '光/d', '摆列/v', '在/p', '天空/n', '，普照/v', '在/p', '地上/s', '，/v']\n['管理/v', '昼夜/n', '，/n', '分别/d', '明暗/v', '。神/nr', '看着/v', '是/v', '好/a', '的/u', '。/n']\n['有/v', '晚上/TIME', '，/n', '有/v', '早晨/TIME', '，/n', '是/v', '第四日/TIME', '。/v']\n['神/n', '说/v', '：「水/nr', '要/v', '多多/d', '滋生/v', '有/v', '生命/n', '的/u', '物；/n', '要/v', '有/v', '雀鸟/n', '飞/v', '在/p', '地面/n', '以上/f', '，/v', '天空/n', '之中/f', '。」/v']\n"
     ]
    }
   ],
   "source": [
    "for tk in unv[unv.book.str.startswith('Gen') & unv.chap == 1].text_s_tk[:20]:\n",
    "    print([f'{w}/{pos}' for w, pos in tk if pos != 'x'])"
   ]
  },
  {
   "source": [
    "## Jieba"
   ],
   "cell_type": "markdown",
   "metadata": {}
  },
  {
   "cell_type": "code",
   "execution_count": 5,
   "metadata": {},
   "outputs": [
    {
     "output_type": "stream",
     "name": "stderr",
     "text": [
      "Building prefix dict from the default dictionary ...\n",
      "Loading model from cache /var/folders/w0/lx0qzxln5p72qnrg392g7nyc0000gn/T/jieba.cache\n",
      "Loading model cost 1.423 seconds.\n",
      "Prefix dict has been built successfully.\n"
     ]
    }
   ],
   "source": [
    "unv['text_tk_j'] = unv.text_s.apply(pseg.lcut)"
   ]
  },
  {
   "cell_type": "code",
   "execution_count": 6,
   "metadata": {},
   "outputs": [
    {
     "output_type": "stream",
     "name": "stdout",
     "text": [
      "['起初/d', '，/x', '神/n', '创造/v', '天地/n', '。/x']\n['地/uv', '是/v', '空虚/n', '混沌/a', '，/x', '渊面/n', '黑暗/z', '；/x', '神/n', '的/uj', '灵/n', '运行/v', '在/p', '水面/n', '上/f', '。/x']\n['神/n', '说/v', '：/x', '「/x', '要有光/n', '」/x', '，/x', '就/d', '有/v', '了/ul', '光/n', '。/x']\n['神/n', '看/v', '光是/n', '好/a', '的/uj', '，/x', '就/d', '把/p', '光暗/a', '分开/v', '了/ul', '。/x']\n['神称光/nr', '为/p', '「/x', '昼/n', '」/x', '，/x', '称/v', '暗为/v', '「/x', '夜/t', '」/x', '。/x', '有/v', '晚上/t', '，/x', '有/v', '早晨/t', '，/x', '这/r', '是/v', '头/n', '一日/m', '。/x']\n['神/n', '说/v', '：/x', '「/x', '诸水/nr', '之间/f', '要/v', '有/v', '空气/n', '，/x', '将/d', '水分/n', '为/p', '上下/f', '。/x', '」/x']\n['神/n', '就/d', '造出/v', '空气/n', '，/x', '将/d', '空气/n', '以下/f', '的/uj', '水/n', '、/x', '空气/n', '以上/f', '的/uj', '水/n', '分开/v', '了/ul', '。/x', '事/n', '就/d', '这样/r', '成/v', '了/ul', '。/x']\n['神称/n', '空气/n', '为/p', '「/x', '天/q', '」/x', '。/x', '有/v', '晚上/t', '，/x', '有/v', '早晨/t', '，/x', '是/v', '第二日/m', '。/x']\n['神/n', '说/v', '：/x', '「/x', '天下/s', '的/uj', '水要/b', '聚/v', '在/p', '一处/m', '，/x', '使/v', '旱地/n', '露出/v', '来/v', '。/x', '」/x', '事/n', '就/d', '这样/r', '成/v', '了/ul', '。/x']\n['神称/n', '旱地/n', '为/p', '「/x', '地/uv', '」/x', '，/x', '称水/v', '的/uj', '聚处/n', '为/p', '「/x', '海/n', '」/x', '。/x', '神/n', '看着/v', '是/v', '好/a', '的/uj', '。/x']\n['神/n', '说/v', '：/x', '「/x', '地/uv', '要/v', '发生/v', '青草/n', '和/c', '结/n', '种子/n', '的/uj', '菜蔬/n', '，/x', '并/c', '结果/n', '子/ng', '的/uj', '树木/n', '，/x', '各从其类/i', '，/x', '果子/n', '都/d', '包着/v', '核/n', '。/x', '」/x', '事/n', '就/d', '这样/r', '成/v', '了/ul', '。/x']\n['于是/c', '地/uv', '发生/v', '了/ul', '青草/n', '和/c', '结/n', '种子/n', '的/uj', '菜蔬/n', '，/x', '各从其类/i', '；/x', '并/c', '结果/n', '子/ng', '的/uj', '树木/n', '，/x', '各从其类/i', '；/x', '果子/n', '都/d', '包着/v', '核/n', '。/x', '神/n', '看着/v', '是/v', '好/a', '的/uj', '。/x']\n['有/v', '晚上/t', '，/x', '有/v', '早晨/t', '，/x', '是/v', '第三日/m', '。/x']\n['神/n', '说/v', '：/x', '「/x', '天上/s', '要有光/n', '体/n', '，/x', '可以/c', '分/v', '昼夜/t', '，/x', '作记号/n', '，/x', '定/v', '节令/n', '、/x', '日子/n', '、/x', '年岁/n', '，/x']\n['并/c', '要/v', '发光/v', '在/p', '天空/n', '，/x', '普照/nr', '在/p', '地上/s', '。/x', '」/x', '事/n', '就/d', '这样/r', '成/v', '了/ul', '。/x']\n['于是/c', '神造/v', '了/ul', '两个/m', '大/a', '光/n', '，/x', '大/a', '的/uj', '管昼/n', '，/x', '小/a', '的/uj', '管夜/n', '，/x', '又/d', '造/v', '众星/n', '，/x']\n['就/d', '把/p', '这些/r', '光/n', '摆列/v', '在/p', '天空/n', '，/x', '普照/nr', '在/p', '地上/s', '，/x']\n['管理/vn', '昼夜/t', '，/x', '分别/d', '明暗/a', '。/x', '神/n', '看着/v', '是/v', '好/a', '的/uj', '。/x']\n['有/v', '晚上/t', '，/x', '有/v', '早晨/t', '，/x', '是/v', '第四日/m', '。/x']\n['神/n', '说/v', '：/x', '「/x', '水要/b', '多多/m', '滋生/v', '有/v', '生命/vn', '的/uj', '物/n', '；/x', '要/v', '有/v', '雀鸟/n', '飞/v', '在/p', '地面/n', '以上/f', '，/x', '天空/n', '之中/r', '。/x', '」/x']\n"
     ]
    }
   ],
   "source": [
    "for tk in unv[unv.book.str.startswith('Gen') & unv.chap == 1].text_tk_j[:20]:\n",
    "    print([f'{w}/{pos}' for w, pos in tk])"
   ]
  },
  {
   "source": [
    "## Jieba + Strong"
   ],
   "cell_type": "markdown",
   "metadata": {}
  },
  {
   "cell_type": "code",
   "execution_count": 7,
   "metadata": {},
   "outputs": [],
   "source": [
    "unvs = read_bible('https://bible.fhl.net/public/dunv.tgz')"
   ]
  },
  {
   "cell_type": "code",
   "execution_count": 8,
   "metadata": {},
   "outputs": [],
   "source": [
    "unvs['text'] = unvs.text.str.replace('<\\w*>', ' ')\n",
    "unvs['text'] = unvs.text.str.replace('{ }', ' ')"
   ]
  },
  {
   "cell_type": "code",
   "execution_count": 9,
   "metadata": {},
   "outputs": [],
   "source": [
    "unvs['text_s'] = unvs.text.apply(HanziConv.toSimplified)\n",
    "unvs['text_tk'] = unvs.text_s.apply(pseg.lcut)"
   ]
  },
  {
   "cell_type": "code",
   "execution_count": 10,
   "metadata": {},
   "outputs": [
    {
     "output_type": "stream",
     "name": "stdout",
     "text": [
      "['起初/d', '神/n', '创造/v', '天/q', '地/uv']\n['地/uv', '是/v', '空虚/n', '混沌/a', '渊/n', '面/n', '黑暗/z', '神/n', '的/uj', '灵/n', '运行/v', '在/p', '水/n', '面/n', '上/f']\n['神/n', '说/v', '要/v', '有/v', '光/n', '就/d', '有/v', '了/ul', '光/n']\n['神/n', '看/v', '光/n', '是/v', '好/a', '的/uj', '就/d', '把/p', '光/n', '暗/d', '分开/v', '了/ul']\n['神/n', '称/v', '光/n', '为/p', '昼/n', '称/v', '暗/d', '为/p', '夜/t', '有/v', '晚上/t', '有/v', '早晨/t', '这/r', '是/v', '头/n', '一/m', '日/m']\n['神/n', '说/v', '诸水/nr', '之间/f', '要/v', '有/v', '空气/n', '将/d', '水/n', '分/v', '为/p', '上下/f']\n['神/n', '就/d', '造出/v', '空气/n', '将/d', '空气/n', '以下/f', '的/uj', '水/n', '空气/n', '以上/f', '的/uj', '水/n', '分开/v', '了/ul', '事/n', '就/d', '这样/r', '成/v', '了/ul']\n['神/n', '称/v', '空气/n', '为/p', '天/q', '有/v', '晚上/t', '有/v', '早晨/t', '是/v', '第二/m', '日/m']\n['神/n', '说/v', '天/q', '下/f', '的/uj', '水/n', '要聚/v', '在/p', '一/m', '处/n', '使/v', '旱地/n', '露出/v', '来/v', '事/n', '就/d', '这样/r', '成/v', '了/ul']\n['神/n', '称/v', '旱地/n', '为/p', '地/uv', '称/v', '水/n', '的/uj', '聚处/n', '为/p', '海/n', '神/n', '看着/v', '是/v', '好/a', '的/uj']\n['神/n', '说/v', '地/uv', '要/v', '发生/v', '青草/n', '和/c', '结/n', '种子/n', '的/uj', '菜蔬/n', '并/c', '结/n', '果子/n', '的/uj', '树木/n', '各从其类/i', '果子/n', '都/d', '包着/v', '核/n', '事/n', '就/d', '这样/r', '成/v', '了/ul']\n['于是/c', '地/uv', '发生/v', '了/ul', '青草/n', '和/c', '结/n', '种子/n', '的/uj', '菜蔬/n', '各从其类/i', '并/c', '结/n', '果子/n', '的/uj', '树木/n', '各从其类/i', '果子/n', '都/d', '包着/v', '核/n', '神/n', '看着/v', '是/v', '好/a', '的/uj']\n['有/v', '晚上/t', '有/v', '早晨/t', '是/v', '第三/m', '日/m']\n['神/n', '说/v', '天上/s', '要/v', '有/v', '光体/n', '可以/c', '分/v', '昼/n', '夜/t', '作记号/n', '定/v', '节令/n', '日子/n', '年岁/n']\n['并/c', '要/v', '发光/v', '在/p', '天/n', '空/n', '普照/nr', '在/p', '地上/s', '事/n', '就/d', '这样/r', '成/v', '了/ul']\n['于是/c', '神/n', '造/v', '了/ul', '两个/m', '大/a', '光/n', '大/a', '的/uj', '管/vn', '昼/n', '小/a', '的/uj', '管/vn', '夜/t', '又/d', '造/v', '众星/n']\n['就/d', '把/p', '这些/r', '光/n', '摆列/v', '在/p', '天/n', '空/n', '普照/nr', '在/p', '地上/s']\n['管理/vn', '昼/n', '夜/t', '分别/d', '明/a', '暗/d', '神/n', '看着/v', '是/v', '好/a', '的/uj']\n['有/v', '晚上/t', '有/v', '早晨/t', '是/v', '第四/m', '日/m']\n['神/n', '说/v', '水/n', '要/v', '多多/m', '滋生/v', '有/v', '生命/vn', '的/uj', '物/n', '要/v', '有/v', '雀鸟/n', '飞/n', '在/p', '地面/n', '以上/f', '天/q', '空/n', '之中/r']\n"
     ]
    }
   ],
   "source": [
    "for tk in unvs[unvs.book.str.startswith('Gen') & unvs.chap == 1].text_tk[:20]:\n",
    "    print([f'{w}/{pos}' for w, pos in tk if pos != 'x'])"
   ]
  },
  {
   "cell_type": "code",
   "execution_count": null,
   "metadata": {},
   "outputs": [],
   "source": []
  }
 ]
}