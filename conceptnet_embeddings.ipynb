{
 "metadata": {
  "language_info": {
   "codemirror_mode": {
    "name": "ipython",
    "version": 3
   },
   "file_extension": ".py",
   "mimetype": "text/x-python",
   "name": "python",
   "nbconvert_exporter": "python",
   "pygments_lexer": "ipython3",
   "version": "3.7.9-final"
  },
  "orig_nbformat": 2,
  "kernelspec": {
   "name": "cnlp",
   "display_name": "ezra",
   "language": "python"
  }
 },
 "nbformat": 4,
 "nbformat_minor": 2,
 "cells": [
  {
   "source": [
    "## Load data"
   ],
   "cell_type": "markdown",
   "metadata": {}
  },
  {
   "cell_type": "code",
   "execution_count": 1,
   "metadata": {},
   "outputs": [],
   "source": [
    "import pandas as pd\n",
    "\n",
    "embeddings = pd.read_hdf('data/mini.h5')"
   ]
  },
  {
   "cell_type": "code",
   "execution_count": 14,
   "metadata": {},
   "outputs": [
    {
     "output_type": "stream",
     "name": "stdout",
     "text": [
      "<class 'pandas.core.frame.DataFrame'>\nIndex: 1635499 entries, /c/de/####er to /c/zh/𫚉鱼\nColumns: 300 entries, 0 to 299\ndtypes: int8(300)\nmemory usage: 560.4+ MB\n"
     ]
    }
   ],
   "source": [
    "embeddings.info()"
   ]
  },
  {
   "source": [
    "## Chinese vocabs"
   ],
   "cell_type": "markdown",
   "metadata": {}
  },
  {
   "cell_type": "code",
   "execution_count": 9,
   "metadata": {},
   "outputs": [
    {
     "output_type": "execute_result",
     "data": {
      "text/plain": [
       "            0    1    2    3    4    5    6    7    8    9    ...  290  291  \\\n",
       "/c/zh/##cm   21   25  -14   -1    7   -4    4    1   -5    3  ...    0    1   \n",
       "/c/zh/0       0    1    0    5    2   -1    3    1    3    2  ...   -3   -3   \n",
       "/c/zh/0.5     0    1   -1    0    3    5    6    1    7   -6  ...    3   -1   \n",
       "/c/zh/1       1    2   -2    4    0   -2    4   -1    1    2  ...    0   -5   \n",
       "/c/zh/1s      1    3   -3   -4    2   -1    5   -9   -4    8  ...    5    0   \n",
       "...         ...  ...  ...  ...  ...  ...  ...  ...  ...  ...  ...  ...  ...   \n",
       "/c/zh/龟裂      0    0    6    1    2   -3    2   -1    1    0  ...   -1   -6   \n",
       "/c/zh/龠      -1    1    0    1   -2    2    3   -1   -2   -2  ...   -1  -14   \n",
       "/c/zh/龢       4    0   -3   -1    3    7    0    9    3   -1  ...    0   -6   \n",
       "/c/zh/𫓧      -1   -2    0   -1    5    0   -1   -1   -2   -1  ...    3    9   \n",
       "/c/zh/𫚉鱼     -2    1    0    2    0    1    6    0   -3   -3  ...    4    1   \n",
       "\n",
       "            292  293  294  295  296  297  298  299  \n",
       "/c/zh/##cm    0    3    2    0    0    0   -1   -3  \n",
       "/c/zh/0      -6   -3   -2   -2   -1   -3   -4    2  \n",
       "/c/zh/0.5     0    5   -2   -1    6    1    0    0  \n",
       "/c/zh/1      -2   -5    7    0    0    5   -1    3  \n",
       "/c/zh/1s      0    1    0   -5    1    3   -1   -1  \n",
       "...         ...  ...  ...  ...  ...  ...  ...  ...  \n",
       "/c/zh/龟裂     -3   -1   -6    0   -1    0   -2    1  \n",
       "/c/zh/龠       6   -6    5   -6    1   -3    5    5  \n",
       "/c/zh/龢       4    5    2   -2    0   -1    0    2  \n",
       "/c/zh/𫓧      -8    8    1    7   -8   -5   -6    0  \n",
       "/c/zh/𫚉鱼      0   -2    6   -3    0    8   -8    2  \n",
       "\n",
       "[270235 rows x 300 columns]"
      ],
      "text/html": "<div>\n<style scoped>\n    .dataframe tbody tr th:only-of-type {\n        vertical-align: middle;\n    }\n\n    .dataframe tbody tr th {\n        vertical-align: top;\n    }\n\n    .dataframe thead th {\n        text-align: right;\n    }\n</style>\n<table border=\"1\" class=\"dataframe\">\n  <thead>\n    <tr style=\"text-align: right;\">\n      <th></th>\n      <th>0</th>\n      <th>1</th>\n      <th>2</th>\n      <th>3</th>\n      <th>4</th>\n      <th>5</th>\n      <th>6</th>\n      <th>7</th>\n      <th>8</th>\n      <th>9</th>\n      <th>...</th>\n      <th>290</th>\n      <th>291</th>\n      <th>292</th>\n      <th>293</th>\n      <th>294</th>\n      <th>295</th>\n      <th>296</th>\n      <th>297</th>\n      <th>298</th>\n      <th>299</th>\n    </tr>\n  </thead>\n  <tbody>\n    <tr>\n      <th>/c/zh/##cm</th>\n      <td>21</td>\n      <td>25</td>\n      <td>-14</td>\n      <td>-1</td>\n      <td>7</td>\n      <td>-4</td>\n      <td>4</td>\n      <td>1</td>\n      <td>-5</td>\n      <td>3</td>\n      <td>...</td>\n      <td>0</td>\n      <td>1</td>\n      <td>0</td>\n      <td>3</td>\n      <td>2</td>\n      <td>0</td>\n      <td>0</td>\n      <td>0</td>\n      <td>-1</td>\n      <td>-3</td>\n    </tr>\n    <tr>\n      <th>/c/zh/0</th>\n      <td>0</td>\n      <td>1</td>\n      <td>0</td>\n      <td>5</td>\n      <td>2</td>\n      <td>-1</td>\n      <td>3</td>\n      <td>1</td>\n      <td>3</td>\n      <td>2</td>\n      <td>...</td>\n      <td>-3</td>\n      <td>-3</td>\n      <td>-6</td>\n      <td>-3</td>\n      <td>-2</td>\n      <td>-2</td>\n      <td>-1</td>\n      <td>-3</td>\n      <td>-4</td>\n      <td>2</td>\n    </tr>\n    <tr>\n      <th>/c/zh/0.5</th>\n      <td>0</td>\n      <td>1</td>\n      <td>-1</td>\n      <td>0</td>\n      <td>3</td>\n      <td>5</td>\n      <td>6</td>\n      <td>1</td>\n      <td>7</td>\n      <td>-6</td>\n      <td>...</td>\n      <td>3</td>\n      <td>-1</td>\n      <td>0</td>\n      <td>5</td>\n      <td>-2</td>\n      <td>-1</td>\n      <td>6</td>\n      <td>1</td>\n      <td>0</td>\n      <td>0</td>\n    </tr>\n    <tr>\n      <th>/c/zh/1</th>\n      <td>1</td>\n      <td>2</td>\n      <td>-2</td>\n      <td>4</td>\n      <td>0</td>\n      <td>-2</td>\n      <td>4</td>\n      <td>-1</td>\n      <td>1</td>\n      <td>2</td>\n      <td>...</td>\n      <td>0</td>\n      <td>-5</td>\n      <td>-2</td>\n      <td>-5</td>\n      <td>7</td>\n      <td>0</td>\n      <td>0</td>\n      <td>5</td>\n      <td>-1</td>\n      <td>3</td>\n    </tr>\n    <tr>\n      <th>/c/zh/1s</th>\n      <td>1</td>\n      <td>3</td>\n      <td>-3</td>\n      <td>-4</td>\n      <td>2</td>\n      <td>-1</td>\n      <td>5</td>\n      <td>-9</td>\n      <td>-4</td>\n      <td>8</td>\n      <td>...</td>\n      <td>5</td>\n      <td>0</td>\n      <td>0</td>\n      <td>1</td>\n      <td>0</td>\n      <td>-5</td>\n      <td>1</td>\n      <td>3</td>\n      <td>-1</td>\n      <td>-1</td>\n    </tr>\n    <tr>\n      <th>...</th>\n      <td>...</td>\n      <td>...</td>\n      <td>...</td>\n      <td>...</td>\n      <td>...</td>\n      <td>...</td>\n      <td>...</td>\n      <td>...</td>\n      <td>...</td>\n      <td>...</td>\n      <td>...</td>\n      <td>...</td>\n      <td>...</td>\n      <td>...</td>\n      <td>...</td>\n      <td>...</td>\n      <td>...</td>\n      <td>...</td>\n      <td>...</td>\n      <td>...</td>\n      <td>...</td>\n    </tr>\n    <tr>\n      <th>/c/zh/龟裂</th>\n      <td>0</td>\n      <td>0</td>\n      <td>6</td>\n      <td>1</td>\n      <td>2</td>\n      <td>-3</td>\n      <td>2</td>\n      <td>-1</td>\n      <td>1</td>\n      <td>0</td>\n      <td>...</td>\n      <td>-1</td>\n      <td>-6</td>\n      <td>-3</td>\n      <td>-1</td>\n      <td>-6</td>\n      <td>0</td>\n      <td>-1</td>\n      <td>0</td>\n      <td>-2</td>\n      <td>1</td>\n    </tr>\n    <tr>\n      <th>/c/zh/龠</th>\n      <td>-1</td>\n      <td>1</td>\n      <td>0</td>\n      <td>1</td>\n      <td>-2</td>\n      <td>2</td>\n      <td>3</td>\n      <td>-1</td>\n      <td>-2</td>\n      <td>-2</td>\n      <td>...</td>\n      <td>-1</td>\n      <td>-14</td>\n      <td>6</td>\n      <td>-6</td>\n      <td>5</td>\n      <td>-6</td>\n      <td>1</td>\n      <td>-3</td>\n      <td>5</td>\n      <td>5</td>\n    </tr>\n    <tr>\n      <th>/c/zh/龢</th>\n      <td>4</td>\n      <td>0</td>\n      <td>-3</td>\n      <td>-1</td>\n      <td>3</td>\n      <td>7</td>\n      <td>0</td>\n      <td>9</td>\n      <td>3</td>\n      <td>-1</td>\n      <td>...</td>\n      <td>0</td>\n      <td>-6</td>\n      <td>4</td>\n      <td>5</td>\n      <td>2</td>\n      <td>-2</td>\n      <td>0</td>\n      <td>-1</td>\n      <td>0</td>\n      <td>2</td>\n    </tr>\n    <tr>\n      <th>/c/zh/𫓧</th>\n      <td>-1</td>\n      <td>-2</td>\n      <td>0</td>\n      <td>-1</td>\n      <td>5</td>\n      <td>0</td>\n      <td>-1</td>\n      <td>-1</td>\n      <td>-2</td>\n      <td>-1</td>\n      <td>...</td>\n      <td>3</td>\n      <td>9</td>\n      <td>-8</td>\n      <td>8</td>\n      <td>1</td>\n      <td>7</td>\n      <td>-8</td>\n      <td>-5</td>\n      <td>-6</td>\n      <td>0</td>\n    </tr>\n    <tr>\n      <th>/c/zh/𫚉鱼</th>\n      <td>-2</td>\n      <td>1</td>\n      <td>0</td>\n      <td>2</td>\n      <td>0</td>\n      <td>1</td>\n      <td>6</td>\n      <td>0</td>\n      <td>-3</td>\n      <td>-3</td>\n      <td>...</td>\n      <td>4</td>\n      <td>1</td>\n      <td>0</td>\n      <td>-2</td>\n      <td>6</td>\n      <td>-3</td>\n      <td>0</td>\n      <td>8</td>\n      <td>-8</td>\n      <td>2</td>\n    </tr>\n  </tbody>\n</table>\n<p>270235 rows × 300 columns</p>\n</div>"
     },
     "metadata": {},
     "execution_count": 9
    }
   ],
   "source": [
    "chinese = embeddings[embeddings.index.str.startswith('/c/zh')]\n",
    "chinese"
   ]
  },
  {
   "cell_type": "code",
   "execution_count": 15,
   "metadata": {},
   "outputs": [
    {
     "output_type": "stream",
     "name": "stdout",
     "text": [
      "<class 'pandas.core.frame.DataFrame'>\nIndex: 270235 entries, /c/zh/##cm to /c/zh/𫚉鱼\nColumns: 300 entries, 0 to 299\ndtypes: int8(300)\nmemory usage: 89.4+ MB\n"
     ]
    }
   ],
   "source": [
    "chinese.info()"
   ]
  },
  {
   "cell_type": "code",
   "execution_count": 13,
   "metadata": {},
   "outputs": [
    {
     "output_type": "execute_result",
     "data": {
      "text/plain": [
       "            0    1    2    3    4    5    6    7    8    9    ...  290  291  \\\n",
       "/c/zh/事       5    3   -6   -2    3    0    0    1    7    0  ...    0   -1   \n",
       "/c/zh/事与愿违   14   17    3  -11    3  -11   -2    0    0    3  ...    2   -1   \n",
       "/c/zh/事业      4    0  -11    0    2   -1   -2    6    9   -8  ...    1   -4   \n",
       "/c/zh/事业化    -1   -1    0    1    3   -1   -4    5    1   -1  ...    0    0   \n",
       "/c/zh/事业心     0    0   -4   -1    0    1    2    3    3   -3  ...   -3    0   \n",
       "...         ...  ...  ...  ...  ...  ...  ...  ...  ...  ...  ...  ...  ...   \n",
       "/c/zh/事項      3    0   -5   -1    4    2    0   -1    7    5  ...   -1    2   \n",
       "/c/zh/事頭      3    0   -7   -3   -1    2    2   -3    6    0  ...   -2    1   \n",
       "/c/zh/事頭婆     0    5   -4   -2   -5    2    1   -6    2   -2  ...    4    0   \n",
       "/c/zh/事项      3    0   -5   -1    4    2    0   -1    6    5  ...    0    2   \n",
       "/c/zh/事體      3    0   -4   -6    0    0    0    0    6    1  ...   -1    4   \n",
       "\n",
       "            292  293  294  295  296  297  298  299  \n",
       "/c/zh/事       3   -1   -1    0   -2    3   -4    4  \n",
       "/c/zh/事与愿违    1    2   -2    2    0   -7   -1    0  \n",
       "/c/zh/事业      4    0    0    3   -2   -2   -6    3  \n",
       "/c/zh/事业化    -2   -5    0    4    2   -1   -1    1  \n",
       "/c/zh/事业心     1   -5    2   -6    3    5    3    4  \n",
       "...         ...  ...  ...  ...  ...  ...  ...  ...  \n",
       "/c/zh/事項     -1   -2   -2    4   -2    0   -2    1  \n",
       "/c/zh/事頭     -3    1   -2    4   -1    2    1    3  \n",
       "/c/zh/事頭婆    -5    0    0    0   -1    0    4    5  \n",
       "/c/zh/事项      0   -3   -2    6   -3    0   -2    0  \n",
       "/c/zh/事體      8   -1   -4    2    0   -1   -3    1  \n",
       "\n",
       "[162 rows x 300 columns]"
      ],
      "text/html": "<div>\n<style scoped>\n    .dataframe tbody tr th:only-of-type {\n        vertical-align: middle;\n    }\n\n    .dataframe tbody tr th {\n        vertical-align: top;\n    }\n\n    .dataframe thead th {\n        text-align: right;\n    }\n</style>\n<table border=\"1\" class=\"dataframe\">\n  <thead>\n    <tr style=\"text-align: right;\">\n      <th></th>\n      <th>0</th>\n      <th>1</th>\n      <th>2</th>\n      <th>3</th>\n      <th>4</th>\n      <th>5</th>\n      <th>6</th>\n      <th>7</th>\n      <th>8</th>\n      <th>9</th>\n      <th>...</th>\n      <th>290</th>\n      <th>291</th>\n      <th>292</th>\n      <th>293</th>\n      <th>294</th>\n      <th>295</th>\n      <th>296</th>\n      <th>297</th>\n      <th>298</th>\n      <th>299</th>\n    </tr>\n  </thead>\n  <tbody>\n    <tr>\n      <th>/c/zh/事</th>\n      <td>5</td>\n      <td>3</td>\n      <td>-6</td>\n      <td>-2</td>\n      <td>3</td>\n      <td>0</td>\n      <td>0</td>\n      <td>1</td>\n      <td>7</td>\n      <td>0</td>\n      <td>...</td>\n      <td>0</td>\n      <td>-1</td>\n      <td>3</td>\n      <td>-1</td>\n      <td>-1</td>\n      <td>0</td>\n      <td>-2</td>\n      <td>3</td>\n      <td>-4</td>\n      <td>4</td>\n    </tr>\n    <tr>\n      <th>/c/zh/事与愿违</th>\n      <td>14</td>\n      <td>17</td>\n      <td>3</td>\n      <td>-11</td>\n      <td>3</td>\n      <td>-11</td>\n      <td>-2</td>\n      <td>0</td>\n      <td>0</td>\n      <td>3</td>\n      <td>...</td>\n      <td>2</td>\n      <td>-1</td>\n      <td>1</td>\n      <td>2</td>\n      <td>-2</td>\n      <td>2</td>\n      <td>0</td>\n      <td>-7</td>\n      <td>-1</td>\n      <td>0</td>\n    </tr>\n    <tr>\n      <th>/c/zh/事业</th>\n      <td>4</td>\n      <td>0</td>\n      <td>-11</td>\n      <td>0</td>\n      <td>2</td>\n      <td>-1</td>\n      <td>-2</td>\n      <td>6</td>\n      <td>9</td>\n      <td>-8</td>\n      <td>...</td>\n      <td>1</td>\n      <td>-4</td>\n      <td>4</td>\n      <td>0</td>\n      <td>0</td>\n      <td>3</td>\n      <td>-2</td>\n      <td>-2</td>\n      <td>-6</td>\n      <td>3</td>\n    </tr>\n    <tr>\n      <th>/c/zh/事业化</th>\n      <td>-1</td>\n      <td>-1</td>\n      <td>0</td>\n      <td>1</td>\n      <td>3</td>\n      <td>-1</td>\n      <td>-4</td>\n      <td>5</td>\n      <td>1</td>\n      <td>-1</td>\n      <td>...</td>\n      <td>0</td>\n      <td>0</td>\n      <td>-2</td>\n      <td>-5</td>\n      <td>0</td>\n      <td>4</td>\n      <td>2</td>\n      <td>-1</td>\n      <td>-1</td>\n      <td>1</td>\n    </tr>\n    <tr>\n      <th>/c/zh/事业心</th>\n      <td>0</td>\n      <td>0</td>\n      <td>-4</td>\n      <td>-1</td>\n      <td>0</td>\n      <td>1</td>\n      <td>2</td>\n      <td>3</td>\n      <td>3</td>\n      <td>-3</td>\n      <td>...</td>\n      <td>-3</td>\n      <td>0</td>\n      <td>1</td>\n      <td>-5</td>\n      <td>2</td>\n      <td>-6</td>\n      <td>3</td>\n      <td>5</td>\n      <td>3</td>\n      <td>4</td>\n    </tr>\n    <tr>\n      <th>...</th>\n      <td>...</td>\n      <td>...</td>\n      <td>...</td>\n      <td>...</td>\n      <td>...</td>\n      <td>...</td>\n      <td>...</td>\n      <td>...</td>\n      <td>...</td>\n      <td>...</td>\n      <td>...</td>\n      <td>...</td>\n      <td>...</td>\n      <td>...</td>\n      <td>...</td>\n      <td>...</td>\n      <td>...</td>\n      <td>...</td>\n      <td>...</td>\n      <td>...</td>\n      <td>...</td>\n    </tr>\n    <tr>\n      <th>/c/zh/事項</th>\n      <td>3</td>\n      <td>0</td>\n      <td>-5</td>\n      <td>-1</td>\n      <td>4</td>\n      <td>2</td>\n      <td>0</td>\n      <td>-1</td>\n      <td>7</td>\n      <td>5</td>\n      <td>...</td>\n      <td>-1</td>\n      <td>2</td>\n      <td>-1</td>\n      <td>-2</td>\n      <td>-2</td>\n      <td>4</td>\n      <td>-2</td>\n      <td>0</td>\n      <td>-2</td>\n      <td>1</td>\n    </tr>\n    <tr>\n      <th>/c/zh/事頭</th>\n      <td>3</td>\n      <td>0</td>\n      <td>-7</td>\n      <td>-3</td>\n      <td>-1</td>\n      <td>2</td>\n      <td>2</td>\n      <td>-3</td>\n      <td>6</td>\n      <td>0</td>\n      <td>...</td>\n      <td>-2</td>\n      <td>1</td>\n      <td>-3</td>\n      <td>1</td>\n      <td>-2</td>\n      <td>4</td>\n      <td>-1</td>\n      <td>2</td>\n      <td>1</td>\n      <td>3</td>\n    </tr>\n    <tr>\n      <th>/c/zh/事頭婆</th>\n      <td>0</td>\n      <td>5</td>\n      <td>-4</td>\n      <td>-2</td>\n      <td>-5</td>\n      <td>2</td>\n      <td>1</td>\n      <td>-6</td>\n      <td>2</td>\n      <td>-2</td>\n      <td>...</td>\n      <td>4</td>\n      <td>0</td>\n      <td>-5</td>\n      <td>0</td>\n      <td>0</td>\n      <td>0</td>\n      <td>-1</td>\n      <td>0</td>\n      <td>4</td>\n      <td>5</td>\n    </tr>\n    <tr>\n      <th>/c/zh/事项</th>\n      <td>3</td>\n      <td>0</td>\n      <td>-5</td>\n      <td>-1</td>\n      <td>4</td>\n      <td>2</td>\n      <td>0</td>\n      <td>-1</td>\n      <td>6</td>\n      <td>5</td>\n      <td>...</td>\n      <td>0</td>\n      <td>2</td>\n      <td>0</td>\n      <td>-3</td>\n      <td>-2</td>\n      <td>6</td>\n      <td>-3</td>\n      <td>0</td>\n      <td>-2</td>\n      <td>0</td>\n    </tr>\n    <tr>\n      <th>/c/zh/事體</th>\n      <td>3</td>\n      <td>0</td>\n      <td>-4</td>\n      <td>-6</td>\n      <td>0</td>\n      <td>0</td>\n      <td>0</td>\n      <td>0</td>\n      <td>6</td>\n      <td>1</td>\n      <td>...</td>\n      <td>-1</td>\n      <td>4</td>\n      <td>8</td>\n      <td>-1</td>\n      <td>-4</td>\n      <td>2</td>\n      <td>0</td>\n      <td>-1</td>\n      <td>-3</td>\n      <td>1</td>\n    </tr>\n  </tbody>\n</table>\n<p>162 rows × 300 columns</p>\n</div>"
     },
     "metadata": {},
     "execution_count": 13
    }
   ],
   "source": [
    "chinese[chinese.index.str.startswith('/c/zh/事')]"
   ]
  },
  {
   "cell_type": "code",
   "execution_count": 31,
   "metadata": {},
   "outputs": [
    {
     "output_type": "execute_result",
     "data": {
      "text/plain": [
       "0.3720811684652536"
      ]
     },
     "metadata": {},
     "execution_count": 31
    }
   ],
   "source": [
    "import numpy as np\n",
    "from sklearn.metrics.pairwise import cosine_similarity\n",
    "\n",
    "def get_cosine_similarity(word1: str, word2: str) -> float:\n",
    "    vec1 = chinese.loc[f'/c/zh/{word1}'].to_numpy()\n",
    "    vec2 = chinese.loc[f'/c/zh/{word2}'].to_numpy()\n",
    "    return cosine_similarity(vec1.reshape(1, -1), vec2.reshape(1, -1))[0][0]\n",
    "\n",
    "get_cosine_similarity('歡欣', '歡樂')"
   ]
  }
 ]
}