{
 "metadata": {
  "language_info": {
   "codemirror_mode": {
    "name": "ipython",
    "version": 3
   },
   "file_extension": ".py",
   "mimetype": "text/x-python",
   "name": "python",
   "nbconvert_exporter": "python",
   "pygments_lexer": "ipython3",
   "version": "3.7.9-final"
  },
  "orig_nbformat": 2,
  "kernelspec": {
   "name": "cnlp",
   "display_name": "ezra",
   "language": "python"
  }
 },
 "nbformat": 4,
 "nbformat_minor": 2,
 "cells": [
  {
   "source": [
    "## Loopback Test"
   ],
   "cell_type": "markdown",
   "metadata": {}
  },
  {
   "source": [
    "Traditional Chinese can be converted to simplified Chinese easily, but it is hard to do the reverse operation."
   ],
   "cell_type": "markdown",
   "metadata": {}
  },
  {
   "cell_type": "code",
   "execution_count": 2,
   "metadata": {},
   "outputs": [],
   "source": [
    "from build_data import read_bible\n",
    "unv = read_bible('../data/dnstrunv')"
   ]
  },
  {
   "cell_type": "code",
   "execution_count": 3,
   "metadata": {},
   "outputs": [],
   "source": [
    "from opencc import OpenCC\n",
    "t2s = OpenCC('t2s.json')\n",
    "s2t = OpenCC('s2tw.json')"
   ]
  },
  {
   "cell_type": "code",
   "execution_count": 4,
   "metadata": {},
   "outputs": [],
   "source": [
    "text_s = unv.text.transform(t2s.convert)\n",
    "unv['loop_text'] = text_s.transform(s2t.convert)"
   ]
  },
  {
   "cell_type": "code",
   "execution_count": 5,
   "metadata": {},
   "outputs": [
    {
     "output_type": "execute_result",
     "data": {
      "text/plain": [
       "'我又看见一位天使从天降下，手里拿著无底坑的钥匙和一条大链子。'"
      ]
     },
     "metadata": {},
     "execution_count": 5
    }
   ],
   "source": [
    "text_s[31040]"
   ]
  },
  {
   "cell_type": "code",
   "execution_count": 6,
   "metadata": {},
   "outputs": [
    {
     "output_type": "execute_result",
     "data": {
      "text/plain": [
       "           book  chap  vers  \\\n",
       "25     Gen          1    26   \n",
       "27     Gen          1    28   \n",
       "74     Gen          3    19   \n",
       "190    Gen          8     7   \n",
       "196    Gen          8    13   \n",
       "...         ...   ...   ...   \n",
       "31015  Rev         18    21   \n",
       "31040  Rev         20     1   \n",
       "31043  Rev         20     4   \n",
       "31070  Rev         21    16   \n",
       "31092  Rev         22    11   \n",
       "\n",
       "                                                    text  \\\n",
       "25     神說：「我們要照著我們的形像、按著我們的樣式造人，使他們管理海裡的魚、空中的鳥、地上的牲畜，...   \n",
       "27     神就賜福給他們，又對他們說：「要生養眾多，遍滿地面，治理這地，也要管理海裡的魚、空中的鳥，和...   \n",
       "74             你必汗流滿面才得糊口，直到你歸了土，因為你是從土而出的。你本是塵土，仍要歸於塵土。   \n",
       "190                           放出一隻烏鴉去；那烏鴉飛來飛去，直到地上的水都乾了。   \n",
       "196           到挪亞六百零一歲，正月初一日，地上的水都乾了。挪亞撤去方舟的蓋觀看，便見地面上乾了。   \n",
       "...                                                  ...   \n",
       "31015  有一位大力的天使舉起一塊石頭，好像大磨石，扔在海裡，說：巴比倫大城也必這樣猛力地被扔下去，決...   \n",
       "31040                     我又看見一位天使從天降下，手裡拿著無底坑的鑰匙和一條大鍊子。   \n",
       "31043  我又看見幾個寶座，也有坐在上面的，並有審判的權柄賜給他們。我又看見那些因為給耶穌作見證，並為...   \n",
       "31070               城是四方的，長寬一樣。天使用葦子量那城，共有四千里，長、寬、高都是一樣；   \n",
       "31092      不義的，叫他仍舊不義；污穢的，叫他仍舊污穢；為義的，叫他仍舊為義；聖潔的，叫他仍舊聖潔。」   \n",
       "\n",
       "                                               loop_text  \n",
       "25     神說：「我們要照著我們的形像、按著我們的樣式造人，使他們管理海里的魚、空中的鳥、地上的牲畜，...  \n",
       "27     神就賜福給他們，又對他們說：「要生養眾多，遍滿地面，治理這地，也要管理海里的魚、空中的鳥，和...  \n",
       "74             你必汗流滿面才得餬口，直到你歸了土，因為你是從土而出的。你本是塵土，仍要歸於塵土。  \n",
       "190                           放出一隻烏鴉去；那烏鴉飛來飛去，直到地上的水都幹了。  \n",
       "196           到挪亞六百零一歲，正月初一日，地上的水都幹了。挪亞撤去方舟的蓋觀看，便見地面上幹了。  \n",
       "...                                                  ...  \n",
       "31015  有一位大力的天使舉起一塊石頭，好像大磨石，扔在海里，說：巴比倫大城也必這樣猛力地被扔下去，決...  \n",
       "31040                     我又看見一位天使從天降下，手裡拿著無底坑的鑰匙和一條大鏈子。  \n",
       "31043  我又看見幾個寶座，也有坐在上面的，並有審判的權柄賜給他們。我又看見那些因為給耶穌作見證，併為...  \n",
       "31070               城是四方的，長寬一樣。天使用葦子量那城，共有四千裡，長、寬、高都是一樣；  \n",
       "31092      不義的，叫他仍舊不義；汙穢的，叫他仍舊汙穢；為義的，叫他仍舊為義；聖潔的，叫他仍舊聖潔。」  \n",
       "\n",
       "[1552 rows x 5 columns]"
      ],
      "text/html": "<div>\n<style scoped>\n    .dataframe tbody tr th:only-of-type {\n        vertical-align: middle;\n    }\n\n    .dataframe tbody tr th {\n        vertical-align: top;\n    }\n\n    .dataframe thead th {\n        text-align: right;\n    }\n</style>\n<table border=\"1\" class=\"dataframe\">\n  <thead>\n    <tr style=\"text-align: right;\">\n      <th></th>\n      <th>book</th>\n      <th>chap</th>\n      <th>vers</th>\n      <th>text</th>\n      <th>loop_text</th>\n    </tr>\n  </thead>\n  <tbody>\n    <tr>\n      <th>25</th>\n      <td>Gen</td>\n      <td>1</td>\n      <td>26</td>\n      <td>神說：「我們要照著我們的形像、按著我們的樣式造人，使他們管理海裡的魚、空中的鳥、地上的牲畜，...</td>\n      <td>神說：「我們要照著我們的形像、按著我們的樣式造人，使他們管理海里的魚、空中的鳥、地上的牲畜，...</td>\n    </tr>\n    <tr>\n      <th>27</th>\n      <td>Gen</td>\n      <td>1</td>\n      <td>28</td>\n      <td>神就賜福給他們，又對他們說：「要生養眾多，遍滿地面，治理這地，也要管理海裡的魚、空中的鳥，和...</td>\n      <td>神就賜福給他們，又對他們說：「要生養眾多，遍滿地面，治理這地，也要管理海里的魚、空中的鳥，和...</td>\n    </tr>\n    <tr>\n      <th>74</th>\n      <td>Gen</td>\n      <td>3</td>\n      <td>19</td>\n      <td>你必汗流滿面才得糊口，直到你歸了土，因為你是從土而出的。你本是塵土，仍要歸於塵土。</td>\n      <td>你必汗流滿面才得餬口，直到你歸了土，因為你是從土而出的。你本是塵土，仍要歸於塵土。</td>\n    </tr>\n    <tr>\n      <th>190</th>\n      <td>Gen</td>\n      <td>8</td>\n      <td>7</td>\n      <td>放出一隻烏鴉去；那烏鴉飛來飛去，直到地上的水都乾了。</td>\n      <td>放出一隻烏鴉去；那烏鴉飛來飛去，直到地上的水都幹了。</td>\n    </tr>\n    <tr>\n      <th>196</th>\n      <td>Gen</td>\n      <td>8</td>\n      <td>13</td>\n      <td>到挪亞六百零一歲，正月初一日，地上的水都乾了。挪亞撤去方舟的蓋觀看，便見地面上乾了。</td>\n      <td>到挪亞六百零一歲，正月初一日，地上的水都幹了。挪亞撤去方舟的蓋觀看，便見地面上幹了。</td>\n    </tr>\n    <tr>\n      <th>...</th>\n      <td>...</td>\n      <td>...</td>\n      <td>...</td>\n      <td>...</td>\n      <td>...</td>\n    </tr>\n    <tr>\n      <th>31015</th>\n      <td>Rev</td>\n      <td>18</td>\n      <td>21</td>\n      <td>有一位大力的天使舉起一塊石頭，好像大磨石，扔在海裡，說：巴比倫大城也必這樣猛力地被扔下去，決...</td>\n      <td>有一位大力的天使舉起一塊石頭，好像大磨石，扔在海里，說：巴比倫大城也必這樣猛力地被扔下去，決...</td>\n    </tr>\n    <tr>\n      <th>31040</th>\n      <td>Rev</td>\n      <td>20</td>\n      <td>1</td>\n      <td>我又看見一位天使從天降下，手裡拿著無底坑的鑰匙和一條大鍊子。</td>\n      <td>我又看見一位天使從天降下，手裡拿著無底坑的鑰匙和一條大鏈子。</td>\n    </tr>\n    <tr>\n      <th>31043</th>\n      <td>Rev</td>\n      <td>20</td>\n      <td>4</td>\n      <td>我又看見幾個寶座，也有坐在上面的，並有審判的權柄賜給他們。我又看見那些因為給耶穌作見證，並為...</td>\n      <td>我又看見幾個寶座，也有坐在上面的，並有審判的權柄賜給他們。我又看見那些因為給耶穌作見證，併為...</td>\n    </tr>\n    <tr>\n      <th>31070</th>\n      <td>Rev</td>\n      <td>21</td>\n      <td>16</td>\n      <td>城是四方的，長寬一樣。天使用葦子量那城，共有四千里，長、寬、高都是一樣；</td>\n      <td>城是四方的，長寬一樣。天使用葦子量那城，共有四千裡，長、寬、高都是一樣；</td>\n    </tr>\n    <tr>\n      <th>31092</th>\n      <td>Rev</td>\n      <td>22</td>\n      <td>11</td>\n      <td>不義的，叫他仍舊不義；污穢的，叫他仍舊污穢；為義的，叫他仍舊為義；聖潔的，叫他仍舊聖潔。」</td>\n      <td>不義的，叫他仍舊不義；汙穢的，叫他仍舊汙穢；為義的，叫他仍舊為義；聖潔的，叫他仍舊聖潔。」</td>\n    </tr>\n  </tbody>\n</table>\n<p>1552 rows × 5 columns</p>\n</div>"
     },
     "metadata": {},
     "execution_count": 6
    }
   ],
   "source": [
    "unv[unv.loop_text != unv.text]"
   ]
  },
  {
   "source": [
    "## Double convert"
   ],
   "cell_type": "markdown",
   "metadata": {}
  },
  {
   "cell_type": "code",
   "execution_count": 10,
   "metadata": {},
   "outputs": [],
   "source": [
    "doulbe_convert = text_s.transform(t2s.convert)"
   ]
  },
  {
   "cell_type": "code",
   "execution_count": 11,
   "metadata": {},
   "outputs": [
    {
     "output_type": "execute_result",
     "data": {
      "text/plain": [
       "                                                  text  \\\n",
       "19206  它好像棕树，是镟成的，不能说话，不能行走，必须有人抬著。你们不要怕它；它不能降祸，也无力降福。   \n",
       "\n",
       "                                                  text  \n",
       "19206  它好像棕树，是旋成的，不能说话，不能行走，必须有人抬著。你们不要怕它；它不能降祸，也无力降福。  "
      ],
      "text/html": "<div>\n<style scoped>\n    .dataframe tbody tr th:only-of-type {\n        vertical-align: middle;\n    }\n\n    .dataframe tbody tr th {\n        vertical-align: top;\n    }\n\n    .dataframe thead th {\n        text-align: right;\n    }\n</style>\n<table border=\"1\" class=\"dataframe\">\n  <thead>\n    <tr style=\"text-align: right;\">\n      <th></th>\n      <th>text</th>\n      <th>text</th>\n    </tr>\n  </thead>\n  <tbody>\n    <tr>\n      <th>19206</th>\n      <td>它好像棕树，是镟成的，不能说话，不能行走，必须有人抬著。你们不要怕它；它不能降祸，也无力降福。</td>\n      <td>它好像棕树，是旋成的，不能说话，不能行走，必须有人抬著。你们不要怕它；它不能降祸，也无力降福。</td>\n    </tr>\n  </tbody>\n</table>\n</div>"
     },
     "metadata": {},
     "execution_count": 11
    }
   ],
   "source": [
    "import pandas as pd\n",
    "pd.concat([text_s, doulbe_convert], axis=1)[text_s != doulbe_convert]"
   ]
  },
  {
   "source": [
    "## Pair convert"
   ],
   "cell_type": "markdown",
   "metadata": {}
  },
  {
   "cell_type": "code",
   "execution_count": 8,
   "metadata": {},
   "outputs": [
    {
     "output_type": "stream",
     "name": "stderr",
     "text": [
      "Building prefix dict from the default dictionary ...\n",
      "Dumping model to file cache /var/folders/w0/lx0qzxln5p72qnrg392g7nyc0000gn/T/jieba.cache\n",
      "Loading model cost 1.509 seconds.\n",
      "Prefix dict has been built successfully.\n"
     ]
    }
   ],
   "source": [
    "from word_embeddings import word_tokenize\n",
    "text_s_tk = text_s.transform(lambda v: word_tokenize(v, False))"
   ]
  },
  {
   "cell_type": "code",
   "execution_count": 11,
   "metadata": {},
   "outputs": [
    {
     "output_type": "execute_result",
     "data": {
      "text/plain": [
       "0                                       [2, 1, 1, 2, 2, 1]\n",
       "1         [1, 1, 2, 2, 1, 2, 2, 1, 1, 1, 1, 2, 1, 2, 1, 1]\n",
       "2                     [1, 1, 1, 1, 3, 1, 1, 1, 1, 1, 1, 1]\n",
       "3                     [1, 1, 2, 1, 1, 1, 1, 1, 2, 2, 1, 1]\n",
       "4        [3, 1, 1, 1, 1, 1, 1, 2, 1, 1, 1, 1, 1, 2, 1, ...\n",
       "                               ...                        \n",
       "31098    [2, 1, 2, 1, 1, 1, 1, 1, 1, 1, 2, 1, 1, 1, 1, ...\n",
       "31099    [1, 1, 2, 2, 1, 2, 2, 1, 1, 2, 1, 1, 2, 1, 1, ...\n",
       "31100    [1, 2, 1, 2, 1, 1, 2, 2, 2, 1, 1, 1, 1, 1, 2, ...\n",
       "31101    [2, 2, 1, 1, 1, 1, 1, 1, 1, 1, 2, 1, 1, 1, 1, ...\n",
       "31102           [1, 3, 1, 2, 1, 1, 1, 2, 1, 1, 1, 1, 1, 1]\n",
       "Name: text, Length: 31103, dtype: object"
      ]
     },
     "metadata": {},
     "execution_count": 11
    }
   ],
   "source": [
    "tk_len = text_s_tk.transform(lambda verse: list(map(len, verse)))\n",
    "tk_len"
   ]
  },
  {
   "cell_type": "code",
   "execution_count": 21,
   "metadata": {},
   "outputs": [],
   "source": [
    "import pandas as pd\n",
    "tk_len.name = 'tk_len'\n",
    "text_len = pd.concat([unv.text, tk_len], axis=1)"
   ]
  },
  {
   "cell_type": "code",
   "execution_count": 26,
   "metadata": {},
   "outputs": [
    {
     "output_type": "execute_result",
     "data": {
      "text/plain": [
       "text               起初，神創造天地。\n",
       "tk_len    [2, 1, 1, 2, 2, 1]\n",
       "Name: 0, dtype: object"
      ]
     },
     "metadata": {},
     "execution_count": 26
    }
   ],
   "source": [
    "def cut()\n",
    "\n",
    "text_len.loc[0]"
   ]
  }
 ]
}