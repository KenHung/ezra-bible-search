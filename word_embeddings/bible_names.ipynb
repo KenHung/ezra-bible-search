{
 "metadata": {
  "language_info": {
   "codemirror_mode": {
    "name": "ipython",
    "version": 3
   },
   "file_extension": ".py",
   "mimetype": "text/x-python",
   "name": "python",
   "nbconvert_exporter": "python",
   "pygments_lexer": "ipython3",
   "version": "3.7.9-final"
  },
  "orig_nbformat": 2,
  "kernelspec": {
   "name": "cnlp",
   "display_name": "ezra",
   "language": "python"
  }
 },
 "nbformat": 4,
 "nbformat_minor": 2,
 "cells": [
  {
   "source": [
    "# Names in the Bible"
   ],
   "cell_type": "markdown",
   "metadata": {}
  },
  {
   "cell_type": "code",
   "execution_count": 1,
   "metadata": {},
   "outputs": [],
   "source": [
    "%load_ext autoreload\n",
    "%autoreload 2"
   ]
  },
  {
   "cell_type": "code",
   "execution_count": 2,
   "metadata": {},
   "outputs": [],
   "source": [
    "import numpy as np\n",
    "import pandas as pd\n",
    "\n",
    "from build_data import *\n",
    "\n",
    "ot_dict = read_cbol_dict('../data/dhfhl')\n",
    "nt_dict = read_cbol_dict('../data/dgfhl')\n",
    "ot_dict_strong = ot_dict[ot_dict.strong.astype(int) < 8675]\n",
    "cbol_dict = pd.concat([ot_dict_strong, nt_dict]).dropna().reset_index(drop=True)\n",
    "cbol_dict['def_lines'] = cbol_dict.defs.str.split('\\\\\\\\r\\\\\\\\n')"
   ]
  },
  {
   "source": [
    "Missing entry omitted at the moment."
   ],
   "cell_type": "markdown",
   "metadata": {}
  },
  {
   "cell_type": "code",
   "execution_count": 3,
   "metadata": {},
   "outputs": [
    {
     "output_type": "execute_result",
     "data": {
      "text/plain": [
       "     strong  defs\n",
       "1144  07427  <NA>"
      ],
      "text/html": "<div>\n<style scoped>\n    .dataframe tbody tr th:only-of-type {\n        vertical-align: middle;\n    }\n\n    .dataframe tbody tr th {\n        vertical-align: top;\n    }\n\n    .dataframe thead th {\n        text-align: right;\n    }\n</style>\n<table border=\"1\" class=\"dataframe\">\n  <thead>\n    <tr style=\"text-align: right;\">\n      <th></th>\n      <th>strong</th>\n      <th>defs</th>\n    </tr>\n  </thead>\n  <tbody>\n    <tr>\n      <th>1144</th>\n      <td>07427</td>\n      <td>&lt;NA&gt;</td>\n    </tr>\n  </tbody>\n</table>\n</div>"
     },
     "metadata": {},
     "execution_count": 3
    }
   ],
   "source": [
    "ot_dict[ot_dict.defs.isna()]"
   ]
  },
  {
   "cell_type": "code",
   "execution_count": 4,
   "metadata": {},
   "outputs": [
    {
     "output_type": "execute_result",
     "data": {
      "text/plain": [
       "     strong  defs\n",
       "1109  04236  <NA>\n",
       "4157  04191  <NA>"
      ],
      "text/html": "<div>\n<style scoped>\n    .dataframe tbody tr th:only-of-type {\n        vertical-align: middle;\n    }\n\n    .dataframe tbody tr th {\n        vertical-align: top;\n    }\n\n    .dataframe thead th {\n        text-align: right;\n    }\n</style>\n<table border=\"1\" class=\"dataframe\">\n  <thead>\n    <tr style=\"text-align: right;\">\n      <th></th>\n      <th>strong</th>\n      <th>defs</th>\n    </tr>\n  </thead>\n  <tbody>\n    <tr>\n      <th>1109</th>\n      <td>04236</td>\n      <td>&lt;NA&gt;</td>\n    </tr>\n    <tr>\n      <th>4157</th>\n      <td>04191</td>\n      <td>&lt;NA&gt;</td>\n    </tr>\n  </tbody>\n</table>\n</div>"
     },
     "metadata": {},
     "execution_count": 4
    }
   ],
   "source": [
    "ntna = nt_dict[nt_dict.defs.isna()]\n",
    "ntna[ntna.strong.astype(np.int32) < 5625]"
   ]
  },
  {
   "source": [
    "## Add POS"
   ],
   "cell_type": "markdown",
   "metadata": {}
  },
  {
   "cell_type": "code",
   "execution_count": 5,
   "metadata": {},
   "outputs": [
    {
     "output_type": "execute_result",
     "data": {
      "text/plain": [
       "  strong                                               defs  \\\n",
       "0  06359  06359 patiyr {paw-teer'}\\r\\n\\r\\n源自 06362; TWOT...   \n",
       "1  04000  04000 mabown {maw-bone'}\\r\\n\\r\\n源自 0995; TWOT ...   \n",
       "2  02453  02453 Chakmowniy {khak-mo-nee'}\\r\\n\\r\\n源自 0244...   \n",
       "3  03143  03143 Yowshibyah {yo-shi-yaw'}\\r\\n\\r\\n源自 03427...   \n",
       "4  03412  03412 Yarmuwth {yar-mooth'}\\r\\n\\r\\n源自 07311; 專...   \n",
       "\n",
       "                                           def_lines      pos jieba_pos  \n",
       "0  [06359 patiyr {paw-teer'}, , 源自 06362; TWOT - ...      形容詞         a  \n",
       "1  [04000 mabown {maw-bone'}, , 源自 0995; TWOT - 2...  實名詞（作名詞        nr  \n",
       "2  [02453 Chakmowniy {khak-mo-nee'}, , 源自 02449; ...   陽性專有名詞        nr  \n",
       "3  [03143 Yowshibyah {yo-shi-yaw'}, , 源自 03427 和 ...   陽性專有名詞        nr  \n",
       "4  [03412 Yarmuwth {yar-mooth'}, , 源自 07311; 專有名詞...     專有名詞        ns  "
      ],
      "text/html": "<div>\n<style scoped>\n    .dataframe tbody tr th:only-of-type {\n        vertical-align: middle;\n    }\n\n    .dataframe tbody tr th {\n        vertical-align: top;\n    }\n\n    .dataframe thead th {\n        text-align: right;\n    }\n</style>\n<table border=\"1\" class=\"dataframe\">\n  <thead>\n    <tr style=\"text-align: right;\">\n      <th></th>\n      <th>strong</th>\n      <th>defs</th>\n      <th>def_lines</th>\n      <th>pos</th>\n      <th>jieba_pos</th>\n    </tr>\n  </thead>\n  <tbody>\n    <tr>\n      <th>0</th>\n      <td>06359</td>\n      <td>06359 patiyr {paw-teer'}\\r\\n\\r\\n源自 06362; TWOT...</td>\n      <td>[06359 patiyr {paw-teer'}, , 源自 06362; TWOT - ...</td>\n      <td>形容詞</td>\n      <td>a</td>\n    </tr>\n    <tr>\n      <th>1</th>\n      <td>04000</td>\n      <td>04000 mabown {maw-bone'}\\r\\n\\r\\n源自 0995; TWOT ...</td>\n      <td>[04000 mabown {maw-bone'}, , 源自 0995; TWOT - 2...</td>\n      <td>實名詞（作名詞</td>\n      <td>nr</td>\n    </tr>\n    <tr>\n      <th>2</th>\n      <td>02453</td>\n      <td>02453 Chakmowniy {khak-mo-nee'}\\r\\n\\r\\n源自 0244...</td>\n      <td>[02453 Chakmowniy {khak-mo-nee'}, , 源自 02449; ...</td>\n      <td>陽性專有名詞</td>\n      <td>nr</td>\n    </tr>\n    <tr>\n      <th>3</th>\n      <td>03143</td>\n      <td>03143 Yowshibyah {yo-shi-yaw'}\\r\\n\\r\\n源自 03427...</td>\n      <td>[03143 Yowshibyah {yo-shi-yaw'}, , 源自 03427 和 ...</td>\n      <td>陽性專有名詞</td>\n      <td>nr</td>\n    </tr>\n    <tr>\n      <th>4</th>\n      <td>03412</td>\n      <td>03412 Yarmuwth {yar-mooth'}\\r\\n\\r\\n源自 07311; 專...</td>\n      <td>[03412 Yarmuwth {yar-mooth'}, , 源自 07311; 專有名詞...</td>\n      <td>專有名詞</td>\n      <td>ns</td>\n    </tr>\n  </tbody>\n</table>\n</div>"
     },
     "metadata": {},
     "execution_count": 5
    }
   ],
   "source": [
    "cbol_dict['pos'] = cbol_dict.def_lines.transform(find_pos)\n",
    "cbol_dict['jieba_pos'] = cbol_dict.defs.transform(jieba_pos)\n",
    "cbol_dict.head()"
   ]
  },
  {
   "source": [
    "## Extra vocabs"
   ],
   "cell_type": "markdown",
   "metadata": {}
  },
  {
   "cell_type": "code",
   "execution_count": 6,
   "metadata": {},
   "outputs": [
    {
     "output_type": "execute_result",
     "data": {
      "text/plain": [
       "      strong      name                        1       pos jieba_pos\n",
       "2      02453  哈摩尼或哈革摩尼                     \"智慧\"    陽性專有名詞        nr\n",
       "3      03143       約示比                \"耶和華使我安居\"    陽性專有名詞        nr\n",
       "4      03412        耶末                     \"高地\"      專有名詞        ns\n",
       "10     04722      瑪吉希錄                   \"集會之處\"  陰性複數專有名詞        ns\n",
       "16     06126     阿谷或亞谷                    \"險惡的\"    陽性專有名詞        nr\n",
       "...      ...       ...                      ...       ...       ...\n",
       "14482  04099       彼西底                    \"漆黑的\"      專有名詞        ns\n",
       "14489  05376        腓力                  \"馬的愛好者\"    陽性專有名詞        nr\n",
       "14490  00490       安提阿                   '與之抗衡\"      專有地名        ns\n",
       "14492  02264        希律                    \"英勇的\"    陽性專有名詞        nz\n",
       "14493  02492        約伯   \"悲痛的哭喊, 哎喲\" 或 \"我要大聲疾呼\"    陽性專有名詞        nr\n",
       "\n",
       "[3188 rows x 5 columns]"
      ],
      "text/html": "<div>\n<style scoped>\n    .dataframe tbody tr th:only-of-type {\n        vertical-align: middle;\n    }\n\n    .dataframe tbody tr th {\n        vertical-align: top;\n    }\n\n    .dataframe thead th {\n        text-align: right;\n    }\n</style>\n<table border=\"1\" class=\"dataframe\">\n  <thead>\n    <tr style=\"text-align: right;\">\n      <th></th>\n      <th>strong</th>\n      <th>name</th>\n      <th>1</th>\n      <th>pos</th>\n      <th>jieba_pos</th>\n    </tr>\n  </thead>\n  <tbody>\n    <tr>\n      <th>2</th>\n      <td>02453</td>\n      <td>哈摩尼或哈革摩尼</td>\n      <td>\"智慧\"</td>\n      <td>陽性專有名詞</td>\n      <td>nr</td>\n    </tr>\n    <tr>\n      <th>3</th>\n      <td>03143</td>\n      <td>約示比</td>\n      <td>\"耶和華使我安居\"</td>\n      <td>陽性專有名詞</td>\n      <td>nr</td>\n    </tr>\n    <tr>\n      <th>4</th>\n      <td>03412</td>\n      <td>耶末</td>\n      <td>\"高地\"</td>\n      <td>專有名詞</td>\n      <td>ns</td>\n    </tr>\n    <tr>\n      <th>10</th>\n      <td>04722</td>\n      <td>瑪吉希錄</td>\n      <td>\"集會之處\"</td>\n      <td>陰性複數專有名詞</td>\n      <td>ns</td>\n    </tr>\n    <tr>\n      <th>16</th>\n      <td>06126</td>\n      <td>阿谷或亞谷</td>\n      <td>\"險惡的\"</td>\n      <td>陽性專有名詞</td>\n      <td>nr</td>\n    </tr>\n    <tr>\n      <th>...</th>\n      <td>...</td>\n      <td>...</td>\n      <td>...</td>\n      <td>...</td>\n      <td>...</td>\n    </tr>\n    <tr>\n      <th>14482</th>\n      <td>04099</td>\n      <td>彼西底</td>\n      <td>\"漆黑的\"</td>\n      <td>專有名詞</td>\n      <td>ns</td>\n    </tr>\n    <tr>\n      <th>14489</th>\n      <td>05376</td>\n      <td>腓力</td>\n      <td>\"馬的愛好者\"</td>\n      <td>陽性專有名詞</td>\n      <td>nr</td>\n    </tr>\n    <tr>\n      <th>14490</th>\n      <td>00490</td>\n      <td>安提阿</td>\n      <td>'與之抗衡\"</td>\n      <td>專有地名</td>\n      <td>ns</td>\n    </tr>\n    <tr>\n      <th>14492</th>\n      <td>02264</td>\n      <td>希律</td>\n      <td>\"英勇的\"</td>\n      <td>陽性專有名詞</td>\n      <td>nz</td>\n    </tr>\n    <tr>\n      <th>14493</th>\n      <td>02492</td>\n      <td>約伯</td>\n      <td>\"悲痛的哭喊, 哎喲\" 或 \"我要大聲疾呼\"</td>\n      <td>陽性專有名詞</td>\n      <td>nr</td>\n    </tr>\n  </tbody>\n</table>\n<p>3188 rows × 5 columns</p>\n</div>"
     },
     "metadata": {},
     "execution_count": 6
    }
   ],
   "source": [
    "name_dict = create_name_dict(cbol_dict)\n",
    "name_dict"
   ]
  },
  {
   "cell_type": "code",
   "execution_count": 7,
   "metadata": {
    "tags": []
   },
   "outputs": [
    {
     "output_type": "execute_result",
     "data": {
      "text/plain": [
       "2      NaN\n",
       "211      ・\n",
       "Name: name_list, dtype: object"
      ]
     },
     "metadata": {},
     "execution_count": 7
    }
   ],
   "source": [
    "def is_chinese_char(cp):\n",
    "    \"\"\"Checks whether CP is the codepoint of a CJK character.\"\"\"\n",
    "    # This defines a \"chinese character\" as anything in the CJK Unicode block:\n",
    "    #   https://en.wikipedia.org/wiki/CJK_Unified_Ideographs_(Unicode_block)\n",
    "    #\n",
    "    # Note that the CJK Unicode block is NOT all Japanese and Korean characters,\n",
    "    # despite its name. The modern Korean Hangul alphabet is a different block,\n",
    "    # as is Japanese Hiragana and Katakana. Those alphabets are used to write\n",
    "    # space-separated words, so they are not treated specially and handled\n",
    "    # like the all of the other languages.\n",
    "    if (\n",
    "        (cp >= 0x4E00 and cp <= 0x9FFF)\n",
    "        or (cp >= 0x3400 and cp <= 0x4DBF)  #\n",
    "        or (cp >= 0x20000 and cp <= 0x2A6DF)  #\n",
    "        or (cp >= 0x2A700 and cp <= 0x2B73F)  #\n",
    "        or (cp >= 0x2B740 and cp <= 0x2B81F)  #\n",
    "        or (cp >= 0x2B820 and cp <= 0x2CEAF)  #\n",
    "        or (cp >= 0xF900 and cp <= 0xFAFF)\n",
    "        or (cp >= 0x2F800 and cp <= 0x2FA1F)  #\n",
    "    ):  #\n",
    "        return True\n",
    "\n",
    "    return False\n",
    "\n",
    "\n",
    "name_dict['name_list'] = name_dict.name.str.split('[或，,、/]')\n",
    "non_chinese = name_dict.name_list.explode().apply(lambda name: [char for char in name if not is_chinese_char(ord(char))]).explode().drop_duplicates()\n",
    "non_chinese"
   ]
  },
  {
   "source": [
    "## Generate names file"
   ],
   "cell_type": "markdown",
   "metadata": {}
  },
  {
   "cell_type": "code",
   "execution_count": 8,
   "metadata": {},
   "outputs": [],
   "source": [
    "from hanziconv import HanziConv\n",
    "\n",
    "def save_name_list(name_list: pd.DataFrame):\n",
    "     names = name_list.explode('name_list')\n",
    "     names['name_list'] = names.name_list.str.strip('黨族人的')\\\n",
    "                               .str.replace('・', '')\\\n",
    "                               .str.replace('毗', '毘')\\\n",
    "                               .apply(HanziConv.toSimplified)\n",
    "     names[['name_list', 'jieba_pos']].drop_duplicates('name_list')\\\n",
    "                                      .to_csv('word_tokens/names.txt', index=False, header=None, sep=' ')\n",
    "\n",
    "save_name_list(name_dict[['name_list', 'jieba_pos']])"
   ]
  },
  {
   "source": [
    "## Check name occurrances"
   ],
   "cell_type": "markdown",
   "metadata": {}
  },
  {
   "cell_type": "code",
   "execution_count": 9,
   "metadata": {},
   "outputs": [],
   "source": [
    "def search_in_bible(name_list):\n",
    "    search_pattern = name_list.apply(lambda list: f'(?:{\"|\".join(list)})')\\\n",
    "                              .str.replace('[黨族人的]', '')\\\n",
    "                              .str.replace('・', '')\\\n",
    "                              .str.replace('毗', '毘')\n",
    "    dots = r'[•‧．・\\-]'\n",
    "    unv = read_bible('../data/dnstrunv')\n",
    "    unv_text_no_dots = unv.text.str.replace(dots, '')\n",
    "    name_count = search_pattern.apply(lambda pat: unv_text_no_dots.str.count(pat).sum())\n",
    "    return name_count"
   ]
  },
  {
   "cell_type": "code",
   "execution_count": 10,
   "metadata": {},
   "outputs": [
    {
     "output_type": "execute_result",
     "data": {
      "text/plain": [
       "      strong        name                      1     pos jieba_pos  \\\n",
       "6010   03864                    \"受苦的\" (#耶46:9|)    專有名詞        nz   \n",
       "4353   03072         耶和華                 是我們的公義  陽性專有名詞        nz   \n",
       "7838   03068         耶和華                \"自有永有的\"    專有名詞        nz   \n",
       "7177   00237          以色                   \"離開\"    專有名詞        ns   \n",
       "5072   03481       以色列人的     見 以色列[3478] \"上帝勝過\"     形容詞        nr   \n",
       "5207   03478         以色列                 \"上帝勝過\"  陽性專有名詞        nz   \n",
       "4976   03479         以色列                 \"上帝勝過\"    專有名詞        nr   \n",
       "5580   03482       以色列人的   見 以色列(<3478>) \"上帝勝過\"   陰性形容詞        nr   \n",
       "7138   00203           安            \"財富\" 或 \"精力\"  陽性專有名詞        nr   \n",
       "14338  02424          耶穌               「耶和華是拯救」  陽性專有名詞        nr   \n",
       "7498   01732          大衛                 \"受鍾愛的\"  陽性專有名詞        nr   \n",
       "6766   05857  愛、亞雅、亞葉或艾城                   「荒場」    專有名詞        ns   \n",
       "11136  02448          猶大                \"他將受讚美\"    專有地名        ns   \n",
       "6446   03063          猶大                  \"讚美的\"  陽性專有名詞        nr   \n",
       "8925   02455          猶大                \"他要受讚美\"    陽性名詞        nr   \n",
       "13605  02449          猶大               \"他應當被讚美\"    專有地名        ns   \n",
       "5910   01839           但                   \"審判\"     形容詞        nr   \n",
       "8195   01835           但                   \"審判\"  陽性專有名詞        ns   \n",
       "7378   01122           便                   \"兒子\"  陽性專有名詞        nr   \n",
       "1085   01181          祭司                 \"高地之主\"    陽性名詞        nz   \n",
       "\n",
       "             name_list  occurrance  \n",
       "6010                []     1096104  \n",
       "4353             [耶和華]        6980  \n",
       "7838             [耶和華]        6980  \n",
       "7177              [以色]        2706  \n",
       "5072           [以色列人的]        2703  \n",
       "5207             [以色列]        2703  \n",
       "4976             [以色列]        2703  \n",
       "5580           [以色列人的]        2703  \n",
       "7138               [安]        1751  \n",
       "14338             [耶穌]        1640  \n",
       "7498              [大衛]        1164  \n",
       "6766   [愛, 亞雅, 亞葉, 艾城]        1040  \n",
       "11136             [猶大]        1019  \n",
       "6446              [猶大]        1019  \n",
       "8925              [猶大]        1019  \n",
       "13605             [猶大]        1019  \n",
       "5910               [但]        1014  \n",
       "8195               [但]        1014  \n",
       "7378               [便]         997  \n",
       "1085              [祭司]         950  "
      ],
      "text/html": "<div>\n<style scoped>\n    .dataframe tbody tr th:only-of-type {\n        vertical-align: middle;\n    }\n\n    .dataframe tbody tr th {\n        vertical-align: top;\n    }\n\n    .dataframe thead th {\n        text-align: right;\n    }\n</style>\n<table border=\"1\" class=\"dataframe\">\n  <thead>\n    <tr style=\"text-align: right;\">\n      <th></th>\n      <th>strong</th>\n      <th>name</th>\n      <th>1</th>\n      <th>pos</th>\n      <th>jieba_pos</th>\n      <th>name_list</th>\n      <th>occurrance</th>\n    </tr>\n  </thead>\n  <tbody>\n    <tr>\n      <th>6010</th>\n      <td>03864</td>\n      <td></td>\n      <td>\"受苦的\" (#耶46:9|)</td>\n      <td>專有名詞</td>\n      <td>nz</td>\n      <td>[]</td>\n      <td>1096104</td>\n    </tr>\n    <tr>\n      <th>4353</th>\n      <td>03072</td>\n      <td>耶和華</td>\n      <td>是我們的公義</td>\n      <td>陽性專有名詞</td>\n      <td>nz</td>\n      <td>[耶和華]</td>\n      <td>6980</td>\n    </tr>\n    <tr>\n      <th>7838</th>\n      <td>03068</td>\n      <td>耶和華</td>\n      <td>\"自有永有的\"</td>\n      <td>專有名詞</td>\n      <td>nz</td>\n      <td>[耶和華]</td>\n      <td>6980</td>\n    </tr>\n    <tr>\n      <th>7177</th>\n      <td>00237</td>\n      <td>以色</td>\n      <td>\"離開\"</td>\n      <td>專有名詞</td>\n      <td>ns</td>\n      <td>[以色]</td>\n      <td>2706</td>\n    </tr>\n    <tr>\n      <th>5072</th>\n      <td>03481</td>\n      <td>以色列人的</td>\n      <td>見 以色列[3478] \"上帝勝過\"</td>\n      <td>形容詞</td>\n      <td>nr</td>\n      <td>[以色列人的]</td>\n      <td>2703</td>\n    </tr>\n    <tr>\n      <th>5207</th>\n      <td>03478</td>\n      <td>以色列</td>\n      <td>\"上帝勝過\"</td>\n      <td>陽性專有名詞</td>\n      <td>nz</td>\n      <td>[以色列]</td>\n      <td>2703</td>\n    </tr>\n    <tr>\n      <th>4976</th>\n      <td>03479</td>\n      <td>以色列</td>\n      <td>\"上帝勝過\"</td>\n      <td>專有名詞</td>\n      <td>nr</td>\n      <td>[以色列]</td>\n      <td>2703</td>\n    </tr>\n    <tr>\n      <th>5580</th>\n      <td>03482</td>\n      <td>以色列人的</td>\n      <td>見 以色列(&lt;3478&gt;) \"上帝勝過\"</td>\n      <td>陰性形容詞</td>\n      <td>nr</td>\n      <td>[以色列人的]</td>\n      <td>2703</td>\n    </tr>\n    <tr>\n      <th>7138</th>\n      <td>00203</td>\n      <td>安</td>\n      <td>\"財富\" 或 \"精力\"</td>\n      <td>陽性專有名詞</td>\n      <td>nr</td>\n      <td>[安]</td>\n      <td>1751</td>\n    </tr>\n    <tr>\n      <th>14338</th>\n      <td>02424</td>\n      <td>耶穌</td>\n      <td>「耶和華是拯救」</td>\n      <td>陽性專有名詞</td>\n      <td>nr</td>\n      <td>[耶穌]</td>\n      <td>1640</td>\n    </tr>\n    <tr>\n      <th>7498</th>\n      <td>01732</td>\n      <td>大衛</td>\n      <td>\"受鍾愛的\"</td>\n      <td>陽性專有名詞</td>\n      <td>nr</td>\n      <td>[大衛]</td>\n      <td>1164</td>\n    </tr>\n    <tr>\n      <th>6766</th>\n      <td>05857</td>\n      <td>愛、亞雅、亞葉或艾城</td>\n      <td>「荒場」</td>\n      <td>專有名詞</td>\n      <td>ns</td>\n      <td>[愛, 亞雅, 亞葉, 艾城]</td>\n      <td>1040</td>\n    </tr>\n    <tr>\n      <th>11136</th>\n      <td>02448</td>\n      <td>猶大</td>\n      <td>\"他將受讚美\"</td>\n      <td>專有地名</td>\n      <td>ns</td>\n      <td>[猶大]</td>\n      <td>1019</td>\n    </tr>\n    <tr>\n      <th>6446</th>\n      <td>03063</td>\n      <td>猶大</td>\n      <td>\"讚美的\"</td>\n      <td>陽性專有名詞</td>\n      <td>nr</td>\n      <td>[猶大]</td>\n      <td>1019</td>\n    </tr>\n    <tr>\n      <th>8925</th>\n      <td>02455</td>\n      <td>猶大</td>\n      <td>\"他要受讚美\"</td>\n      <td>陽性名詞</td>\n      <td>nr</td>\n      <td>[猶大]</td>\n      <td>1019</td>\n    </tr>\n    <tr>\n      <th>13605</th>\n      <td>02449</td>\n      <td>猶大</td>\n      <td>\"他應當被讚美\"</td>\n      <td>專有地名</td>\n      <td>ns</td>\n      <td>[猶大]</td>\n      <td>1019</td>\n    </tr>\n    <tr>\n      <th>5910</th>\n      <td>01839</td>\n      <td>但</td>\n      <td>\"審判\"</td>\n      <td>形容詞</td>\n      <td>nr</td>\n      <td>[但]</td>\n      <td>1014</td>\n    </tr>\n    <tr>\n      <th>8195</th>\n      <td>01835</td>\n      <td>但</td>\n      <td>\"審判\"</td>\n      <td>陽性專有名詞</td>\n      <td>ns</td>\n      <td>[但]</td>\n      <td>1014</td>\n    </tr>\n    <tr>\n      <th>7378</th>\n      <td>01122</td>\n      <td>便</td>\n      <td>\"兒子\"</td>\n      <td>陽性專有名詞</td>\n      <td>nr</td>\n      <td>[便]</td>\n      <td>997</td>\n    </tr>\n    <tr>\n      <th>1085</th>\n      <td>01181</td>\n      <td>祭司</td>\n      <td>\"高地之主\"</td>\n      <td>陽性名詞</td>\n      <td>nz</td>\n      <td>[祭司]</td>\n      <td>950</td>\n    </tr>\n  </tbody>\n</table>\n</div>"
     },
     "metadata": {},
     "execution_count": 10
    }
   ],
   "source": [
    "name_dict['occurrance'] = search_in_bible(name_dict.name_list)\n",
    "name_dict.sort_values('occurrance', ascending=False)[:20]"
   ]
  },
  {
   "source": [
    "## Manual adjust names for UNV"
   ],
   "cell_type": "markdown",
   "metadata": {}
  },
  {
   "cell_type": "code",
   "execution_count": 11,
   "metadata": {},
   "outputs": [],
   "source": [
    "name_dict[name_dict.occurrance == 0].to_csv('notexist.csv')"
   ]
  },
  {
   "cell_type": "code",
   "execution_count": 12,
   "metadata": {},
   "outputs": [],
   "source": [
    "adjusted = pd.read_csv('unv_adjusted.csv', index_col=0)\n",
    "adjusted['name_list'] = adjusted.name.str.split('[或，,、/]')\n",
    "adjusted['occurrance'] = search_in_bible(adjusted.name_list)"
   ]
  },
  {
   "cell_type": "code",
   "execution_count": 13,
   "metadata": {},
   "outputs": [
    {
     "output_type": "execute_result",
     "data": {
      "text/plain": [
       "       strong    name name_list  occurrance\n",
       "1309     4723      古厄      [古厄]           0\n",
       "1755     5180    尼忽士但    [尼忽士但]           0\n",
       "5644     1045  伯・亞斯她錄  [伯・亞斯她錄]           0\n",
       "8043     1056      巴卡      [巴卡]           0\n",
       "8904     4515     拉丁文     [拉丁文]           0\n",
       "9164     3818   帕卡底亞那   [帕卡底亞那]           0\n",
       "9998     3496    尼亞波利    [尼亞波利]           0\n",
       "10598    5175   特羅基利翁   [特羅基利翁]           0\n",
       "11324    4513     拉丁文     [拉丁文]           0\n",
       "12104    3505      尼錄      [尼錄]           0\n",
       "13530    1220     得拿利     [得拿利]           0"
      ],
      "text/html": "<div>\n<style scoped>\n    .dataframe tbody tr th:only-of-type {\n        vertical-align: middle;\n    }\n\n    .dataframe tbody tr th {\n        vertical-align: top;\n    }\n\n    .dataframe thead th {\n        text-align: right;\n    }\n</style>\n<table border=\"1\" class=\"dataframe\">\n  <thead>\n    <tr style=\"text-align: right;\">\n      <th></th>\n      <th>strong</th>\n      <th>name</th>\n      <th>name_list</th>\n      <th>occurrance</th>\n    </tr>\n  </thead>\n  <tbody>\n    <tr>\n      <th>1309</th>\n      <td>4723</td>\n      <td>古厄</td>\n      <td>[古厄]</td>\n      <td>0</td>\n    </tr>\n    <tr>\n      <th>1755</th>\n      <td>5180</td>\n      <td>尼忽士但</td>\n      <td>[尼忽士但]</td>\n      <td>0</td>\n    </tr>\n    <tr>\n      <th>5644</th>\n      <td>1045</td>\n      <td>伯・亞斯她錄</td>\n      <td>[伯・亞斯她錄]</td>\n      <td>0</td>\n    </tr>\n    <tr>\n      <th>8043</th>\n      <td>1056</td>\n      <td>巴卡</td>\n      <td>[巴卡]</td>\n      <td>0</td>\n    </tr>\n    <tr>\n      <th>8904</th>\n      <td>4515</td>\n      <td>拉丁文</td>\n      <td>[拉丁文]</td>\n      <td>0</td>\n    </tr>\n    <tr>\n      <th>9164</th>\n      <td>3818</td>\n      <td>帕卡底亞那</td>\n      <td>[帕卡底亞那]</td>\n      <td>0</td>\n    </tr>\n    <tr>\n      <th>9998</th>\n      <td>3496</td>\n      <td>尼亞波利</td>\n      <td>[尼亞波利]</td>\n      <td>0</td>\n    </tr>\n    <tr>\n      <th>10598</th>\n      <td>5175</td>\n      <td>特羅基利翁</td>\n      <td>[特羅基利翁]</td>\n      <td>0</td>\n    </tr>\n    <tr>\n      <th>11324</th>\n      <td>4513</td>\n      <td>拉丁文</td>\n      <td>[拉丁文]</td>\n      <td>0</td>\n    </tr>\n    <tr>\n      <th>12104</th>\n      <td>3505</td>\n      <td>尼錄</td>\n      <td>[尼錄]</td>\n      <td>0</td>\n    </tr>\n    <tr>\n      <th>13530</th>\n      <td>1220</td>\n      <td>得拿利</td>\n      <td>[得拿利]</td>\n      <td>0</td>\n    </tr>\n  </tbody>\n</table>\n</div>"
     },
     "metadata": {},
     "execution_count": 13
    }
   ],
   "source": [
    "adjusted[adjusted.occurrance == 0]"
   ]
  },
  {
   "cell_type": "code",
   "execution_count": 14,
   "metadata": {},
   "outputs": [
    {
     "output_type": "execute_result",
     "data": {
      "text/plain": [
       "      strong     name           1     pos jieba_pos  name_list  occurrance\n",
       "214    08188       梭琳        \"大麥\"  陽性專有名詞        nr       [梭林]           0\n",
       "1309   04723       古厄         NaN    陽性名詞        ns       [古厄]           0\n",
       "1489   08234       沙斐        \"美麗\"    專有名詞        nz       [沙婓]           0\n",
       "1634   05179     尼護施她        \"黃銅\"  陰性專有名詞        nr     [尼護施他]           0\n",
       "1668   03026  伊迦爾撒哈杜他   \"以此石堆為見證\"    專有名詞        ns  [伊迦爾撒哈杜地]           0\n",
       "...      ...      ...         ...     ...       ...        ...         ...\n",
       "14232  00828     奧古斯都       \"可敬的\"  陽性專有名詞        nz     [亞古士督]           0\n",
       "14272  01179     低加坡里       \"十座城\"    專有地名        ns     [低加波利]           0\n",
       "14348  02542     凱撒利亞       \"切斷的\"    專有地名        ns     [該撒利亞]           0\n",
       "14468  00697     亞略巴古      \"戰神之巔\"    專有地名        ns     [亞略古巴]           0\n",
       "14474  03033      利比亞    \"哭泣受折磨的\"    專有地名        ns      [呂彼亞]           0\n",
       "\n",
       "[94 rows x 7 columns]"
      ],
      "text/html": "<div>\n<style scoped>\n    .dataframe tbody tr th:only-of-type {\n        vertical-align: middle;\n    }\n\n    .dataframe tbody tr th {\n        vertical-align: top;\n    }\n\n    .dataframe thead th {\n        text-align: right;\n    }\n</style>\n<table border=\"1\" class=\"dataframe\">\n  <thead>\n    <tr style=\"text-align: right;\">\n      <th></th>\n      <th>strong</th>\n      <th>name</th>\n      <th>1</th>\n      <th>pos</th>\n      <th>jieba_pos</th>\n      <th>name_list</th>\n      <th>occurrance</th>\n    </tr>\n  </thead>\n  <tbody>\n    <tr>\n      <th>214</th>\n      <td>08188</td>\n      <td>梭琳</td>\n      <td>\"大麥\"</td>\n      <td>陽性專有名詞</td>\n      <td>nr</td>\n      <td>[梭林]</td>\n      <td>0</td>\n    </tr>\n    <tr>\n      <th>1309</th>\n      <td>04723</td>\n      <td>古厄</td>\n      <td>NaN</td>\n      <td>陽性名詞</td>\n      <td>ns</td>\n      <td>[古厄]</td>\n      <td>0</td>\n    </tr>\n    <tr>\n      <th>1489</th>\n      <td>08234</td>\n      <td>沙斐</td>\n      <td>\"美麗\"</td>\n      <td>專有名詞</td>\n      <td>nz</td>\n      <td>[沙婓]</td>\n      <td>0</td>\n    </tr>\n    <tr>\n      <th>1634</th>\n      <td>05179</td>\n      <td>尼護施她</td>\n      <td>\"黃銅\"</td>\n      <td>陰性專有名詞</td>\n      <td>nr</td>\n      <td>[尼護施他]</td>\n      <td>0</td>\n    </tr>\n    <tr>\n      <th>1668</th>\n      <td>03026</td>\n      <td>伊迦爾撒哈杜他</td>\n      <td>\"以此石堆為見證\"</td>\n      <td>專有名詞</td>\n      <td>ns</td>\n      <td>[伊迦爾撒哈杜地]</td>\n      <td>0</td>\n    </tr>\n    <tr>\n      <th>...</th>\n      <td>...</td>\n      <td>...</td>\n      <td>...</td>\n      <td>...</td>\n      <td>...</td>\n      <td>...</td>\n      <td>...</td>\n    </tr>\n    <tr>\n      <th>14232</th>\n      <td>00828</td>\n      <td>奧古斯都</td>\n      <td>\"可敬的\"</td>\n      <td>陽性專有名詞</td>\n      <td>nz</td>\n      <td>[亞古士督]</td>\n      <td>0</td>\n    </tr>\n    <tr>\n      <th>14272</th>\n      <td>01179</td>\n      <td>低加坡里</td>\n      <td>\"十座城\"</td>\n      <td>專有地名</td>\n      <td>ns</td>\n      <td>[低加波利]</td>\n      <td>0</td>\n    </tr>\n    <tr>\n      <th>14348</th>\n      <td>02542</td>\n      <td>凱撒利亞</td>\n      <td>\"切斷的\"</td>\n      <td>專有地名</td>\n      <td>ns</td>\n      <td>[該撒利亞]</td>\n      <td>0</td>\n    </tr>\n    <tr>\n      <th>14468</th>\n      <td>00697</td>\n      <td>亞略巴古</td>\n      <td>\"戰神之巔\"</td>\n      <td>專有地名</td>\n      <td>ns</td>\n      <td>[亞略古巴]</td>\n      <td>0</td>\n    </tr>\n    <tr>\n      <th>14474</th>\n      <td>03033</td>\n      <td>利比亞</td>\n      <td>\"哭泣受折磨的\"</td>\n      <td>專有地名</td>\n      <td>ns</td>\n      <td>[呂彼亞]</td>\n      <td>0</td>\n    </tr>\n  </tbody>\n</table>\n<p>94 rows × 7 columns</p>\n</div>"
     },
     "metadata": {},
     "execution_count": 14
    }
   ],
   "source": [
    "name_dict.loc[adjusted.index, 'name'] = adjusted.name\n",
    "name_dict.loc[adjusted.index]"
   ]
  },
  {
   "cell_type": "code",
   "execution_count": 15,
   "metadata": {},
   "outputs": [],
   "source": [
    "name_dict['name_list'] = name_dict.name.str.split('[或，,、/]')\n",
    "save_name_list(name_dict)"
   ]
  }
 ]
}