{
 "metadata": {
  "language_info": {
   "codemirror_mode": {
    "name": "ipython",
    "version": 3
   },
   "file_extension": ".py",
   "mimetype": "text/x-python",
   "name": "python",
   "nbconvert_exporter": "python",
   "pygments_lexer": "ipython3",
   "version": "3.7.9-final"
  },
  "orig_nbformat": 2,
  "kernelspec": {
   "name": "cnlp",
   "display_name": "ezra",
   "language": "python"
  }
 },
 "nbformat": 4,
 "nbformat_minor": 2,
 "cells": [
  {
   "source": [
    "# Names in the Bible"
   ],
   "cell_type": "markdown",
   "metadata": {}
  },
  {
   "cell_type": "code",
   "execution_count": 1,
   "metadata": {},
   "outputs": [],
   "source": [
    "%load_ext autoreload\n",
    "%autoreload 2"
   ]
  },
  {
   "cell_type": "code",
   "execution_count": 2,
   "metadata": {},
   "outputs": [],
   "source": [
    "import numpy as np\n",
    "import pandas as pd\n",
    "\n",
    "from build_data import *\n",
    "\n",
    "ot_dict = read_cbol_dict('../data/dhfhl')\n",
    "nt_dict = read_cbol_dict('../data/dgfhl')\n",
    "ot_dict_strong = ot_dict[ot_dict.strong.astype(int) < 8675]\n",
    "cbol_dict = pd.concat([ot_dict_strong, nt_dict]).dropna().reset_index(drop=True)\n",
    "cbol_dict['def_lines'] = cbol_dict.defs.str.split('\\\\\\\\r\\\\\\\\n')"
   ]
  },
  {
   "source": [
    "Missing entry omitted at the moment."
   ],
   "cell_type": "markdown",
   "metadata": {}
  },
  {
   "cell_type": "code",
   "execution_count": 3,
   "metadata": {},
   "outputs": [
    {
     "output_type": "execute_result",
     "data": {
      "text/plain": [
       "     strong  defs\n",
       "1144  07427  <NA>"
      ],
      "text/html": "<div>\n<style scoped>\n    .dataframe tbody tr th:only-of-type {\n        vertical-align: middle;\n    }\n\n    .dataframe tbody tr th {\n        vertical-align: top;\n    }\n\n    .dataframe thead th {\n        text-align: right;\n    }\n</style>\n<table border=\"1\" class=\"dataframe\">\n  <thead>\n    <tr style=\"text-align: right;\">\n      <th></th>\n      <th>strong</th>\n      <th>defs</th>\n    </tr>\n  </thead>\n  <tbody>\n    <tr>\n      <th>1144</th>\n      <td>07427</td>\n      <td>&lt;NA&gt;</td>\n    </tr>\n  </tbody>\n</table>\n</div>"
     },
     "metadata": {},
     "execution_count": 3
    }
   ],
   "source": [
    "ot_dict[ot_dict.defs.isna()]"
   ]
  },
  {
   "cell_type": "code",
   "execution_count": 4,
   "metadata": {},
   "outputs": [
    {
     "output_type": "execute_result",
     "data": {
      "text/plain": [
       "     strong  defs\n",
       "1109  04236  <NA>\n",
       "4157  04191  <NA>"
      ],
      "text/html": "<div>\n<style scoped>\n    .dataframe tbody tr th:only-of-type {\n        vertical-align: middle;\n    }\n\n    .dataframe tbody tr th {\n        vertical-align: top;\n    }\n\n    .dataframe thead th {\n        text-align: right;\n    }\n</style>\n<table border=\"1\" class=\"dataframe\">\n  <thead>\n    <tr style=\"text-align: right;\">\n      <th></th>\n      <th>strong</th>\n      <th>defs</th>\n    </tr>\n  </thead>\n  <tbody>\n    <tr>\n      <th>1109</th>\n      <td>04236</td>\n      <td>&lt;NA&gt;</td>\n    </tr>\n    <tr>\n      <th>4157</th>\n      <td>04191</td>\n      <td>&lt;NA&gt;</td>\n    </tr>\n  </tbody>\n</table>\n</div>"
     },
     "metadata": {},
     "execution_count": 4
    }
   ],
   "source": [
    "ntna = nt_dict[nt_dict.defs.isna()]\n",
    "ntna[ntna.strong.astype(np.int32) < 5625]"
   ]
  },
  {
   "source": [
    "## Add POS"
   ],
   "cell_type": "markdown",
   "metadata": {}
  },
  {
   "cell_type": "code",
   "execution_count": 5,
   "metadata": {},
   "outputs": [
    {
     "output_type": "execute_result",
     "data": {
      "text/plain": [
       "  strong                                               defs  \\\n",
       "0  06359  06359 patiyr {paw-teer'}\\r\\n\\r\\n源自 06362; TWOT...   \n",
       "1  04000  04000 mabown {maw-bone'}\\r\\n\\r\\n源自 0995; TWOT ...   \n",
       "2  02453  02453 Chakmowniy {khak-mo-nee'}\\r\\n\\r\\n源自 0244...   \n",
       "3  03143  03143 Yowshibyah {yo-shi-yaw'}\\r\\n\\r\\n源自 03427...   \n",
       "4  03412  03412 Yarmuwth {yar-mooth'}\\r\\n\\r\\n源自 07311; 專...   \n",
       "\n",
       "                                           def_lines      pos jieba_pos  \n",
       "0  [06359 patiyr {paw-teer'}, , 源自 06362; TWOT - ...      形容詞         a  \n",
       "1  [04000 mabown {maw-bone'}, , 源自 0995; TWOT - 2...  實名詞（作名詞        nr  \n",
       "2  [02453 Chakmowniy {khak-mo-nee'}, , 源自 02449; ...   陽性專有名詞        nr  \n",
       "3  [03143 Yowshibyah {yo-shi-yaw'}, , 源自 03427 和 ...   陽性專有名詞        nr  \n",
       "4  [03412 Yarmuwth {yar-mooth'}, , 源自 07311; 專有名詞...     專有名詞        ns  "
      ],
      "text/html": "<div>\n<style scoped>\n    .dataframe tbody tr th:only-of-type {\n        vertical-align: middle;\n    }\n\n    .dataframe tbody tr th {\n        vertical-align: top;\n    }\n\n    .dataframe thead th {\n        text-align: right;\n    }\n</style>\n<table border=\"1\" class=\"dataframe\">\n  <thead>\n    <tr style=\"text-align: right;\">\n      <th></th>\n      <th>strong</th>\n      <th>defs</th>\n      <th>def_lines</th>\n      <th>pos</th>\n      <th>jieba_pos</th>\n    </tr>\n  </thead>\n  <tbody>\n    <tr>\n      <th>0</th>\n      <td>06359</td>\n      <td>06359 patiyr {paw-teer'}\\r\\n\\r\\n源自 06362; TWOT...</td>\n      <td>[06359 patiyr {paw-teer'}, , 源自 06362; TWOT - ...</td>\n      <td>形容詞</td>\n      <td>a</td>\n    </tr>\n    <tr>\n      <th>1</th>\n      <td>04000</td>\n      <td>04000 mabown {maw-bone'}\\r\\n\\r\\n源自 0995; TWOT ...</td>\n      <td>[04000 mabown {maw-bone'}, , 源自 0995; TWOT - 2...</td>\n      <td>實名詞（作名詞</td>\n      <td>nr</td>\n    </tr>\n    <tr>\n      <th>2</th>\n      <td>02453</td>\n      <td>02453 Chakmowniy {khak-mo-nee'}\\r\\n\\r\\n源自 0244...</td>\n      <td>[02453 Chakmowniy {khak-mo-nee'}, , 源自 02449; ...</td>\n      <td>陽性專有名詞</td>\n      <td>nr</td>\n    </tr>\n    <tr>\n      <th>3</th>\n      <td>03143</td>\n      <td>03143 Yowshibyah {yo-shi-yaw'}\\r\\n\\r\\n源自 03427...</td>\n      <td>[03143 Yowshibyah {yo-shi-yaw'}, , 源自 03427 和 ...</td>\n      <td>陽性專有名詞</td>\n      <td>nr</td>\n    </tr>\n    <tr>\n      <th>4</th>\n      <td>03412</td>\n      <td>03412 Yarmuwth {yar-mooth'}\\r\\n\\r\\n源自 07311; 專...</td>\n      <td>[03412 Yarmuwth {yar-mooth'}, , 源自 07311; 專有名詞...</td>\n      <td>專有名詞</td>\n      <td>ns</td>\n    </tr>\n  </tbody>\n</table>\n</div>"
     },
     "metadata": {},
     "execution_count": 5
    }
   ],
   "source": [
    "cbol_dict['pos'] = cbol_dict.def_lines.transform(find_pos)\n",
    "cbol_dict['jieba_pos'] = cbol_dict.defs.transform(jieba_pos)\n",
    "cbol_dict.head()"
   ]
  },
  {
   "source": [
    "## Extra vocabs"
   ],
   "cell_type": "markdown",
   "metadata": {}
  },
  {
   "cell_type": "code",
   "execution_count": 6,
   "metadata": {},
   "outputs": [
    {
     "output_type": "execute_result",
     "data": {
      "text/plain": [
       "           name                        1       pos jieba_pos\n",
       "2      哈摩尼或哈革摩尼                     \"智慧\"    陽性專有名詞        nr\n",
       "3           約示比                \"耶和華使我安居\"    陽性專有名詞        nr\n",
       "4            耶末                     \"高地\"      專有名詞        ns\n",
       "10         瑪吉希錄                   \"集會之處\"  陰性複數專有名詞        ns\n",
       "16        阿谷或亞谷                    \"險惡的\"    陽性專有名詞        nr\n",
       "...         ...                      ...       ...       ...\n",
       "14482       彼西底                    \"漆黑的\"      專有名詞        ns\n",
       "14489        腓力                  \"馬的愛好者\"    陽性專有名詞        nr\n",
       "14490       安提阿                   '與之抗衡\"      專有地名        ns\n",
       "14492        希律                    \"英勇的\"    陽性專有名詞        nz\n",
       "14493        約伯   \"悲痛的哭喊, 哎喲\" 或 \"我要大聲疾呼\"    陽性專有名詞        nr\n",
       "\n",
       "[3188 rows x 4 columns]"
      ],
      "text/html": "<div>\n<style scoped>\n    .dataframe tbody tr th:only-of-type {\n        vertical-align: middle;\n    }\n\n    .dataframe tbody tr th {\n        vertical-align: top;\n    }\n\n    .dataframe thead th {\n        text-align: right;\n    }\n</style>\n<table border=\"1\" class=\"dataframe\">\n  <thead>\n    <tr style=\"text-align: right;\">\n      <th></th>\n      <th>name</th>\n      <th>1</th>\n      <th>pos</th>\n      <th>jieba_pos</th>\n    </tr>\n  </thead>\n  <tbody>\n    <tr>\n      <th>2</th>\n      <td>哈摩尼或哈革摩尼</td>\n      <td>\"智慧\"</td>\n      <td>陽性專有名詞</td>\n      <td>nr</td>\n    </tr>\n    <tr>\n      <th>3</th>\n      <td>約示比</td>\n      <td>\"耶和華使我安居\"</td>\n      <td>陽性專有名詞</td>\n      <td>nr</td>\n    </tr>\n    <tr>\n      <th>4</th>\n      <td>耶末</td>\n      <td>\"高地\"</td>\n      <td>專有名詞</td>\n      <td>ns</td>\n    </tr>\n    <tr>\n      <th>10</th>\n      <td>瑪吉希錄</td>\n      <td>\"集會之處\"</td>\n      <td>陰性複數專有名詞</td>\n      <td>ns</td>\n    </tr>\n    <tr>\n      <th>16</th>\n      <td>阿谷或亞谷</td>\n      <td>\"險惡的\"</td>\n      <td>陽性專有名詞</td>\n      <td>nr</td>\n    </tr>\n    <tr>\n      <th>...</th>\n      <td>...</td>\n      <td>...</td>\n      <td>...</td>\n      <td>...</td>\n    </tr>\n    <tr>\n      <th>14482</th>\n      <td>彼西底</td>\n      <td>\"漆黑的\"</td>\n      <td>專有名詞</td>\n      <td>ns</td>\n    </tr>\n    <tr>\n      <th>14489</th>\n      <td>腓力</td>\n      <td>\"馬的愛好者\"</td>\n      <td>陽性專有名詞</td>\n      <td>nr</td>\n    </tr>\n    <tr>\n      <th>14490</th>\n      <td>安提阿</td>\n      <td>'與之抗衡\"</td>\n      <td>專有地名</td>\n      <td>ns</td>\n    </tr>\n    <tr>\n      <th>14492</th>\n      <td>希律</td>\n      <td>\"英勇的\"</td>\n      <td>陽性專有名詞</td>\n      <td>nz</td>\n    </tr>\n    <tr>\n      <th>14493</th>\n      <td>約伯</td>\n      <td>\"悲痛的哭喊, 哎喲\" 或 \"我要大聲疾呼\"</td>\n      <td>陽性專有名詞</td>\n      <td>nr</td>\n    </tr>\n  </tbody>\n</table>\n<p>3188 rows × 4 columns</p>\n</div>"
     },
     "metadata": {},
     "execution_count": 6
    }
   ],
   "source": [
    "name_dict = create_name_dict(cbol_dict)\n",
    "name_dict"
   ]
  },
  {
   "cell_type": "code",
   "execution_count": 7,
   "metadata": {
    "tags": []
   },
   "outputs": [
    {
     "output_type": "execute_result",
     "data": {
      "text/plain": [
       "2      NaN\n",
       "211      ・\n",
       "Name: name_list, dtype: object"
      ]
     },
     "metadata": {},
     "execution_count": 7
    }
   ],
   "source": [
    "def is_chinese_char(cp):\n",
    "    \"\"\"Checks whether CP is the codepoint of a CJK character.\"\"\"\n",
    "    # This defines a \"chinese character\" as anything in the CJK Unicode block:\n",
    "    #   https://en.wikipedia.org/wiki/CJK_Unified_Ideographs_(Unicode_block)\n",
    "    #\n",
    "    # Note that the CJK Unicode block is NOT all Japanese and Korean characters,\n",
    "    # despite its name. The modern Korean Hangul alphabet is a different block,\n",
    "    # as is Japanese Hiragana and Katakana. Those alphabets are used to write\n",
    "    # space-separated words, so they are not treated specially and handled\n",
    "    # like the all of the other languages.\n",
    "    if (\n",
    "        (cp >= 0x4E00 and cp <= 0x9FFF)\n",
    "        or (cp >= 0x3400 and cp <= 0x4DBF)  #\n",
    "        or (cp >= 0x20000 and cp <= 0x2A6DF)  #\n",
    "        or (cp >= 0x2A700 and cp <= 0x2B73F)  #\n",
    "        or (cp >= 0x2B740 and cp <= 0x2B81F)  #\n",
    "        or (cp >= 0x2B820 and cp <= 0x2CEAF)  #\n",
    "        or (cp >= 0xF900 and cp <= 0xFAFF)\n",
    "        or (cp >= 0x2F800 and cp <= 0x2FA1F)  #\n",
    "    ):  #\n",
    "        return True\n",
    "\n",
    "    return False\n",
    "\n",
    "\n",
    "name_dict['name_list'] = name_dict.name.str.split('[或，,、/]')\n",
    "non_chinese = name_dict.name_list.explode().apply(lambda name: [char for char in name if not is_chinese_char(ord(char))]).explode().drop_duplicates()\n",
    "non_chinese"
   ]
  },
  {
   "source": [
    "## Generate names file"
   ],
   "cell_type": "markdown",
   "metadata": {}
  },
  {
   "cell_type": "code",
   "execution_count": 9,
   "metadata": {},
   "outputs": [],
   "source": [
    "from hanziconv import HanziConv\n",
    "\n",
    "names = name_dict[['name_list', 'jieba_pos']].explode('name_list')\n",
    "names['name_list'] = names.name_list.str.strip('族人的')\\\n",
    "                                    .str.replace('・', '')\\\n",
    "                                    .apply(HanziConv.toSimplified)\n",
    "names.drop_duplicates('name_list')\\\n",
    "     .to_csv('word_tokens/names.txt', index=False, header=None, sep=' ')"
   ]
  },
  {
   "source": [
    "## Check name occurrances"
   ],
   "cell_type": "markdown",
   "metadata": {}
  },
  {
   "cell_type": "code",
   "execution_count": 10,
   "metadata": {},
   "outputs": [
    {
     "output_type": "execute_result",
     "data": {
      "text/plain": [
       "Series([], Name: name_list, dtype: object)"
      ]
     },
     "metadata": {},
     "execution_count": 10
    }
   ],
   "source": [
    "dots = r'[•‧．・\\-]'\n",
    "search_pattern = name_dict.name_list.apply(lambda list: f'(?:{\"|\".join(list)})').str.replace(dots, '')\n",
    "search_pattern[search_pattern.str.contains(dots)]"
   ]
  },
  {
   "cell_type": "code",
   "execution_count": 11,
   "metadata": {},
   "outputs": [],
   "source": [
    "unv = read_bible('../data/dnstrunv')"
   ]
  },
  {
   "cell_type": "code",
   "execution_count": 14,
   "metadata": {},
   "outputs": [],
   "source": [
    "unv_text_no_dots = unv.text.str.replace(dots, '')\n",
    "name_count = search_pattern.apply(lambda pat: unv_text_no_dots.str.count(pat).sum())"
   ]
  },
  {
   "cell_type": "code",
   "execution_count": 15,
   "metadata": {},
   "outputs": [
    {
     "output_type": "execute_result",
     "data": {
      "text/plain": [
       "             name                 1     pos jieba_pos        name_list  \\\n",
       "6010                \"受苦的\" (#耶46:9|)    專有名詞        nz               []   \n",
       "7838          耶和華           \"自有永有的\"    專有名詞        nz            [耶和華]   \n",
       "4353          耶和華            是我們的公義  陽性專有名詞        nz            [耶和華]   \n",
       "7177           以色              \"離開\"    專有名詞        ns             [以色]   \n",
       "5207          以色列            \"上帝勝過\"  陽性專有名詞        nz            [以色列]   \n",
       "4976          以色列            \"上帝勝過\"    專有名詞        nr            [以色列]   \n",
       "7138            安       \"財富\" 或 \"精力\"  陽性專有名詞        nr              [安]   \n",
       "14338          耶穌          「耶和華是拯救」  陽性專有名詞        nr             [耶穌]   \n",
       "7498           大衛            \"受鍾愛的\"  陽性專有名詞        nr             [大衛]   \n",
       "6766   愛、亞雅、亞葉或艾城              「荒場」    專有名詞        ns  [愛, 亞雅, 亞葉, 艾城]   \n",
       "6446           猶大             \"讚美的\"  陽性專有名詞        nr             [猶大]   \n",
       "8925           猶大           \"他要受讚美\"    陽性名詞        nr             [猶大]   \n",
       "11136          猶大           \"他將受讚美\"    專有地名        ns             [猶大]   \n",
       "13605          猶大          \"他應當被讚美\"    專有地名        ns             [猶大]   \n",
       "8195            但              \"審判\"  陽性專有名詞        ns              [但]   \n",
       "5910            但              \"審判\"     形容詞        nr              [但]   \n",
       "7378            便              \"兒子\"  陽性專有名詞        nr              [便]   \n",
       "1085           祭司            \"高地之主\"    陽性名詞        nz             [祭司]   \n",
       "5898           摩西            \"被驅策的\"  陽性專有名詞        nr             [摩西]   \n",
       "13321          摩西             \"帶出來\"  陽性專有名詞        nz             [摩西]   \n",
       "\n",
       "         count  \n",
       "6010   1096104  \n",
       "7838      6980  \n",
       "4353      6980  \n",
       "7177      2706  \n",
       "5207      2703  \n",
       "4976      2703  \n",
       "7138      1751  \n",
       "14338     1640  \n",
       "7498      1164  \n",
       "6766      1040  \n",
       "6446      1019  \n",
       "8925      1019  \n",
       "11136     1019  \n",
       "13605     1019  \n",
       "8195      1014  \n",
       "5910      1014  \n",
       "7378       997  \n",
       "1085       950  \n",
       "5898       870  \n",
       "13321      870  "
      ],
      "text/html": "<div>\n<style scoped>\n    .dataframe tbody tr th:only-of-type {\n        vertical-align: middle;\n    }\n\n    .dataframe tbody tr th {\n        vertical-align: top;\n    }\n\n    .dataframe thead th {\n        text-align: right;\n    }\n</style>\n<table border=\"1\" class=\"dataframe\">\n  <thead>\n    <tr style=\"text-align: right;\">\n      <th></th>\n      <th>name</th>\n      <th>1</th>\n      <th>pos</th>\n      <th>jieba_pos</th>\n      <th>name_list</th>\n      <th>count</th>\n    </tr>\n  </thead>\n  <tbody>\n    <tr>\n      <th>6010</th>\n      <td></td>\n      <td>\"受苦的\" (#耶46:9|)</td>\n      <td>專有名詞</td>\n      <td>nz</td>\n      <td>[]</td>\n      <td>1096104</td>\n    </tr>\n    <tr>\n      <th>7838</th>\n      <td>耶和華</td>\n      <td>\"自有永有的\"</td>\n      <td>專有名詞</td>\n      <td>nz</td>\n      <td>[耶和華]</td>\n      <td>6980</td>\n    </tr>\n    <tr>\n      <th>4353</th>\n      <td>耶和華</td>\n      <td>是我們的公義</td>\n      <td>陽性專有名詞</td>\n      <td>nz</td>\n      <td>[耶和華]</td>\n      <td>6980</td>\n    </tr>\n    <tr>\n      <th>7177</th>\n      <td>以色</td>\n      <td>\"離開\"</td>\n      <td>專有名詞</td>\n      <td>ns</td>\n      <td>[以色]</td>\n      <td>2706</td>\n    </tr>\n    <tr>\n      <th>5207</th>\n      <td>以色列</td>\n      <td>\"上帝勝過\"</td>\n      <td>陽性專有名詞</td>\n      <td>nz</td>\n      <td>[以色列]</td>\n      <td>2703</td>\n    </tr>\n    <tr>\n      <th>4976</th>\n      <td>以色列</td>\n      <td>\"上帝勝過\"</td>\n      <td>專有名詞</td>\n      <td>nr</td>\n      <td>[以色列]</td>\n      <td>2703</td>\n    </tr>\n    <tr>\n      <th>7138</th>\n      <td>安</td>\n      <td>\"財富\" 或 \"精力\"</td>\n      <td>陽性專有名詞</td>\n      <td>nr</td>\n      <td>[安]</td>\n      <td>1751</td>\n    </tr>\n    <tr>\n      <th>14338</th>\n      <td>耶穌</td>\n      <td>「耶和華是拯救」</td>\n      <td>陽性專有名詞</td>\n      <td>nr</td>\n      <td>[耶穌]</td>\n      <td>1640</td>\n    </tr>\n    <tr>\n      <th>7498</th>\n      <td>大衛</td>\n      <td>\"受鍾愛的\"</td>\n      <td>陽性專有名詞</td>\n      <td>nr</td>\n      <td>[大衛]</td>\n      <td>1164</td>\n    </tr>\n    <tr>\n      <th>6766</th>\n      <td>愛、亞雅、亞葉或艾城</td>\n      <td>「荒場」</td>\n      <td>專有名詞</td>\n      <td>ns</td>\n      <td>[愛, 亞雅, 亞葉, 艾城]</td>\n      <td>1040</td>\n    </tr>\n    <tr>\n      <th>6446</th>\n      <td>猶大</td>\n      <td>\"讚美的\"</td>\n      <td>陽性專有名詞</td>\n      <td>nr</td>\n      <td>[猶大]</td>\n      <td>1019</td>\n    </tr>\n    <tr>\n      <th>8925</th>\n      <td>猶大</td>\n      <td>\"他要受讚美\"</td>\n      <td>陽性名詞</td>\n      <td>nr</td>\n      <td>[猶大]</td>\n      <td>1019</td>\n    </tr>\n    <tr>\n      <th>11136</th>\n      <td>猶大</td>\n      <td>\"他將受讚美\"</td>\n      <td>專有地名</td>\n      <td>ns</td>\n      <td>[猶大]</td>\n      <td>1019</td>\n    </tr>\n    <tr>\n      <th>13605</th>\n      <td>猶大</td>\n      <td>\"他應當被讚美\"</td>\n      <td>專有地名</td>\n      <td>ns</td>\n      <td>[猶大]</td>\n      <td>1019</td>\n    </tr>\n    <tr>\n      <th>8195</th>\n      <td>但</td>\n      <td>\"審判\"</td>\n      <td>陽性專有名詞</td>\n      <td>ns</td>\n      <td>[但]</td>\n      <td>1014</td>\n    </tr>\n    <tr>\n      <th>5910</th>\n      <td>但</td>\n      <td>\"審判\"</td>\n      <td>形容詞</td>\n      <td>nr</td>\n      <td>[但]</td>\n      <td>1014</td>\n    </tr>\n    <tr>\n      <th>7378</th>\n      <td>便</td>\n      <td>\"兒子\"</td>\n      <td>陽性專有名詞</td>\n      <td>nr</td>\n      <td>[便]</td>\n      <td>997</td>\n    </tr>\n    <tr>\n      <th>1085</th>\n      <td>祭司</td>\n      <td>\"高地之主\"</td>\n      <td>陽性名詞</td>\n      <td>nz</td>\n      <td>[祭司]</td>\n      <td>950</td>\n    </tr>\n    <tr>\n      <th>5898</th>\n      <td>摩西</td>\n      <td>\"被驅策的\"</td>\n      <td>陽性專有名詞</td>\n      <td>nr</td>\n      <td>[摩西]</td>\n      <td>870</td>\n    </tr>\n    <tr>\n      <th>13321</th>\n      <td>摩西</td>\n      <td>\"帶出來\"</td>\n      <td>陽性專有名詞</td>\n      <td>nz</td>\n      <td>[摩西]</td>\n      <td>870</td>\n    </tr>\n  </tbody>\n</table>\n</div>"
     },
     "metadata": {},
     "execution_count": 15
    }
   ],
   "source": [
    "name_dict['count'] = name_count\n",
    "name_dict.sort_values('count', ascending=False)[:20]"
   ]
  },
  {
   "cell_type": "code",
   "execution_count": null,
   "metadata": {},
   "outputs": [],
   "source": [
    "'大馬士革' '低加坡里'"
   ]
  }
 ]
}