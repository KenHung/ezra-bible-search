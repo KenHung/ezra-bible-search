{
 "metadata": {
  "language_info": {
   "codemirror_mode": {
    "name": "ipython",
    "version": 3
   },
   "file_extension": ".py",
   "mimetype": "text/x-python",
   "name": "python",
   "nbconvert_exporter": "python",
   "pygments_lexer": "ipython3",
   "version": "3.7.9-final"
  },
  "orig_nbformat": 2,
  "kernelspec": {
   "name": "cnlp",
   "display_name": "ezra",
   "language": "python"
  }
 },
 "nbformat": 4,
 "nbformat_minor": 2,
 "cells": [
  {
   "source": [
    "# Overview of Popular Word Embeddings\n",
    "## Overall Size"
   ],
   "cell_type": "markdown",
   "metadata": {}
  },
  {
   "cell_type": "code",
   "execution_count": 9,
   "metadata": {},
   "outputs": [
    {
     "output_type": "stream",
     "name": "stdout",
     "text": [
      "<class 'pandas.core.frame.DataFrame'>\nIndex: 1635499 entries, /c/de/####er to /c/zh/𫚉鱼\nColumns: 300 entries, 0 to 299\ndtypes: int8(300)\nmemory usage: 480.4+ MB\n"
     ]
    }
   ],
   "source": [
    "import pandas as pd\n",
    "\n",
    "conceptnet = pd.read_hdf('mini.h5')\n",
    "conceptnet.info()"
   ]
  },
  {
   "cell_type": "code",
   "execution_count": 1,
   "metadata": {},
   "outputs": [
    {
     "output_type": "stream",
     "name": "stdout",
     "text": [
      "Downloading https://dl.fbaipublicfiles.com/fasttext/vectors-crawl/cc.zh.300.bin.gz\n",
      "\n"
     ]
    }
   ],
   "source": [
    "import fasttext.util\n",
    "fasttext.util.download_model('zh', if_exists='ignore')\n",
    "ft = fasttext.load_model('cc.zh.300.bin')"
   ]
  },
  {
   "cell_type": "code",
   "execution_count": 31,
   "metadata": {},
   "outputs": [
    {
     "output_type": "stream",
     "name": "stdout",
     "text": [
      "-rw-r--r--  1 Ken  staff   6.7G Jan  1 11:05 cc.zh.300.bin\n-rw-r--r--@ 1 Ken  staff   4.2G Jan  1 11:01 cc.zh.300.bin.gz\n"
     ]
    }
   ],
   "source": [
    "!ls -lh cc.zh.300.bin*"
   ]
  },
  {
   "source": [
    "## Chinese vocabs"
   ],
   "cell_type": "markdown",
   "metadata": {}
  },
  {
   "cell_type": "code",
   "execution_count": 10,
   "metadata": {},
   "outputs": [
    {
     "output_type": "stream",
     "name": "stdout",
     "text": [
      "<class 'pandas.core.frame.DataFrame'>\nIndex: 270235 entries, /c/zh/##cm to /c/zh/𫚉鱼\nColumns: 300 entries, 0 to 299\ndtypes: int8(300)\nmemory usage: 79.4+ MB\n"
     ]
    }
   ],
   "source": [
    "conceptnet_zh = conceptnet[conceptnet.index.str.startswith('/c/zh')]\n",
    "conceptnet_zh.info()"
   ]
  },
  {
   "cell_type": "code",
   "execution_count": 11,
   "metadata": {},
   "outputs": [
    {
     "output_type": "execute_result",
     "data": {
      "text/plain": [
       "2000000"
      ]
     },
     "metadata": {},
     "execution_count": 11
    }
   ],
   "source": [
    "len(ft.words)"
   ]
  },
  {
   "source": [
    "## Simple words compare"
   ],
   "cell_type": "markdown",
   "metadata": {}
  },
  {
   "cell_type": "code",
   "execution_count": 24,
   "metadata": {},
   "outputs": [],
   "source": [
    "from sklearn.metrics.pairwise import cosine_similarity\n",
    "\n",
    "def word_similarity(get_vector, word1: str, word2: str) -> float:\n",
    "    vec1 = get_vector(word1)\n",
    "    vec2 = get_vector(word2)\n",
    "    return cosine_similarity(vec1.reshape(1, -1), vec2.reshape(1, -1))[0][0]\n",
    "\n",
    "def compare_words(get_vector):\n",
    "    word_list = [\n",
    "        ('歡欣', '歡樂'),\n",
    "        ('喜樂', '快樂'),\n",
    "        ('高興', '喜樂'),\n",
    "        ('服事', '事奉'),\n",
    "        ('敬畏', '害怕'),\n",
    "        ('祈禱', '是'),\n",
    "        ('祈禱', '禱告'),\n",
    "        ('要说', '挂虑'),\n",
    "        ('喜樂', '苦難'),\n",
    "        ('喜乐', '苦难'),\n",
    "        ('喜乐', '荣耀'),\n",
    "        ('喜乐', '财利')\n",
    "    ]\n",
    "    for word_pair in word_list:\n",
    "        print(f'{word_pair}: {word_similarity(get_vector, *word_pair)}')"
   ]
  },
  {
   "cell_type": "code",
   "execution_count": 25,
   "metadata": {},
   "outputs": [
    {
     "output_type": "stream",
     "name": "stdout",
     "text": [
      "('歡欣', '歡樂'): 0.3720811684652536\n('喜樂', '快樂'): 0.5790454036495138\n('高興', '喜樂'): 0.4737319536936434\n('服事', '事奉'): 0.7964751831365556\n('敬畏', '害怕'): 0.288557222094775\n('祈禱', '是'): 0.08305685928015732\n('祈禱', '禱告'): 0.857233449674653\n('要说', '挂虑'): 0.3776188264138286\n('喜樂', '苦難'): 0.2665470615835611\n('喜乐', '苦难'): 0.31398705785159253\n('喜乐', '荣耀'): 0.35288771270497\n('喜乐', '财利'): 0.28057389650354214\n"
     ]
    }
   ],
   "source": [
    "compare_words(lambda word: conceptnet_zh.loc[f'/c/zh/{word}'].to_numpy())"
   ]
  },
  {
   "cell_type": "code",
   "execution_count": 26,
   "metadata": {},
   "outputs": [
    {
     "output_type": "stream",
     "name": "stdout",
     "text": [
      "('歡欣', '歡樂'): 0.5454975962638855\n('喜樂', '快樂'): 0.5811575651168823\n('高興', '喜樂'): 0.4076387882232666\n('服事', '事奉'): 0.7572233080863953\n('敬畏', '害怕'): 0.4587634205818176\n('祈禱', '是'): 0.08488503843545914\n('祈禱', '禱告'): 0.7417813539505005\n('要说', '挂虑'): 0.27075880765914917\n('喜樂', '苦難'): 0.5265867710113525\n('喜乐', '苦难'): 0.49321168661117554\n('喜乐', '荣耀'): 0.43432387709617615\n('喜乐', '财利'): 0.3900814652442932\n"
     ]
    }
   ],
   "source": [
    "compare_words(ft.get_word_vector)"
   ]
  },
  {
   "cell_type": "code",
   "execution_count": null,
   "metadata": {},
   "outputs": [],
   "source": []
  }
 ]
}