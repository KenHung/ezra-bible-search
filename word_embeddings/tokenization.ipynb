{
 "metadata": {
  "language_info": {
   "codemirror_mode": {
    "name": "ipython",
    "version": 3
   },
   "file_extension": ".py",
   "mimetype": "text/x-python",
   "name": "python",
   "nbconvert_exporter": "python",
   "pygments_lexer": "ipython3",
   "version": "3.7.9-final"
  },
  "orig_nbformat": 2,
  "kernelspec": {
   "name": "cnlp",
   "display_name": "ezra",
   "language": "python"
  }
 },
 "nbformat": 4,
 "nbformat_minor": 2,
 "cells": [
  {
   "source": [
    "# Tokenization Analysis"
   ],
   "cell_type": "markdown",
   "metadata": {}
  },
  {
   "cell_type": "code",
   "execution_count": 1,
   "metadata": {},
   "outputs": [],
   "source": [
    "import sys\n",
    "sys.path.append('..')\n",
    "\n",
    "from hanziconv import HanziConv\n",
    "import jieba\n",
    "import jieba.posseg as pseg\n",
    "\n",
    "from build_data import read_bible\n",
    "\n",
    "unv = read_bible('../data/dnstrunv')\n",
    "unv['text_s'] = unv.text.apply(HanziConv.toSimplified)"
   ]
  },
  {
   "cell_type": "code",
   "execution_count": 2,
   "metadata": {},
   "outputs": [],
   "source": [
    "def print_tokens(tokens):\n",
    "    for i, tk in enumerate(tokens):\n",
    "        print(str(i + 1) + ': ' + '  '.join(f'{w}/{pos}' for w, pos in tk if pos != 'x'))"
   ]
  },
  {
   "source": [
    "## Jieba"
   ],
   "cell_type": "markdown",
   "metadata": {}
  },
  {
   "cell_type": "code",
   "execution_count": 3,
   "metadata": {},
   "outputs": [
    {
     "output_type": "stream",
     "name": "stderr",
     "text": [
      "Building prefix dict from the default dictionary ...\n",
      "Loading model from cache /var/folders/w0/lx0qzxln5p72qnrg392g7nyc0000gn/T/jieba.cache\n",
      "Loading model cost 2.595 seconds.\n",
      "Prefix dict has been built successfully.\n"
     ]
    }
   ],
   "source": [
    "unv['text_tk'] = unv.text_s.apply(pseg.lcut)"
   ]
  },
  {
   "cell_type": "code",
   "execution_count": 4,
   "metadata": {},
   "outputs": [
    {
     "output_type": "stream",
     "name": "stdout",
     "text": [
      "1: 有/v  一个/m  法利赛/ns  人/n  名叫/v  尼哥/ns  底母/n  是/v  犹太人/nz  的/uj  官/n\n2: 这/r  人/n  夜里/t  来/v  见/v  耶稣/nr  说/v  拉比/j  我们/r  知道/v  你/r  是/v  由/p  神/n  那里/r  来/v  作/v  师傅/nr  的/uj  因为/c  你/r  所行/v  的/uj  神/n  蹟/zg  若/c  没有/v  神同/a  在/p  无人/n  能/v  行/zg\n3: 耶稣/nr  回答/v  说/v  我/r  实实在在/z  地/uv  告诉/v  你/r  人/n  若/c  不/d  重生/n  就/d  不能/v  见/v  神/n  的/uj  国/n\n4: 尼哥/ns  底母/n  说/v  人/n  已经/d  老/a  了/ul  如何/r  能/v  重生/n  呢/y  岂能/v  再/d  进/v  母腹/n  生/vn  出来/v  吗/y\n5: 耶稣/nr  说/v  我/r  实实在在/z  地/uv  告诉/v  你/r  人/n  若/c  不是/c  从/p  水/n  和/c  圣灵/n  生/v  的/uj  就/d  不能/v  进神/v  的/uj  国/n\n6: 从/p  肉身/n  生/v  的/uj  就是/d  肉身/n  从/p  灵生/n  的/uj  就是/d  灵/nr\n7: 我/r  说/v  你们/r  必须/d  重生/n  你/r  不要/df  以为/c  希奇/nr\n8: 风/n  随着/p  意思/n  吹/v  你/r  听见/v  风/n  的/uj  响声/n  却/d  不/d  晓得/v  从/p  哪里/r  来/v  往/zg  哪里/r  去/v  凡/d  从/p  圣灵/n  生/v  的/uj  也/d  是/v  如此/c\n9: 尼哥/ns  底母/n  问/v  他/r  说/v  怎/r  能/v  有/v  这事/r  呢/y\n10: 耶稣/nr  回答/v  说/v  你/r  是/v  以色列/ns  人/n  的/uj  先生/n  还/d  不/d  明白/nr  这事/r  吗/y\n11: 我/r  实实在在/z  地/uv  告诉/v  你/r  我们/r  所说/c  的/uj  是/v  我们/r  知道/v  的/uj  我们/r  所/c  见证/v  的/uj  是/v  我们/r  见/v  过/ug  的/uj  你们/r  却/d  不/d  领受/v  我们/r  的/uj  见证/v\n12: 我/r  对/p  你们/r  说/v  地上/s  的/uj  事/n  你们/r  尚且/c  不/d  信/n  若/c  说/v  天上/s  的/uj  事/n  如何/r  能/v  信/n  呢/y\n13: 除了/p  从天/t  降下/v  仍旧/d  在/p  天/q  的/uj  人子/n  没有/v  人/n  升/v  过天/t\n14: 摩西/ns  在/p  旷野/nr  怎样/r  举蛇/n  人子/n  也/d  必/d  照样/d  被/p  举/v  起来/v\n15: 叫/v  一切/r  信/n  他/r  的/uj  都/d  得/ud  永生/b  或/c  译/n  叫/v  一切/r  信/n  的/uj  人/n  在/p  他/r  里面/f  得/ud  永生/b\n16: 神爱世人/nr  甚至/d  将/d  他/r  的/uj  独生子/n  赐给/v  他们/r  叫/v  一切/r  信/n  他/r  的/uj  不致/c  灭亡/v  反/zg  得/ud  永生/b\n17: 因为/c  神差/n  他/r  的/uj  儿子/n  降世/v  不是/c  要定/v  世人/n  的/uj  罪/n  或/c  译/n  审判/vn  世人/n  下同/v  乃是/c  要/v  叫/v  世人/n  因/p  他/r  得救/v\n18: 信/n  他/r  的/uj  人/n  不/d  被/p  定罪/vn  不信/v  的/uj  人/n  罪/zg  已经/d  定/v  了/ul  因为/c  他/r  不/d  信神/n  独生子/n  的/uj  名/n\n19: 光/n  来到/v  世间/n  世人/n  因/p  自己/r  的/uj  行为/v  是/v  恶/a  的/uj  不/d  爱/v  光/n  倒/v  爱/v  黑暗/z  定/v  他们/r  的/uj  罪/n  就是/d  在/p  此/r\n20: 凡/d  作恶/v  的/uj  便/d  恨/v  光/n  并/c  不来/v  就/d  光/n  恐怕/d  他/r  的/uj  行为/v  受/v  责备/n\n21: 但/c  行/n  真理/n  的/uj  必来/d  就/d  光/n  要/v  显明/v  他/r  所行/v  的/uj  是/v  靠/v  神/n  而/c  行/n\n22: 这/r  事/n  以后/f  耶稣/nr  和/c  门徒/n  到/v  了/ul  犹太/nz  地/uv  在/p  那里/r  居住/v  施洗/vn\n23: 约翰/nrt  在/p  靠近/v  撒/v  冷/a  的/uj  哀嫩/a  也/d  施洗/vn  因为/c  那里/r  水/n  多/m  众人/n  都/d  去/v  受洗/v\n24: 那时/r  约翰/nrt  还/d  没有/v  下在/t  监/j  里/f\n25: 约翰/nrt  的/uj  门徒/n  和/c  一个/m  犹太人/nz  辩论/n  洁净/z  的/uj  礼/n\n26: 就/d  来/v  见/v  约翰/nrt  说/v  拉比/j  从前/t  同/p  你/r  在/p  约旦河/ns  外/f  你/r  所/u  见证/v  的/uj  那位/r  现在/t  施洗/vn  众人/n  都/d  往/p  他/r  那里/r  去/v  了/ul\n27: 约翰/nrt  说/v  若/c  不是/c  从/p  天上/s  赐/v  的/uj  人/n  就/d  不能/v  得/ud  甚么/r\n28: 我/r  曾/d  说/v  我/r  不是/c  基督/n  是/v  奉/v  差遣/v  在/p  他/r  前面/f  的/uj  你们/r  自己/r  可以/c  给/p  我/r  作/v  见证/v\n29: 娶/v  新妇/n  的/uj  就是/d  新郎/n  新郎/n  的/uj  朋友/n  站/v  着/uz  听见/v  新郎/n  的/uj  声音/n  就/d  甚/d  喜乐/ns  故此/c  我/r  这/r  喜乐/ns  满足/v  了/ul\n30: 他/r  必/d  兴旺/ns  我/r  必/d  衰微/a\n31: 从/p  天上/s  来/v  的/uj  是/v  在/p  万/m  有/v  之上/f  从/p  地上/s  来/v  的/uj  是/v  属乎/v  地/n  他/r  所说/c  的/uj  也/d  是/v  属乎/v  地/n  从/p  天上/s  来/v  的/uj  是/v  在/p  万/m  有/v  之上/f\n32: 他/r  将/d  所见所闻/i  的/uj  见证/v  出来/v  只是/c  没有/v  人/n  领受/v  他/r  的/uj  见证/v\n33: 那/r  领受/v  他/r  见证/v  的/uj  就/d  印/v  上/f  印/ns  证明/n  神/n  是/v  真的/d\n34: 神所差来/l  的/uj  就/d  说/v  神/n  的话/u  因为/c  神赐/nr  圣灵/n  给/p  他/r  是/v  没有/v  限量/n  的/uj\n35: 父爱/n  子/ng  已/d  将/d  万/m  有/v  交/v  在/p  他/r  手里/s\n36: 信子/n  的/uj  人/n  有/v  永生/b  不/d  信子/n  的/uj  人/n  得/ud  不/d  着/uz  永生/b  原文/n  是/v  不得/v  见/v  永生/b  神/n  的/uj  震怒/v  常/d  在/p  他/r  身上/s\n"
     ]
    }
   ],
   "source": [
    "print_tokens(unv.text_tk[unv.book.str.startswith('John') & (unv.chap == 3)])"
   ]
  },
  {
   "source": [
    "## Jieba + Dict"
   ],
   "cell_type": "markdown",
   "metadata": {}
  },
  {
   "cell_type": "code",
   "execution_count": 5,
   "metadata": {},
   "outputs": [],
   "source": [
    "jieba.load_userdict('bible_terms.txt')\n",
    "\n",
    "with_dict = unv.text_s.apply(pseg.lcut)"
   ]
  },
  {
   "cell_type": "code",
   "execution_count": 6,
   "metadata": {},
   "outputs": [
    {
     "output_type": "stream",
     "name": "stdout",
     "text": [
      "1: 有/v  一个/m  法利赛/ns  人/n  名叫/v  尼哥底母/nz  是/v  犹太人/nz  的/uj  官/n\n2: 这/r  人/n  夜里/t  来/v  见/v  耶稣/nr  说/v  拉比/j  我们/r  知道/v  你/r  是/v  由/p  神/n  那里/r  来/v  作/v  师傅/nr  的/uj  因为/c  你/r  所行/v  的/uj  神/n  蹟/zg  若/c  没有/v  神同/a  在/p  无人/n  能/v  行/zg\n3: 耶稣/nr  回答/v  说/v  我/r  实实在在/z  地/uv  告诉/v  你/r  人/n  若/c  不/d  重生/n  就/d  不能/v  见/v  神/n  的/uj  国/n\n4: 尼哥底母/nz  说/v  人/n  已经/d  老/a  了/ul  如何/r  能/v  重生/n  呢/y  岂能/v  再/d  进/v  母腹/n  生/vn  出来/v  吗/y\n5: 耶稣/nr  说/v  我/r  实实在在/z  地/uv  告诉/v  你/r  人/n  若/c  不是/c  从/p  水/n  和/c  圣灵/n  生/v  的/uj  就/d  不能/v  进神/v  的/uj  国/n\n6: 从/p  肉身/n  生/v  的/uj  就是/d  肉身/n  从/p  灵生/n  的/uj  就是/d  灵/nr\n7: 我/r  说/v  你们/r  必须/d  重生/n  你/r  不要/df  以为/c  希奇/nr\n8: 风/n  随着/p  意思/n  吹/v  你/r  听见/v  风/n  的/uj  响声/n  却/d  不/d  晓得/v  从/p  哪里/r  来/v  往/zg  哪里/r  去/v  凡/d  从/p  圣灵/n  生/v  的/uj  也/d  是/v  如此/c\n9: 尼哥底母/nz  问/v  他/r  说/v  怎/r  能/v  有/v  这事/r  呢/y\n10: 耶稣/nr  回答/v  说/v  你/r  是/v  以色列/nr  人/n  的/uj  先生/n  还/d  不/d  明白/nr  这事/r  吗/y\n11: 我/r  实实在在/z  地/uv  告诉/v  你/r  我们/r  所说/c  的/uj  是/v  我们/r  知道/v  的/uj  我们/r  所/c  见证/v  的/uj  是/v  我们/r  见/v  过/ug  的/uj  你们/r  却/d  不/d  领受/v  我们/r  的/uj  见证/v\n12: 我/r  对/p  你们/r  说/v  地上/s  的/uj  事/n  你们/r  尚且/c  不/d  信/n  若/c  说/v  天上/s  的/uj  事/n  如何/r  能/v  信/n  呢/y\n13: 除了/p  从天/t  降下/v  仍旧/d  在/p  天/q  的/uj  人子/n  没有/v  人/n  升/v  过天/t\n14: 摩西/nz  在/p  旷野/nr  怎样/r  举蛇/n  人子/n  也/d  必/d  照样/d  被/p  举/v  起来/v\n15: 叫/v  一切/r  信/n  他/r  的/uj  都/d  得/ud  永生/b  或/c  译/n  叫/v  一切/r  信/n  的/uj  人/n  在/p  他/r  里面/f  得/ud  永生/b\n16: 神爱世人/nr  甚至/d  将/d  他/r  的/uj  独生子/n  赐给/v  他们/r  叫/v  一切/r  信/n  他/r  的/uj  不致/c  灭亡/v  反/zg  得/ud  永生/b\n17: 因为/c  神差/n  他/r  的/uj  儿子/n  降世/v  不是/c  要定/v  世人/n  的/uj  罪/n  或/c  译/n  审判/vn  世人/n  下同/v  乃是/c  要/v  叫/v  世人/n  因/p  他/r  得救/v\n18: 信/n  他/r  的/uj  人/n  不/d  被/p  定罪/vn  不信/v  的/uj  人/n  罪/zg  已经/d  定/v  了/ul  因为/c  他/r  不/d  信神/n  独生子/n  的/uj  名/n\n19: 光/n  来到/v  世间/n  世人/n  因/p  自己/r  的/uj  行为/v  是/v  恶/a  的/uj  不/d  爱/v  光/n  倒/v  爱/v  黑暗/z  定/v  他们/r  的/uj  罪/n  就是/d  在/p  此/r\n20: 凡/d  作恶/v  的/uj  便/d  恨/v  光/n  并/c  不来/v  就/d  光/n  恐怕/d  他/r  的/uj  行为/v  受/v  责备/n\n21: 但/c  行/n  真理/n  的/uj  必来/d  就/d  光/n  要/v  显明/v  他/r  所行/v  的/uj  是/v  靠/v  神/n  而/c  行/n\n22: 这/r  事/n  以后/f  耶稣/nr  和/c  门徒/n  到/v  了/ul  犹太/nz  地/uv  在/p  那里/r  居住/v  施洗/vn\n23: 约翰/nz  在/p  靠近/v  撒冷/ns  的/uj  哀嫩/ns  也/d  施洗/vn  因为/c  那里/r  水/n  多/m  众人/n  都/d  去/v  受洗/v\n24: 那时/r  约翰/nz  还/d  没有/v  下在/t  监/j  里/f\n25: 约翰/nz  的/uj  门徒/n  和/c  一个/m  犹太人/nz  辩论/n  洁净/z  的/uj  礼/n\n26: 就/d  来/v  见/v  约翰/nz  说/v  拉比/j  从前/t  同/p  你/r  在/p  约旦河/ns  外/f  你/r  所/u  见证/v  的/uj  那位/r  现在/t  施洗/vn  众人/n  都/d  往/p  他/r  那里/r  去/v  了/ul\n27: 约翰/nz  说/v  若/c  不是/c  从/p  天上/s  赐/v  的/uj  人/n  就/d  不能/v  得/ud  甚么/r\n28: 我/r  曾/d  说/v  我/r  不是/c  基督/n  是/v  奉/v  差遣/v  在/p  他/r  前面/f  的/uj  你们/r  自己/r  可以/c  给/p  我/r  作/v  见证/v\n29: 娶/v  新妇/n  的/uj  就是/d  新郎/n  新郎/n  的/uj  朋友/n  站/v  着/uz  听见/v  新郎/n  的/uj  声音/n  就/d  甚/d  喜乐/ns  故此/c  我/r  这/r  喜乐/ns  满足/v  了/ul\n30: 他/r  必/d  兴旺/ns  我/r  必/d  衰微/a\n31: 从/p  天上/s  来/v  的/uj  是/v  在/p  万/m  有/v  之上/f  从/p  地上/s  来/v  的/uj  是/v  属乎/v  地/n  他/r  所说/c  的/uj  也/d  是/v  属乎/v  地/n  从/p  天上/s  来/v  的/uj  是/v  在/p  万/m  有/v  之上/f\n32: 他/r  将/d  所见所闻/i  的/uj  见证/v  出来/v  只是/c  没有/v  人/n  领受/v  他/r  的/uj  见证/v\n33: 那/r  领受/v  他/r  见证/v  的/uj  就/d  印/v  上/f  印/ns  证明/n  神/n  是/v  真的/d\n34: 神所差来/l  的/uj  就/d  说/v  神/n  的话/u  因为/c  神赐/nr  圣灵/n  给/p  他/r  是/v  没有/v  限量/n  的/uj\n35: 父爱/n  子/ng  已/d  将/d  万/m  有/v  交/v  在/p  他/r  手里/s\n36: 信子/n  的/uj  人/n  有/v  永生/b  不/d  信子/n  的/uj  人/n  得/ud  不/d  着/uz  永生/b  原文/n  是/v  不得/v  见/v  永生/b  神/n  的/uj  震怒/v  常/d  在/p  他/r  身上/s\n"
     ]
    }
   ],
   "source": [
    "print_tokens(with_dict[unv.book.str.startswith('John') & (unv.chap == 3)])"
   ]
  },
  {
   "source": [
    "## All Tokens"
   ],
   "cell_type": "markdown",
   "metadata": {}
  },
  {
   "cell_type": "code",
   "execution_count": 7,
   "metadata": {},
   "outputs": [],
   "source": [
    "import pandas as pd\n",
    "\n",
    "all_tokens = with_dict.explode().drop_duplicates()\n",
    "all_tokens = pd.DataFrame.from_dict({\n",
    "    'tk': all_tokens,\n",
    "    'word': all_tokens.apply(lambda tk: tk.word),\n",
    "    'flag': all_tokens.apply(lambda tk: tk.flag)\n",
    "})"
   ]
  },
  {
   "cell_type": "code",
   "execution_count": 8,
   "metadata": {},
   "outputs": [
    {
     "output_type": "execute_result",
     "data": {
      "text/plain": [
       "n       6250\n",
       "v       5976\n",
       "nr      2378\n",
       "ns      1225\n",
       "m       1062\n",
       "a        900\n",
       "d        829\n",
       "nz       592\n",
       "i        548\n",
       "l        423\n",
       "r        336\n",
       "t        294\n",
       "s        266\n",
       "c        265\n",
       "vn       216\n",
       "b        180\n",
       "ng       145\n",
       "nrt      125\n",
       "f        122\n",
       "zg       110\n",
       "j         86\n",
       "q         85\n",
       "p         69\n",
       "z         67\n",
       "vg        62\n",
       "y         54\n",
       "x         45\n",
       "g         41\n",
       "yg        40\n",
       "ad        31\n",
       "nt        19\n",
       "an        17\n",
       "ag        15\n",
       "mq        15\n",
       "u         13\n",
       "o          8\n",
       "tg         6\n",
       "e          4\n",
       "nrfg       4\n",
       "dg         3\n",
       "k          2\n",
       "mg         1\n",
       "vq         1\n",
       "rg         1\n",
       "uj         1\n",
       "h          1\n",
       "ug         1\n",
       "ud         1\n",
       "ul         1\n",
       "uz         1\n",
       "df         1\n",
       "uv         1\n",
       "rz         1\n",
       "Name: flag, dtype: int64"
      ]
     },
     "metadata": {},
     "execution_count": 8
    }
   ],
   "source": [
    "all_tokens.flag.value_counts()"
   ]
  },
  {
   "cell_type": "code",
   "execution_count": 9,
   "metadata": {},
   "outputs": [
    {
     "output_type": "execute_result",
     "data": {
      "text/plain": [
       "'亚当/ns  生/vn  塞特/nr  ；/x  以挪士/nr  以诺/ns  生闪/l  、/x  的/uj  儿子/n  是/v  歌篾/nz  在/p  创世/v  记/n  十章/m  三节/m  有作/vn  罗单/a  古实/nz  他/r  为/p  世上/s  之/u  低/a  子/ng  又/d  和/c  革/vg  迦/g  并/c  了/ul  就是/d  分/q  那时/r  地/uv  下面/f  提玛/nrt  所生/b  河边/s  米希/nrt  米/q  亚/j  珥/g  犯了罪/i  上/f  九节/t  后来/t  兰/j  夙之祖/i  毘/yg  族/ng  掳/vg  毘/zg  雅/ag  痛苦/an  甚/dg  押/zg  所有/b  得/ud  所/u  罕/ad  斯/rg  着/uz  悉/ad  们/k  必作/l  过/ug  啊/y  毘/y  不要/df  鼓瑟/z  安/an  洁净/z  祕/yg  这位/rz  俱/dg  者/k  噼成/o  噼了/o  四分之一/mq  四面/mq  外邦人所/nt  国中所/nt  晚/tg  私/ag  贞洁/nrfg  非/h  高高的/nrfg  午/tg  巳/mg  哎/e  唉/e  去过/vq'"
      ]
     },
     "metadata": {},
     "execution_count": 9
    }
   ],
   "source": [
    "'  '.join(f'{tk.word}/{tk.flag}' for tk in all_tokens.groupby('flag')['tk'].head(2))"
   ]
  },
  {
   "cell_type": "code",
   "execution_count": 10,
   "metadata": {},
   "outputs": [
    {
     "output_type": "execute_result",
     "data": {
      "text/plain": [
       "'；  、  。  （  ）  【  】  ，  ：  ‧  〈  〉  「  」  a  ．  毘  ─  『  』  ！  ？  唿  毂  託  •  ﹞  －  搆  沖  …  鹯  虺  槓  鍼  玎  訇  岖  菢  挲  碜  蜓  痲  -  蔻'"
      ]
     },
     "metadata": {},
     "execution_count": 10
    }
   ],
   "source": [
    "x_tokens = all_tokens.flag == 'x'\n",
    "'  '.join(all_tokens.word[x_tokens])"
   ]
  },
  {
   "cell_type": "code",
   "execution_count": 20,
   "metadata": {},
   "outputs": [
    {
     "output_type": "stream",
     "name": "stdout",
     "text": [
      "<class 'pandas.core.frame.DataFrame'>\nInt64Index: 22940 entries, 27300 to 17909\nData columns (total 4 columns):\n #   Column   Non-Null Count  Dtype \n---  ------   --------------  ----- \n 0   tk       22940 non-null  object\n 1   word     22940 non-null  object\n 2   flag     22940 non-null  object\n 3   synsets  3993 non-null   object\ndtypes: object(4)\nmemory usage: 896.1+ KB\n"
     ]
    }
   ],
   "source": [
    "all_tokens.info()"
   ]
  },
  {
   "source": [
    "## Use ConceptNet to expand vocabs"
   ],
   "cell_type": "markdown",
   "metadata": {}
  },
  {
   "cell_type": "code",
   "execution_count": 21,
   "metadata": {},
   "outputs": [
    {
     "output_type": "execute_result",
     "data": {
      "text/plain": [
       "           tk  word flag synsets\n",
       "27300    生/vn     生   vn     NaN\n",
       "21816    生闪/l    生闪    l     NaN\n",
       "13655    的/uj     的   uj     NaN\n",
       "13655    儿子/n    儿子    n     NaN\n",
       "28551    创世/v    创世    v     NaN\n",
       "...       ...   ...  ...     ...\n",
       "24356    必得/v    必得    v     NaN\n",
       "27361   之威/ns    之威   ns     NaN\n",
       "27361    诸神/n    诸神    n     NaN\n",
       "950      译类/n    译类    n     NaN\n",
       "17909  满心欢喜/i  满心欢喜    i     NaN\n",
       "\n",
       "[16421 rows x 4 columns]"
      ],
      "text/html": "<div>\n<style scoped>\n    .dataframe tbody tr th:only-of-type {\n        vertical-align: middle;\n    }\n\n    .dataframe tbody tr th {\n        vertical-align: top;\n    }\n\n    .dataframe thead th {\n        text-align: right;\n    }\n</style>\n<table border=\"1\" class=\"dataframe\">\n  <thead>\n    <tr style=\"text-align: right;\">\n      <th></th>\n      <th>tk</th>\n      <th>word</th>\n      <th>flag</th>\n      <th>synsets</th>\n    </tr>\n  </thead>\n  <tbody>\n    <tr>\n      <th>27300</th>\n      <td>生/vn</td>\n      <td>生</td>\n      <td>vn</td>\n      <td>NaN</td>\n    </tr>\n    <tr>\n      <th>21816</th>\n      <td>生闪/l</td>\n      <td>生闪</td>\n      <td>l</td>\n      <td>NaN</td>\n    </tr>\n    <tr>\n      <th>13655</th>\n      <td>的/uj</td>\n      <td>的</td>\n      <td>uj</td>\n      <td>NaN</td>\n    </tr>\n    <tr>\n      <th>13655</th>\n      <td>儿子/n</td>\n      <td>儿子</td>\n      <td>n</td>\n      <td>NaN</td>\n    </tr>\n    <tr>\n      <th>28551</th>\n      <td>创世/v</td>\n      <td>创世</td>\n      <td>v</td>\n      <td>NaN</td>\n    </tr>\n    <tr>\n      <th>...</th>\n      <td>...</td>\n      <td>...</td>\n      <td>...</td>\n      <td>...</td>\n    </tr>\n    <tr>\n      <th>24356</th>\n      <td>必得/v</td>\n      <td>必得</td>\n      <td>v</td>\n      <td>NaN</td>\n    </tr>\n    <tr>\n      <th>27361</th>\n      <td>之威/ns</td>\n      <td>之威</td>\n      <td>ns</td>\n      <td>NaN</td>\n    </tr>\n    <tr>\n      <th>27361</th>\n      <td>诸神/n</td>\n      <td>诸神</td>\n      <td>n</td>\n      <td>NaN</td>\n    </tr>\n    <tr>\n      <th>950</th>\n      <td>译类/n</td>\n      <td>译类</td>\n      <td>n</td>\n      <td>NaN</td>\n    </tr>\n    <tr>\n      <th>17909</th>\n      <td>满心欢喜/i</td>\n      <td>满心欢喜</td>\n      <td>i</td>\n      <td>NaN</td>\n    </tr>\n  </tbody>\n</table>\n<p>16421 rows × 4 columns</p>\n</div>"
     },
     "metadata": {},
     "execution_count": 21
    }
   ],
   "source": [
    "bible_terms = pd.read_csv('bible_terms.txt', header=None, sep=' ')[0]\n",
    "tokens_no_def = all_tokens[~all_tokens.word.isin(bible_terms) & all_tokens.synsets.isna() & ~x_tokens]\n",
    "tokens_no_def"
   ]
  },
  {
   "source": [
    "## Jieba + Strong"
   ],
   "cell_type": "markdown",
   "metadata": {}
  },
  {
   "cell_type": "code",
   "execution_count": 31,
   "metadata": {},
   "outputs": [],
   "source": [
    "unvs = read_bible('data/dunv')\n",
    "unvs['text'] = unvs.text.str.replace('<\\w*>', ' ')\n",
    "unvs['text'] = unvs.text.str.replace('{ }', ' ')\n",
    "unvs['text_s'] = unvs.text.apply(HanziConv.toSimplified)"
   ]
  },
  {
   "cell_type": "code",
   "execution_count": 33,
   "metadata": {
    "tags": []
   },
   "outputs": [],
   "source": [
    "unvs['text_tk'] = unvs.text_s.apply(pseg.lcut)"
   ]
  },
  {
   "cell_type": "code",
   "execution_count": 38,
   "metadata": {},
   "outputs": [
    {
     "output_type": "stream",
     "name": "stdout",
     "text": [
      "1: 有/v  一个/m  法利赛/ns  人/n  名叫/v  尼哥底母/nz  是/v  犹太人/nz  的/uj  官/n\n2: 这/r  人/n  夜里/t  来/v  见/v  耶稣/nr  说/v  拉比/j  我们/r  知道/v  你/r  是/v  由/p  神/n  那里/r  来/v  作/v  师傅/nr  的/uj  因为/c  你/r  所/c  行/v  的/uj  神/n  蹟/zg  若/c  没有/v  神/n  同/p  在/p  无人/n  能/v  行/zg\n3: 耶稣/nr  回答/v  说/v  我/r  实实在在/z  地/uv  告诉/v  你/r  人/n  若/c  不/d  重/a  生/vn  就/d  不能/v  见/v  神/n  的/uj  国/n\n4: 尼哥底母/nz  说/v  人/n  已经/d  老/a  了/ul  如何/r  能/v  重生/n  呢/y  岂能/v  再/d  进/v  母/n  腹/n  生/vn  出来/v  吗/y\n5: 耶稣/nr  说/v  我/r  实实在在/z  地/uv  告诉/v  你/r  人/n  若/c  不是/c  从/p  水/n  和/c  圣灵/n  生/v  的/uj  就/d  不能/v  进/v  神/n  的/uj  国/n\n6: 从/p  肉身/n  生/v  的/uj  就是/d  肉身/n  从/p  灵/nr  生/v  的/uj  就是/d  灵/nr\n7: 我/r  说/v  你们/r  必须/d  重/a  生/vn  你/r  不要/df  以为/c  希奇/nr\n8: 风/n  随着/p  意思/n  吹/v  你/r  听见/v  风/n  的/uj  响声/n  却/d  不/d  晓得/v  从/p  哪里/r  来/v  往/zg  哪里/r  去/v  凡/d  从/p  圣灵/n  生/v  的/uj  也/d  是/v  如此/c\n9: 尼哥底母/nz  问/n  他/r  说/v  怎/r  能/v  有/v  这/r  事/n  呢/y\n10: 耶稣/nr  回答/v  说/v  你/r  是/v  以色列/nr  人/n  的/uj  先生/n  还/d  不/d  明白/nr  这/r  事/n  吗/y\n11: 我/r  实实在在/z  地/uv  告诉/v  你/r  我们/r  所说/c  的/uj  是/v  我们/r  知道/v  的/uj  我们/r  所/c  见证/v  的/uj  是/v  我们/r  见/v  过/ug  的/uj  你们/r  却/d  不/d  领受/v  我们/r  的/uj  见证/v\n12: 我/r  对/p  你们/r  说/v  地上/s  的/uj  事/n  你们/r  尚且/c  不/d  信/n  若/c  说/v  天上/s  的/uj  事/n  如何/r  能/v  信/n  呢/y\n13: 除了/p  从/p  天/q  降下/v  仍旧/d  在/p  天/q  的/uj  人/n  子/ng  没有/v  人/n  升/zg  过/ug  天/q\n14: 摩西/nz  在/p  旷野/nr  怎样/r  举/v  蛇/n  人/n  子/ng  也/d  必/d  照样/d  被/p  举/v  起来/v\n15: 叫/v  一切/r  信/n  他/r  的/uj  都/d  得/ud  永/ns  生/vn  或/c  译/n  叫/v  一切/r  信/n  的/uj  人/n  在/p  他/r  里面/f  得/ud  永生/b\n16: 神/n  爱/ns  世人/n  甚至/d  将/d  他/r  的/uj  独生/v  子/ng  赐给/v  他们/r  叫/v  一切/r  信/n  他/r  的/uj  不/d  致/v  灭亡/v  反/zg  得/ud  永/ns  生/vn\n17: 因为/c  神/n  差/a  他/r  的/uj  儿子/n  降/v  世/n  不是/c  要定/v  世人/n  的/uj  罪/n  或/c  译/n  审判/vn  世人/n  下同/v  乃是/c  要/v  叫/v  世人/n  因/p  他/r  得救/v\n18: 信/n  他/r  的/uj  人/n  不/d  被/p  定罪/vn  不/d  信/n  的/uj  人/n  罪/zg  已经/d  定/v  了/ul  因为/c  他/r  不/d  信/n  神/n  独生/v  子/ng  的/uj  名/n\n19: 光/n  来到/v  世间/n  世人/n  因/p  自己/r  的/uj  行为/v  是/v  恶/a  的/uj  不/d  爱/v  光/n  倒/v  爱/ns  黑暗/z  定/v  他们/r  的/uj  罪/n  就是/d  在/p  此/r\n20: 凡/d  作/v  恶/a  的/uj  便/d  恨/v  光/n  并/c  不/d  来/v  就/d  光/n  恐怕/d  他/r  的/uj  行为/v  受/v  责备/n\n21: 但/nr  行/zg  真理/n  的/uj  必来/d  就/d  光/n  要/v  显明/v  他/r  所行/b  的/uj  是/v  靠/v  神/n  而/c  行/n\n22: 这/r  事/n  以后/f  耶稣/nr  和/c  门徒/n  到/v  了/ul  犹太/nz  地/uv  在/p  那里/r  居住/v  施洗/vn\n23: 约翰/nz  在/p  靠近/v  撒冷/ns  的/uj  哀嫩/ns  也/d  施洗/vn  因为/c  那里/r  水/n  多/m  众人/n  都/d  去/v  受洗/v\n24: 那时/r  约翰/nz  还/d  没有/v  下/f  在/p  监/j  里/f\n25: 约翰/nz  的/uj  门徒/n  和/c  一个/m  犹太人/nz  辩论/n  洁净/z  的/uj  礼/n\n26: 就/d  来/v  见/v  约翰/nz  说/v  拉比/j  从前/t  同/p  你/r  在/p  约旦河/ns  外/f  你/r  所/c  见证/v  的/uj  那位/r  现在/t  施洗/vn  众人/n  都/d  往/p  他/r  那里/r  去/v  了/ul\n27: 约翰/nz  说/v  若/c  不是/c  从/p  天上/s  赐/v  的/uj  人/n  就/d  不能/v  得/ud  甚么/r\n28: 我/r  曾/d  说/v  我/r  不是/c  基督/n  是/v  奉/v  差遣/v  在/p  他/r  前面/f  的/uj  你们/r  自己/r  可以/c  给/p  我/r  作/v  见证/v\n29: 娶/v  新妇/n  的/uj  就是/d  新郎/n  新郎/n  的/uj  朋友/n  站/v  着/uz  听见/v  新郎/n  的/uj  声音/n  就/d  甚/d  喜乐/ns  故此/c  我/r  这/r  喜乐/ns  满足/v  了/ul\n30: 他/r  必/d  兴旺/ns  我/r  必/d  衰微/a\n31: 从/p  天上/s  来/v  的/uj  是/v  在/p  万/m  有/v  之上/f  从/p  地上/s  来/v  的/uj  是/v  属乎/v  地/n  他/r  所说/c  的/uj  也/d  是/v  属乎/v  地/uv  从/p  天上/s  来/v  的/uj  是/v  在/p  万/m  有/v  之上/f\n32: 他/r  将/d  所见/v  所/c  闻/v  的/uj  见证/v  出来/v  只是/c  没有/v  人/n  领受/v  他/r  的/uj  见证/v\n33: 那/r  领受/v  他/r  见证/v  的/uj  就/d  印/v  上/f  印/ns  证明/n  神/n  是/v  真的/d\n34: 神/n  所差/n  来的/u  就/d  说/v  神/n  的话/u  因为/c  神赐/nr  圣灵/n  给/p  他/r  是/v  没有/v  限量/n  的/uj\n35: 父/n  爱/ns  子/ng  已/d  将/d  万/m  有/v  交在/v  他/r  手里/s\n36: 信/n  子/ng  的/uj  人/n  有/v  永/ns  生/vn  不/d  信/n  子/ng  的/uj  人/n  得/ud  不/d  着/uz  永生/b  原文/n  是/v  不得/v  见/v  永生/b  神/n  的/uj  震怒/v  常/d  在/p  他/r  身上/s\n"
     ]
    }
   ],
   "source": [
    "print_tokens(unvs.text_tk[unvs.book.str.startswith('John') & (unvs.chap == 3)])"
   ]
  }
 ]
}