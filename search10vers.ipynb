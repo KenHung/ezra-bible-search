{
 "metadata": {
  "language_info": {
   "codemirror_mode": {
    "name": "ipython",
    "version": 3
   },
   "file_extension": ".py",
   "mimetype": "text/x-python",
   "name": "python",
   "nbconvert_exporter": "python",
   "pygments_lexer": "ipython3",
   "version": "3.7.9-final"
  },
  "orig_nbformat": 2,
  "kernelspec": {
   "name": "cnlp",
   "display_name": "ezra",
   "language": "python"
  }
 },
 "nbformat": 4,
 "nbformat_minor": 2,
 "cells": [
  {
   "source": [
    "# Search within 10 verses\n",
    "\n",
    "Simple notebook POC for searching with in 10 Bible verses."
   ],
   "cell_type": "markdown",
   "metadata": {}
  },
  {
   "cell_type": "code",
   "execution_count": 1,
   "metadata": {},
   "outputs": [],
   "source": [
    "vers = [\n",
    "    '我靠主大大地喜乐，因为你们思念我的心如今又发生；你们向来就思念我，只是没得机会。',\n",
    "    '应当一无挂虑，只要凡事借着祷告、祈求，和感谢，将你们所要的告诉　神。',\n",
    "    '我在急难中求告耶和华，向我的　神呼求。他从殿中听了我的声音；我在他面前的呼求入了他的耳中。',\n",
    "    '　神啊，我曾求告你，因为你必应允我；求你向我侧耳，听我的言语。',\n",
    "    '人的愚昧倾败他的道；他的心也抱怨耶和华。',\n",
    "    '耶稣对他说：「你若能信，在信的人，凡事都能。」',\n",
    "    '约书亚对以色列人说：「耶和华－你们列祖的　神所赐给你们的地，你们耽延不去得，要到几时呢？',\n",
    "    '所罗门说：「耶和华－以色列的　神是应当称颂的！因他亲口向我父大卫所应许的，也亲手成就了。',\n",
    "    '「因为你富有的时候，不欢心乐意地事奉耶和华－你的　神，',\n",
    "    '你们当乐意事奉耶和华，当来向他歌唱！'\n",
    "]"
   ]
  },
  {
   "source": [
    "## Tokenize w/o Stopwords"
   ],
   "cell_type": "markdown",
   "metadata": {}
  },
  {
   "cell_type": "code",
   "execution_count": 14,
   "metadata": {},
   "outputs": [
    {
     "output_type": "stream",
     "name": "stderr",
     "text": [
      "Paddle enabled successfully......\n"
     ]
    }
   ],
   "source": [
    "import jieba\n",
    "import jieba.posseg as pseg\n",
    "\n",
    "jieba.enable_paddle()"
   ]
  },
  {
   "cell_type": "code",
   "execution_count": 20,
   "metadata": {},
   "outputs": [
    {
     "output_type": "stream",
     "name": "stdout",
     "text": [
      "[pair('我', 'r'), pair('靠', 'p'), pair('主大大地喜乐，', 'nt'), pair('因为', 'p'), pair('你们', 'r'), pair('思念', 'v'), pair('我', 'r'), pair('的', 'u'), pair('心', 'n'), pair('如今', 't'), pair('又', 'd'), pair('发生', 'v'), pair('；', 'v'), pair('你们', 'r'), pair('向来', 'd'), pair('就', 'd'), pair('思念', 'v'), pair('我', 'r'), pair('，', 'v'), pair('只是', 'd'), pair('没得', 'v'), pair('机会', 'n'), pair('。', 'v')]\n[pair('应当', 'v'), pair('一无', 'v'), pair('挂虑', 'vn'), pair('，', 'n'), pair('只要', 'c'), pair('凡事', 'n'), pair('借', 'v'), pair('着', 'u'), pair('祷告', 'v'), pair('、', 'n'), pair('祈求', 'v'), pair('，', 'n'), pair('和', 'c'), pair('感谢', 'v'), pair('，', 'n'), pair('将', 'p'), pair('你们', 'r'), pair('所', 'u'), pair('要', 'v'), pair('的', 'u'), pair('告诉', 'v'), pair('\\u3000神。', 'nr')]\n[pair('我', 'r'), pair('在', 'p'), pair('急难', 'a'), pair('中', 'f'), pair('求告', 'v'), pair('耶和华，', 'PER'), pair('向', 'p'), pair('我', 'r'), pair('的', 'u'), pair('\\u3000神', 'n'), pair('呼', 'v'), pair('求', 'v'), pair('。', 'v'), pair('他', 'r'), pair('从', 'p'), pair('殿', 'n'), pair('中', 'f'), pair('听', 'v'), pair('了', 'u'), pair('我', 'r'), pair('的', 'u'), pair('声音', 'n'), pair('；', 'v'), pair('我', 'r'), pair('在', 'p'), pair('他', 'r'), pair('面前', 'f'), pair('的', 'u'), pair('呼求', 'vn'), pair('入', 'v'), pair('了', 'u'), pair('他', 'r'), pair('的', 'u'), pair('耳', 'n'), pair('中', 'f'), pair('。', 'v')]\n[pair('神', 'n'), pair('啊', 'xc'), pair('，', 'v'), pair('我', 'r'), pair('曾', 'd'), pair('求', 'v'), pair('告', 'v'), pair('你', 'r'), pair('，', 'v'), pair('因为', 'p'), pair('你', 'r'), pair('必', 'd'), pair('应允', 'v'), pair('我', 'r'), pair('；求', 'v'), pair('你', 'r'), pair('向', 'p'), pair('我', 'r'), pair('侧耳', 'n'), pair('，', 'v'), pair('听', 'v'), pair('我', 'r'), pair('的', 'u'), pair('言语', 'n'), pair('。', 'v')]\n[pair('人', 'n'), pair('的', 'u'), pair('愚昧', 'an'), pair('倾败', 'v'), pair('他', 'r'), pair('的', 'u'), pair('道', 'n'), pair('；', 'v'), pair('他', 'r'), pair('的', 'u'), pair('心', 'n'), pair('也', 'd'), pair('抱怨', 'v'), pair('耶和华。', 'nz')]\n[pair('耶稣', 'PER'), pair('对', 'p'), pair('他', 'r'), pair('说', 'v'), pair('：「', 'nr'), pair('你', 'r'), pair('若', 'c'), pair('能', 'v'), pair('信，', 'v'), pair('在', 'p'), pair('信', 'n'), pair('的', 'u'), pair('人', 'n'), pair('，', 'v'), pair('凡事', 'n'), pair('都', 'd'), pair('能', 'v'), pair('。」', 'v')]\n[pair('约书亚', 'PER'), pair('对', 'p'), pair('以色列', 'LOC'), pair('人', 'n'), pair('说', 'v'), pair('：「耶', 'nr'), pair('和', 'c'), pair('华－', 'nr'), pair('你们', 'r'), pair('列祖', 'v'), pair('的', 'u'), pair('\\u3000神', 'n'), pair('所', 'u'), pair('赐', 'v'), pair('给', 'p'), pair('你们', 'r'), pair('的', 'u'), pair('地', 'u'), pair('，', 'v'), pair('你们', 'r'), pair('耽延', 'v'), pair('不', 'd'), pair('去得', 'v'), pair('，', 'n'), pair('要', 'v'), pair('到', 'v'), pair('几', 'm'), pair('时', 'n'), pair('呢', 'xc'), pair('？', 'n')]\n[pair('所罗门', 'PER'), pair('说', 'v'), pair('：「耶', 'nr'), pair('和', 'c'), pair('华－', 'nz'), pair('以色列', 'LOC'), pair('的', 'u'), pair('\\u3000神', 'n'), pair('是', 'v'), pair('应当', 'v'), pair('称颂', 'v'), pair('的', 'u'), pair('！', 'n'), pair('因', 'p'), pair('他', 'r'), pair('亲口', 'd'), pair('向', 'p'), pair('我', 'r'), pair('父', 'n'), pair('大卫', 'PER'), pair('所', 'u'), pair('应', 'v'), pair('许', 'v'), pair('的', 'u'), pair('，', 'n'), pair('也', 'd'), pair('亲手', 'd'), pair('成就', 'v'), pair('了', 'u'), pair('。', 'n')]\n[pair('「', 'n'), pair('因为', 'p'), pair('你', 'r'), pair('富有', 'v'), pair('的', 'u'), pair('时候', 'n'), pair('，不欢心乐意', 'v'), pair('地', 'u'), pair('事', 'n'), pair('奉', 'v'), pair('耶', 'xc'), pair('和', 'c'), pair('华－', 'nr'), pair('你', 'r'), pair('的', 'u'), pair('\\u3000神，', 'nr')]\n[pair('你们', 'r'), pair('当', 'p'), pair('乐意', 'n'), pair('事', 'n'), pair('奉', 'v'), pair('耶和华，', 'PER'), pair('当来', 't'), pair('向', 'p'), pair('他', 'r'), pair('歌唱', 'v'), pair('！', 'n')]\n"
     ]
    }
   ],
   "source": [
    "tokens = map(lambda v: pseg.lcut(v, use_paddle=True), vers)\n",
    "for tk in tokens:\n",
    "    print(tk)"
   ]
  },
  {
   "source": [
    "## Stem / Lemmatize"
   ],
   "cell_type": "markdown",
   "metadata": {}
  },
  {
   "cell_type": "code",
   "execution_count": 5,
   "metadata": {},
   "outputs": [
    {
     "output_type": "stream",
     "name": "stderr",
     "text": [
      "[nltk_data] Downloading package wordnet to /Users/Ken/nltk_data...\n[nltk_data]   Package wordnet is already up-to-date!\n[nltk_data] Downloading package omw to /Users/Ken/nltk_data...\n[nltk_data]   Package omw is already up-to-date!\n"
     ]
    },
    {
     "output_type": "execute_result",
     "data": {
      "text/plain": [
       "['eng',\n",
       " 'als',\n",
       " 'arb',\n",
       " 'bul',\n",
       " 'cat',\n",
       " 'cmn',\n",
       " 'dan',\n",
       " 'ell',\n",
       " 'eus',\n",
       " 'fas',\n",
       " 'fin',\n",
       " 'fra',\n",
       " 'glg',\n",
       " 'heb',\n",
       " 'hrv',\n",
       " 'ind',\n",
       " 'ita',\n",
       " 'jpn',\n",
       " 'nld',\n",
       " 'nno',\n",
       " 'nob',\n",
       " 'pol',\n",
       " 'por',\n",
       " 'qcn',\n",
       " 'slv',\n",
       " 'spa',\n",
       " 'swe',\n",
       " 'tha',\n",
       " 'zsm']"
      ]
     },
     "metadata": {},
     "execution_count": 5
    }
   ],
   "source": [
    "import nltk\n",
    "from nltk.corpus import wordnet as wn\n",
    "\n",
    "nltk.download(\"wordnet\")\n",
    "nltk.download('omw')\n",
    "wn.langs() "
   ]
  },
  {
   "cell_type": "code",
   "execution_count": null,
   "metadata": {},
   "outputs": [],
   "source": []
  },
  {
   "source": [
    "## Jaccard Similarity"
   ],
   "cell_type": "markdown",
   "metadata": {}
  },
  {
   "cell_type": "code",
   "execution_count": 6,
   "metadata": {},
   "outputs": [],
   "source": [
    "# Reference: https://bommaritollc.com/2014/06/12/fuzzy-match-sentences-python/"
   ]
  }
 ]
}