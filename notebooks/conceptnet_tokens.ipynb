{
 "metadata": {
  "language_info": {
   "codemirror_mode": {
    "name": "ipython",
    "version": 3
   },
   "file_extension": ".py",
   "mimetype": "text/x-python",
   "name": "python",
   "nbconvert_exporter": "python",
   "pygments_lexer": "ipython3",
   "version": "3.7.9-final"
  },
  "orig_nbformat": 2,
  "kernelspec": {
   "name": "cnlp",
   "display_name": "ezra",
   "language": "python"
  }
 },
 "nbformat": 4,
 "nbformat_minor": 2,
 "cells": [
  {
   "source": [
    "# Use ConceptNet for improving word tokenizer"
   ],
   "cell_type": "markdown",
   "metadata": {}
  },
  {
   "cell_type": "code",
   "execution_count": 1,
   "metadata": {},
   "outputs": [],
   "source": [
    "from importlib import resources\n",
    "import pandas as pd\n",
    "with resources.path('word_embeddings', 'mini.zh.h5') as hdf_file:\n",
    "    embeddings: pd.DataFrame = pd.read_hdf(hdf_file)"
   ]
  },
  {
   "cell_type": "code",
   "execution_count": 2,
   "metadata": {},
   "outputs": [
    {
     "output_type": "execute_result",
     "data": {
      "text/plain": [
       "Index(['##cm', '0', '0.5', '1', '1s', '2', '3', '3c', '3p', '3q',\n",
       "       ...\n",
       "       '龟毛', '龟甲', '龟缩', '龟背竹', '龟船', '龟裂', '龠', '龢', '𫓧', '𫚉鱼'],\n",
       "      dtype='object', length=270235)"
      ]
     },
     "metadata": {},
     "execution_count": 2
    }
   ],
   "source": [
    "all_vocabs = embeddings.index.str.replace('/c/zh/', '')\n",
    "all_vocabs"
   ]
  },
  {
   "cell_type": "code",
   "execution_count": 3,
   "metadata": {},
   "outputs": [],
   "source": [
    "from ezra.resources import bible as unv"
   ]
  },
  {
   "cell_type": "code",
   "execution_count": 4,
   "metadata": {},
   "outputs": [],
   "source": [
    "from tqdm import tqdm\n",
    "tqdm.pandas()"
   ]
  },
  {
   "cell_type": "code",
   "execution_count": 5,
   "metadata": {},
   "outputs": [],
   "source": [
    "#occurrence = all_vocabs.to_series().progress_apply(lambda vocab: unv.text.str.count(vocab).sum())\n",
    "#occurrence[occurrence > 0].to_csv('ccn_occurrence.csv')"
   ]
  },
  {
   "cell_type": "code",
   "execution_count": 11,
   "metadata": {},
   "outputs": [],
   "source": [
    "occurrence = pd.read_csv('../data/ccn_occurrence.csv', index_col=0)"
   ]
  },
  {
   "cell_type": "code",
   "execution_count": 13,
   "metadata": {},
   "outputs": [],
   "source": [
    "from ezra.conceptnet_strategy import ConceptNetStrategy\n",
    "strategy = ConceptNetStrategy()"
   ]
  },
  {
   "cell_type": "code",
   "execution_count": 14,
   "metadata": {},
   "outputs": [],
   "source": [
    "import numpy as np\n",
    "new_vocabs = np.setdiff1d(occurrence.index, strategy._words_vec.index)"
   ]
  },
  {
   "cell_type": "code",
   "execution_count": 15,
   "metadata": {},
   "outputs": [
    {
     "output_type": "execute_result",
     "data": {
      "text/plain": [
       "6017"
      ]
     },
     "metadata": {},
     "execution_count": 15
    }
   ],
   "source": [
    "len(new_vocabs)"
   ]
  },
  {
   "cell_type": "code",
   "execution_count": 160,
   "metadata": {
    "tags": []
   },
   "outputs": [
    {
     "output_type": "stream",
     "name": "stderr",
     "text": [
      "3408it [07:30,  7.57it/s]\n"
     ]
    }
   ],
   "source": [
    "def create_assertions_oov()\n",
    "    ccn = pd.read_csv('../data/conceptnet-assertions-5.7.0.csv.gz', sep='\\t', header=None, chunksize=10000)\n",
    "    ccn_new = []\n",
    "    for batch in tqdm(ccn):\n",
    "        isnew = batch[2].str.replace('/c/zh/', '').isin(new_vocabs) | batch[3].str.replace('/c/zh/', '').isin(new_vocabs)\n",
    "        if isnew.any():\n",
    "            ccn_new.append(batch[isnew])\n",
    "    ccn_new_df = pd.concat(ccn_new)\n",
    "    ccn_new_df.to_csv('../data/conceptnet-assertions-5.7.0-oov.csv', sep='\\t', index=None)\n",
    "\n",
    "#create_assertions_oov()"
   ]
  },
  {
   "cell_type": "code",
   "execution_count": null,
   "metadata": {},
   "outputs": [],
   "source": [
    "ccn_new_df = pd.read_csv('../data/conceptnet-assertions-5.7.0-oov.csv', sep='\\t')"
   ]
  },
  {
   "cell_type": "code",
   "execution_count": 175,
   "metadata": {},
   "outputs": [],
   "source": [
    "import json\n",
    "\n",
    "def group_contributor(contributor):\n",
    "    if contributor.startswith('/s/contributor/petgame/'):\n",
    "        return 'petgame'\n",
    "    else:\n",
    "        return contributor\n",
    "\n",
    "def extract_source(info):\n",
    "    return [group_contributor(src['contributor']) for src in json.loads(info)['sources']]\n",
    "\n",
    "ccn_new_df['source'] = ccn_new_df[4].transform(extract_source)"
   ]
  },
  {
   "cell_type": "code",
   "execution_count": 189,
   "metadata": {},
   "outputs": [
    {
     "output_type": "execute_result",
     "data": {
      "text/plain": [
       "                   0                       source\n",
       "65819        /c/zh/凡  [/s/resource/wiktionary/en]\n",
       "65865     /c/zh/晚上/a  [/s/resource/wiktionary/fr]\n",
       "65900      /c/zh/陰/n  [/s/resource/wiktionary/fr]\n",
       "154726    /c/zh/xo_醬                    [petgame]\n",
       "154737     /c/zh/一些人                    [petgame]\n",
       "...              ...                          ...\n",
       "34062533    /c/zh/過年                    [petgame]\n",
       "34062540   /c/zh/生孩子                    [petgame]\n",
       "34062552   /c/zh/睡不著                    [petgame]\n",
       "34062599   /c/zh/找食物  [petgame, petgame, petgame]\n",
       "34062607    /c/zh/大便                    [petgame]\n",
       "\n",
       "[80618 rows x 2 columns]"
      ],
      "text/html": "<div>\n<style scoped>\n    .dataframe tbody tr th:only-of-type {\n        vertical-align: middle;\n    }\n\n    .dataframe tbody tr th {\n        vertical-align: top;\n    }\n\n    .dataframe thead th {\n        text-align: right;\n    }\n</style>\n<table border=\"1\" class=\"dataframe\">\n  <thead>\n    <tr style=\"text-align: right;\">\n      <th></th>\n      <th>0</th>\n      <th>source</th>\n    </tr>\n  </thead>\n  <tbody>\n    <tr>\n      <th>65819</th>\n      <td>/c/zh/凡</td>\n      <td>[/s/resource/wiktionary/en]</td>\n    </tr>\n    <tr>\n      <th>65865</th>\n      <td>/c/zh/晚上/a</td>\n      <td>[/s/resource/wiktionary/fr]</td>\n    </tr>\n    <tr>\n      <th>65900</th>\n      <td>/c/zh/陰/n</td>\n      <td>[/s/resource/wiktionary/fr]</td>\n    </tr>\n    <tr>\n      <th>154726</th>\n      <td>/c/zh/xo_醬</td>\n      <td>[petgame]</td>\n    </tr>\n    <tr>\n      <th>154737</th>\n      <td>/c/zh/一些人</td>\n      <td>[petgame]</td>\n    </tr>\n    <tr>\n      <th>...</th>\n      <td>...</td>\n      <td>...</td>\n    </tr>\n    <tr>\n      <th>34062533</th>\n      <td>/c/zh/過年</td>\n      <td>[petgame]</td>\n    </tr>\n    <tr>\n      <th>34062540</th>\n      <td>/c/zh/生孩子</td>\n      <td>[petgame]</td>\n    </tr>\n    <tr>\n      <th>34062552</th>\n      <td>/c/zh/睡不著</td>\n      <td>[petgame]</td>\n    </tr>\n    <tr>\n      <th>34062599</th>\n      <td>/c/zh/找食物</td>\n      <td>[petgame, petgame, petgame]</td>\n    </tr>\n    <tr>\n      <th>34062607</th>\n      <td>/c/zh/大便</td>\n      <td>[petgame]</td>\n    </tr>\n  </tbody>\n</table>\n<p>80618 rows × 2 columns</p>\n</div>"
     },
     "metadata": {},
     "execution_count": 189
    }
   ],
   "source": [
    "new_vocab_source = pd.concat([\n",
    "    pd.concat([ccn_new_df[2], ccn_new_df[3]]),\n",
    "    pd.concat([ccn_new_df['source'], ccn_new_df['source']])\n",
    "], axis=1)\n",
    "new_vocab_source"
   ]
  },
  {
   "cell_type": "code",
   "execution_count": 201,
   "metadata": {},
   "outputs": [
    {
     "output_type": "execute_result",
     "data": {
      "text/plain": [
       "                           source\n",
       "0                                \n",
       "一些人                     [petgame]\n",
       "一塊錢                     [petgame]\n",
       "一根頭髮                    [petgame]\n",
       "一百塊                     [petgame]\n",
       "一群人                     [petgame]\n",
       "...                           ...\n",
       "過年                      [petgame]\n",
       "生孩子                     [petgame]\n",
       "睡不著                     [petgame]\n",
       "找食物   [petgame, petgame, petgame]\n",
       "大便                      [petgame]\n",
       "\n",
       "[42392 rows x 1 columns]"
      ],
      "text/html": "<div>\n<style scoped>\n    .dataframe tbody tr th:only-of-type {\n        vertical-align: middle;\n    }\n\n    .dataframe tbody tr th {\n        vertical-align: top;\n    }\n\n    .dataframe thead th {\n        text-align: right;\n    }\n</style>\n<table border=\"1\" class=\"dataframe\">\n  <thead>\n    <tr style=\"text-align: right;\">\n      <th></th>\n      <th>source</th>\n    </tr>\n    <tr>\n      <th>0</th>\n      <th></th>\n    </tr>\n  </thead>\n  <tbody>\n    <tr>\n      <th>一些人</th>\n      <td>[petgame]</td>\n    </tr>\n    <tr>\n      <th>一塊錢</th>\n      <td>[petgame]</td>\n    </tr>\n    <tr>\n      <th>一根頭髮</th>\n      <td>[petgame]</td>\n    </tr>\n    <tr>\n      <th>一百塊</th>\n      <td>[petgame]</td>\n    </tr>\n    <tr>\n      <th>一群人</th>\n      <td>[petgame]</td>\n    </tr>\n    <tr>\n      <th>...</th>\n      <td>...</td>\n    </tr>\n    <tr>\n      <th>過年</th>\n      <td>[petgame]</td>\n    </tr>\n    <tr>\n      <th>生孩子</th>\n      <td>[petgame]</td>\n    </tr>\n    <tr>\n      <th>睡不著</th>\n      <td>[petgame]</td>\n    </tr>\n    <tr>\n      <th>找食物</th>\n      <td>[petgame, petgame, petgame]</td>\n    </tr>\n    <tr>\n      <th>大便</th>\n      <td>[petgame]</td>\n    </tr>\n  </tbody>\n</table>\n<p>42392 rows × 1 columns</p>\n</div>"
     },
     "metadata": {},
     "execution_count": 201
    }
   ],
   "source": [
    "new_vocab_source.index = new_vocab_source[0].str.replace('/c/zh/', '')\n",
    "new_vocab_source = new_vocab_source[new_vocab_source.index.isin(new_vocabs)][['source']]\n",
    "new_vocab_source"
   ]
  },
  {
   "cell_type": "code",
   "execution_count": 225,
   "metadata": {},
   "outputs": [
    {
     "output_type": "execute_result",
     "data": {
      "text/plain": [
       "                                                source\n",
       "0                                                     \n",
       "0    [/s/resource/dbpedia/2015/en, /s/resource/wikt...\n",
       "1    [/s/resource/dbpedia/2015/en, /s/resource/unic...\n",
       "2    [/s/resource/dbpedia/2015/en, /s/resource/unic...\n",
       "3    [/s/resource/dbpedia/2015/en, /s/resource/unic...\n",
       "4                    [/s/resource/unicode/cldr/32.0.1]\n",
       "..                                                 ...\n",
       "鼻孔內                                          [petgame]\n",
       "鼻孔裡                                          [petgame]\n",
       "齊齊                         [/s/resource/wiktionary/en]\n",
       "齋                      [/s/resource/cc_cedict/2017-10]\n",
       "龍妹                         [/s/resource/wiktionary/en]\n",
       "\n",
       "[5982 rows x 1 columns]"
      ],
      "text/html": "<div>\n<style scoped>\n    .dataframe tbody tr th:only-of-type {\n        vertical-align: middle;\n    }\n\n    .dataframe tbody tr th {\n        vertical-align: top;\n    }\n\n    .dataframe thead th {\n        text-align: right;\n    }\n</style>\n<table border=\"1\" class=\"dataframe\">\n  <thead>\n    <tr style=\"text-align: right;\">\n      <th></th>\n      <th>source</th>\n    </tr>\n    <tr>\n      <th>0</th>\n      <th></th>\n    </tr>\n  </thead>\n  <tbody>\n    <tr>\n      <th>0</th>\n      <td>[/s/resource/dbpedia/2015/en, /s/resource/wikt...</td>\n    </tr>\n    <tr>\n      <th>1</th>\n      <td>[/s/resource/dbpedia/2015/en, /s/resource/unic...</td>\n    </tr>\n    <tr>\n      <th>2</th>\n      <td>[/s/resource/dbpedia/2015/en, /s/resource/unic...</td>\n    </tr>\n    <tr>\n      <th>3</th>\n      <td>[/s/resource/dbpedia/2015/en, /s/resource/unic...</td>\n    </tr>\n    <tr>\n      <th>4</th>\n      <td>[/s/resource/unicode/cldr/32.0.1]</td>\n    </tr>\n    <tr>\n      <th>...</th>\n      <td>...</td>\n    </tr>\n    <tr>\n      <th>鼻孔內</th>\n      <td>[petgame]</td>\n    </tr>\n    <tr>\n      <th>鼻孔裡</th>\n      <td>[petgame]</td>\n    </tr>\n    <tr>\n      <th>齊齊</th>\n      <td>[/s/resource/wiktionary/en]</td>\n    </tr>\n    <tr>\n      <th>齋</th>\n      <td>[/s/resource/cc_cedict/2017-10]</td>\n    </tr>\n    <tr>\n      <th>龍妹</th>\n      <td>[/s/resource/wiktionary/en]</td>\n    </tr>\n  </tbody>\n</table>\n<p>5982 rows × 1 columns</p>\n</div>"
     },
     "metadata": {},
     "execution_count": 225
    }
   ],
   "source": [
    "grp = new_vocab_source.groupby(0).agg(lambda g: g.to_list())\n",
    "grp['source'] = grp.source.transform(lambda nl: np.unique([item for l in nl for item in l]))\n",
    "grp"
   ]
  },
  {
   "cell_type": "code",
   "execution_count": 247,
   "metadata": {},
   "outputs": [],
   "source": [
    "new_vocabs_by_sources = grp.explode('source').groupby('source').apply(lambda x: x.index.to_list())"
   ]
  },
  {
   "cell_type": "code",
   "execution_count": 255,
   "metadata": {},
   "outputs": [
    {
     "output_type": "execute_result",
     "data": {
      "text/plain": [
       "source\n",
       "/s/resource/cc_cedict/2017-10      [a, 一個人, 一個樣, 一句話, 一字, 一定要, 一意, 一百一, 一空, 一舉, 一...\n",
       "/s/resource/dbpedia/2015/en        [0, 1, 2, 3, 5, 9, a, 一杯酒, 七七節, 七十士譯本, 不等, 中斷,...\n",
       "/s/resource/unicode/cldr/32.0.1    [1, 2, 3, 4, 5, 9, a, 一杯酒, 上衣, 不懂, 不滿意, 不相信, 不...\n",
       "/s/resource/wiktionary/de          [一千一, 一行, 一起, 丁, 三十一, 不同的, 久長, 二百五, 云, 亦, 人世, ...\n",
       "/s/resource/wiktionary/en          [0, 1, 一上, 一丟, 一人, 一個人, 一國, 一團, 一夜之間, 一夥, 一意, ...\n",
       "/s/resource/wiktionary/fr          [一起, 丁, 下一個, 不朽, 中原, 中止, 于, 云, 亦, 人參, 人格, 人體, ...\n",
       "petgame                            [一中, 一些人, 一個人, 一個人去, 一個兒子, 一個名字, 一個家, 一個島, 一個男...\n",
       "dtype: object"
      ]
     },
     "metadata": {},
     "execution_count": 255
    }
   ],
   "source": [
    "new_vocabs_by_sources"
   ]
  },
  {
   "cell_type": "code",
   "execution_count": 262,
   "metadata": {},
   "outputs": [
    {
     "output_type": "execute_result",
     "data": {
      "text/plain": [
       "'0 1 一上 一丟 一人 一個人 一國 一團 一夜之間 一夥 一意 一望 一條線 一歇 一發 一百一 一百歲 一空 一節 一舉 一處 一行 一見 一起 一門 一雙 一點也不 丁當 七十三 七十六 七國 三代 三個 三分 三十一 三十九 三十八 三小 三層 三更 三條 三番 上人 上傳 上像 上光 上分 上半 上半截 上合 上回 上坐 上奏 上套 上帳 上座 上德 上愚 上房 上操 上日 上晝 上朝 上正 上水 上油 上活 上無 上照 上燈 上畫 上相 上知 上禮拜 上稅 上第 上算 上糞 上聖 上肢 上腦 上臉 上落 上衣 上表 上裝 上言 上進 上達 上都 上野 上閂 上鞋 上首 上香 上體 上高 下一個 下作 下半 下回 下埃及 下女 下子 下心 下沉 下詔 下達 下門 下頭 不一 不一定 不乾 不亂 不休 不來 不依 不信神 不信神的 不停 不備 不允 不全 不公平 不利 不勞 不厭 不可以 不可信 不可用 不可缺 不吉 不吝 不和 不堪 不外 不多時 不孝 不容易 不實 不寬容 不對 不屈 不差 不干 不從 不復 不忘 不忠 不快 不思 不恨 不情願 不慣 不懂 不懈 不揀 不敗 不敬 不敵 不早 不有 不服從 不朽 不棄 不樂 不比 不治 不注意 不清 不為 不甘 不甚 不生育 不生育的 不知道 不禁 不移 不等 不興 不舉 不解 不計 不識 不足的 不辭 不速 不遵 不關 不離 不願 不體貼 世主 世好 世子 世孫 並不 並起 中上 中二 中亞 中位 中出 中原 中可 中和 中哥 中天 中常 中斷 中日 中止 中正 中游 中用 中的 中看 中聽 中胡 中興 中舉 中藏 中計 中跑 中都 中非 中點 串 丹 主上 主婦 主將 主打 主教 主管 主謀 久長 乏困 乖 九十二 九十五 九十八 也不 也就是 也是 乳哺 亂主 了得 了無 了當 了離 事急 事端 二三 二人轉 二十七 二回 二天 二更 二百五 云 五十一 五十三 五十二 些少 亞基 亞省 亞達月 亦 亨 亭 亮星 人世 人中 人偶 人像 人參 人和 人堆 人從 人性 人情 人格 人權 人煙 人相 人聲 人肉 人臉 人設 人證 人選 人骨 人體 仁 今人 介 仔 他人 他心 他日 他用 仗勢 付 付與 仙 代代 代為 以免 以前的 以往 以是 以祿月 以色列人 以西 以西結 以賽亞書 仰 仰觀 任人 伊拉 伍 伍的 伏地 休書 伯有 伶 似的 但書 位能 低下 低微的 低處 住人 住房 佑 何不 何在 何干 何得 何為 何自 何西阿書 何許 作別 作女 作戰 作歹 作死 作物 作用 作田 作聲 作詩 作證 作難 你們自己 你國 你妹 你我 你早 你是誰 你每 你的 你知道 你等 使人 使出 使力 使君 使痛苦 來人 來使 來去 來吧 來復 來日 來朝 來登 來的 來說 例行 侵 便了 便可 便所 便看 係 俄巴底亞 信人 修指 修殿節 修路 個子 個頭 倒是 倒行 候 候審 倭 偉 做出 做呢 做夢的人 做完 做田 備受 傲人 傲慢的 傳道者 僅有 像樣 僚 僮 儀 億 元 兄哥 先發 光和 光滑的 克己 克希 克拉 免罪 兒歌 入來 入便 入內 入列 入園 入土 入城 入境 入宮 入山 入庫 入會 入死 入水 入睡 入迷 內亞 內使 內侍 內向 內裡 內親 全勝 全心 全是 兩岸的 兩手 兩翼 八十七 八十三 八十二 八十八 八十六 八十四 八月十五 八死 公判 公廳 公所 公正的 六十一 六十九 六十五 兵勢 兵馬 兼 再一次 再不 再來 再建 再想 再看 再臨 再開 冒著 冷宮 冷門 凱 凳 凸面 出使 出便 出在 出境 出山 出手 出沒 出火 出界 出發 出神 出聘 出聲 出行 出言 出貨 出陣 出馬 分中 分家 分憂 分道 分開的 切要 切除 列傳 列出 列坐 列子 列強 列為 列聖 初三 判 判案 別國 別樣 別的東西 利他 利多 利子 利於 利是 利率 利馬 到了 到家 到得 到手 到時 到此 到死 到頭 刷 刺花 則 削 前事 前代 前作 前因 前夜 前天 前年 前戲 前提 前禁 前腿 前門 前驅 剛要 剪蟲 剪髮 創世記 力作 力圖 加一 加來 加利利海 加多 加大 加沙 加熱 助惡 勃然 勒文 動刀 動刀兵 勝仗 勝於 勞勞 勤 化外 化為 北方人 匙 匹馬 十字 十字路 千里 午覺 午間 半子 半截的 卑微的 南亞 南人 南至 南門 南風 占 卻說 原職 去你的 去後 去留 參巴 及其 及第 叔 叔母 取來 受命 受損 受眾 受罪 受罰 受訓 受賄 受過 叛逆的 叢 叢雜 口交 口吃 口水 口活 古巴 另有 叨叨 只在 只見 叫獸 可不 可以說 可動 可好 可心 可怕的 可悲 可折 可接受 可數 可親 可食 史上 吃人 吃吃 吃土 吃完 吃的 吃素 吃草 吃風 各各 合口 合意 同一 同一個 同上 同前 同妻 同安 同宗的 同歸 同犯 同聲 同門 同音 名利 名勝 名相 后坐 后面 向後 向日 否 吳 吵 吹動 吾 呂底亞 呈上 告發 周 命中 和人 和好 和平的 和散那 和文 和歌 和氣 和美 和親 咒 咸 品 哇 哈利路亞 哈巴 哈比人 哈羅 哈該 哥 哥們 哩 哪樣 哲人 商 喃 善報 善戰 善美 喉 喝大 喪家 喪生 單向 嘔 嘻 噓 器 噬 噴出 嚇人 四下 四十一 四十七 四十九 四十四 四更 四肢 四輪 四風 回路 回頭看 因何 困窘 固有 國一 國三 國交 國君 國是 國道 國都 圍坐 圍聚 圍著 圍觀 圖 團 團團 土生 土造 在下 在人 在先 在其上 在前面 在在 在地 在地的 在場 在床上 在後 在意 在押 在望 在本 在生 在行 在近 在逃 在野 地保 地利 地動 地名 地底 地心 地方的 地望 地極 地處 地頭 坐監 垂聽 垂頭 垂顧 埃 埃及人 城裡 城郊 基底 基斯流月 基石 基米 堅持 報說 場地 填 塵 墜胎 墾荒 壓傷 士人 士多 士師 士師記 士的 壯大 夏 外加 外勞 外包 外在 外帶 外族 外腎 外蒙 外行 外觀 外遇 多事 多人 多分 多哥 多嘴 多大 多寡 多少錢 多尼 多工 多心 多病 多發 多羅 多見 多言 多語 多金 多雨 多雨的 夜行 夢中 大一 大亂 大仁 大伯 大使 大便 大元 大兒子 大全 大兵 大勝 大可 大同 大呼 大和 大四 大地震 大壯 大女兒 大寶 大將 大巴 大年 大怒 大惡 大成 大把 大智 大智慧 大正 大步 大殺 大派 大流 大為 大碼 大米 大老 大興 大街 大解 大言 大話 大過 大錯 大雅 大馬 大驚 大魚 天使長 天使面 天后 天哪 天地間 天安 天才 天早 天花 天賜 天露 太過 失腳 夾 奇妙的 奉上 奪回 奮勉 女中 女使 女同 女名 女將 女服 女的 奸 好不 好喝 好在 好報 好天 好學 好幾 好死 好用 好的 好說 好賣 好酒 好食 好飲 如上 如夢 如數 如月 如雨 妃 妄想的 妓 妝 妹 姓 姪兒 姪子 威嚴的 娘 娘家 婚 婿 媽 嫁給 嬌養 子兒 子子 子拉 孔 字數 字母 存疑 孝 孝敬 季 孤 孩子們 宅 安住 安可 安多 安家 安山 安康 安得 安心 安所 安生 完了 完人 完全的 宏 官名 官商 官長 定存 定規 定計 宮中 宮室 宮府 宮院 宴 宵 家公 家境 家家 家將 家生 家當 家裡的 家財 富 寒 實地 實實 實施 實是 實話 實錄 寫出 寶 寶盒 寸 將會 將死 尋查 尋索 尋見 對偶 對打 對於 對路 小人 小便 小兒子 小器 小女 小女兒 小孩 小小 小巷 小片 小的 小錢 小隊 少壯 少時 尚在 就使 就像 就勢 就好了 就學 就活 尼散月 尼斯 局 居家 屍身 層 屯糧 山人 山內 山荒 岔 岡陵 峰 崖 崽 巖 川 巢 工交 工價 左轉 巧遇 巴中 巴哈 巴多羅買 巴斯 巴旦 巴比 巴西 布衣 帆 希圖 帕 帖 帚 帝 帥 帶兵 帶孩子 帶進 常人 常侍 常服 幕後 干戈 平和 平明 平行 平話 年三十 年上 年中 年來 年年 年所 年數 年末 幸 幾位 底人 底底 店 康 廚 廠 延 延年 引人 引出 引動 引誘人 弦樂 強人 強者 強行 強過 彌迦 彎彎 彼 待客 後便 後年 後心 後果 後王 後生 後的 後行 後起 後跟 後院 得了 得來 得全 得很 得時 得獎 得當 得益 得米 得脫 得點 從不 從人 從今 從俗 從命 從母 從細 從這裡 御園 御酒 復還 德 心內 心口 心寒 心實 心愛 心慌 心疼 心窩 心結 心經 心跳 心軟 必勝 必應 必殺 忍氣 忍者 快手 快走 快跑 怒斥 思明 性 性地 性行 恩可 恩相 恭 悶 悶悶 惡來 惡念 惡死 惡黨 想必 想法 想盡 想通 惹氣 愁眉 意外 意外的 意愛 愚 愛上 愛妻 愛將 愛憐 愛現 愛知 愛美 愛錫 愛馬 慘 慟哭 憎 懂 應和 應許之地 應該的 懷怨 戀人 戀情 戀戀 成了 成人 成義 我不在乎 我不明白 我不知道 我也是 我倒 我去 我叫 我是猶太人 我有 我每 我渴了 我病了 我的天 我知道 我等 我自己 我靠 我餓了 戒 戒行 截 戰時 戰越 戰陣 戲園 戳 戶 所有的 所需 手創 手動 手寫 手指 手表 手辦 手靠 手黏 打住 打小 打戰 打手 打流 打的 打糧 打車 打鐵 打非 扛抬 扶她 批 找不到 找不著 把來 把家 抗 抱有 抹子 押頭 拆下 拇指 拉天 拉子 拉拉 拉長 拉面 拖 招損 拜一 拜日 拜金 拿大 拿手 拿細耳人 拿起 拿鐵 拿頂 持 按日 按月 按班 挾制 捏 掉下 掉渣 排 掙 接戰 控 推讓 提備 提別月 提心 提頭 插上 揚名 揚聲 換上 換新 換衣 搖搖 搖搖晃晃 搖晃 搬弄 摩尼 摩的 摩西書 摺 撇棄 撒手 撒馬利亞人 撫 撻 擊傷 擊鼓 擋路 操 擔罪 擘餅 據我看來 擦去 擺列 擺酒 擺開 攔擋 攢錢 收殮 改天 改行 故地 故殺 故都 敏 救出 敗仗 敞 敢當 敢自 散髮 敦 敬老 整整 敵手 敷藥 數日 文 文字學 斤 斯羅 新地 新建 新舊 施法 旁觀 族弟 族長 既定 既成 日下 日中 日久 日來 日內 日安 日曬 日沒 日立 早上 早死 昆 明世 明公 明告 明心 明智 明燈 明起 明辨 昏迷的 易 易讀 是也 是以 是但 是必 是故 是日 是正 是的 是誰 是這樣嗎 時下 時人 時光 時務 時日 時氣 時流 時興 時間 時雨 晃晃 晉 晚安 晚日 晚點 晨 普 智識 暗裡 暴 暴怒的 曬熟 更不用說 更壞 更少 更遠 書生 曾經 最低 最多 最愛 最高的 會使 會商 會安 會得 會悟 會聚 會說 月中 月供 月內 月出 月夜 月日 月朔 月給 有一天 有一手 有一點 有了 有以 有傷 有喜 有多 有學問 有害的 有幫助 有影 有心 有性 有成 有戲 有才 有效 有數 有料 有日 有月經 有機 有毛病 有為 有甚 有生命的 有產 有異 有的 有益的 有知識的 有禮 有空 有窮 有節制 有經驗的 有聲 有能力 有蹄 有蹄的 有門 有關 有關係 有靈 朋友們 服人 服從的 服罪 服裝 期滿 木製 未可 未見 本宮 本當 本著 朱 朵雲 杆 李 村 東亞 東北 東南 東家 東門 東頭 東風 松 果樹學 枝幹 某時 柔 柳 根生的 根的 根頭 格 桂 桃 桃園 桅 桐 桿 梁 棄嬰 棒 椽 楊 楓 楚 楚楚 楠 榮和 樂從 樂歌 樞 模糊 樣衰 樹學 樹影 樹栽 機 機宜 檀香 次要 欣喜 款 歌名 正因 正心 正教 武 歸家 歸降 死後 死心 死忠 死活 殘體 段 殺到 殺身 殿下 毀壞的 每兩 每天的 毒手 比如 比心 比薩 毫 毯 民居 民心 民數 民數記 民權 民運 水下 水仙 水勢 水窪 水紅 水罐 水都 水門 永居 求其 求愛 求知 汗 汪汪 沒有了 沒有人 沒有兒女 沙地 沙巴 沙那 沫 河伯 河口 河東 河源 油光 泊 法人 法利賽人 法外 法教 法書 法辦 法醫 泛 泡 波 波斯國 波羅 波音 泣 泰 泳 洗白 洗衣 洛 洪亮 活的 派別 流質 浴盆 海法 海的 海西 液 涼涼 涼風 淋 淚汪汪 淡 淨利 淨身 深受 減 渡船 港 游移 湊 湧出 溝 溫 溫水 溺 滄海 滑石 滑舌 滔天 滿人 滿天 滿滿 滿頭 漁 漸變 潰亂 激 濟貧 濾 灣 火攻 火閃 炎 炒 為人 為善 為害 為甚麼 為重 為食 烏市 烏拉 烏西 無力償還 無厭 無妄 無子女 無常 無常的 無後 無所不 無指 無比的 無知的人 無神 無緣 無缺 無義 無計 無語 無論何時 無邪 無錯誤 無限 無雲 無鹽 煎盤 煤 熱天 燒熱 燕 燥 燥熱 燭 爐灰 爬上 爭競 父親的 爸 爾 牛一 牛皮 牛糞 牠們 牢的 牢記 牧人的 牲 特大 特指 牽著 犢 犬 狂瀾 狄 狐 猖 猜謎 猿 獄 獨生女 獨睡 獸面 獻禮 玄 玉 玉璽 王事 王氣 王都 玷污的 珍 珠 理事 理人 理兒 理工 瑪拉基 瑪雅 環子 瓣 瓦 甚麼時候 生就 生手 生蟲 產乳 產房 甦 用不著 用光 用器 用地 用完 用法 用筆 用言 由得 甲兵 申 男生 男的 男色的 界分 留遺 畢羅 略為 異象 異類 當來 當先 當在 當差 當心 當成 當更 當然 當眾 當選 疊 疑念 疵 疼 疼痛的 病臥 症 痔 痕 痛苦的 瘧 癆 癡 癢 癲 登高 發喊 發回 發大水 發威 發家 發推 發給 發車 白人 白火 白玉 白瑪瑙 白羊 白話 百分 百分之 百合 百年 百日 百萬 百里 的哥 的禾 皆因 皇 皺 皿 益 盒 盒子 盜 盞 盡皆 盡行 目光 直前 直進 直達 相問 相對的 相為 相較 相離 盾 省中 省事 眉 看出來 看房 看書 看門 真事 真字 眨 眼下 眼望 眼裡 眾位 眾怒 眾軍 睡不著 睹 瞳 知了 知事 知人 知名 知遇 石更 砌 破敵 硫 碌碌 碎金 確 礁 祖墳 祖師 祖神 神奇 神奧 神的 神的羔羊 神的食物 福樂 禧年 秀 私 私慾 私生 私話 稅吏 稅關 稟 稱說 穢物 空的 穿衣 突 窗臺 窩棚 窿 立業 立法 立腳 立足 站起來 章法 童 端的 端端 笨人 第一個 第五十 第四十 等人 等死 筏 筒 算出 算帳 管樂 節令 節後 節能 範 築城 米有 粉 粒 粗麵 精壯 糊 紀念冊 約拿 約拿單 約珥 紅玉 紅璧璽 紅花 紅衣 紅豆湯 紐 紙 紛亂 細米 細細 細罷特月 細聽 結了 結好 絕不 絕了 給以 給你 給我 絮叨 統兵 絲弦 綁帶 經事 經受 經商 經學 經已 經建 經由 經變 緊 緊跟 編 緩緩 縮 縮手 總管 總綱 繞道 繫上 繼 繼承 纍 缺乏的 罕有 罩 罪刑 罷兵 羅定 羅摩 羈 羊頭 美感 美稱 美金 羔 群聚 羹 羽 習 習慣了 翡 翳 翼 老了 老實 老將 老底 老是 老派 老的 而非 耐煩 耳墜 耶 耶穌教 耶魯 聖寶 聖山 聖年 聖禮 聖衣 聚首 聞知 聰明人 聽我說 聽教 聽過 肉緊 肝膽 肢 育兒 肺 胃 背風 胡 胸大 能人 能手 能為 脈 脫衣 腎 腎子 腓利門 腥 腰穿 膜 膠 膿 臍 自來 自在 自將 自己拿 自帶 自引 自用 自給 至人 至好 至日 至理 至終 至高 臺中 舅 與門 舉哀 舉起手 舊衣 舟 航海的 般 良 良謀 花盤 若望 若許 苦勸 英 茂 茄 荊條 莢 菜種 華日 華沙 菲 萍 萬幸 萬有 葉 著力 著名的 著地 著墨 著實 著意 著數 著時 著火 著病 著眼 著稱 著落 著裝 著重 葡 葦塘 葦子 蒙昧 蒼蒼 蓋亞 蓋樓 蓋法 蓮 蓮子 蔗 蕊 薪 藉著 藝 藝人 藥 蘇 處所 虛浮 號聲 虺蛇 虻 蚤 蛛網 蛾 蜂 蜘蛛 蝸 融 螞 螺 蟲害 蟻 蠅 蠢 蠶 蠻 血污 行在 行書 行開 行頭 術士 衛兵 衫 衲 袋 袖 被罪 裂縫 裙 裝假 裡便 裹頭 製 褲 西人 西南 西城 西學 西安 西彎月 西打 西方的 西西 西進 西都 西頭 西風 要不 要人 要好 要完 要強 要得 要犯 要約 要請 見在 見地 見外 見天日 見得 見棄 見機 見真 見說 見鬼 規日 規費 親兵 親家 親往 親愛的 親母 親親 覺著 角鴟 解和 解疑 言中 言傳 言和 言教 言說 記著 訟事 設有 許是 許都 詐敗 詞 試看 試試 話把 話本 話柄 話說 該亞法 該死的 該罰 誘人 語句 誤擊 說來 說到 說完 說的是 誰家 誰知道 課 請坐 請降 論說 謀殺 謎 講到 講耶穌 證人 識別 識得 譯本 護兵 護心鏡 讀完 變形 變節 讒謗 谷歌 谷變 豈不 豈不是 豈可 豐登 豬血 豺 貓 貝 貞 負罪 貢 貪睡 貴人 貴婦 買房 買賣人 貸 賊人 賤 質的 賭 贖罪日 贖身 赤體 走了 走來 走光 走去 走神 走紅 起士 起子 起用 起重 足成 跑到 跑開 跡 跤 路人 跳出 跳過 踝 踴 蹈 身懸 身材 身為 身長 躺下 車前 車行 車輦 軍兵 軍器 軍旗 軍械 軍長 軟 軟和 輕賤 輜重 輝 轄地 轉來 轉到 轡 辛 辰 辱沒 農會 迎敵 迎面 近古 近海 近路 迷 迷人 退後 送人 送情 送書 這下 這會 這次 這滿 這等 這馬 造次 連夜 週 進前 進攻 進朝 遍滿 遍觀 過世 過人 過多 過年 過水 過江 過海 過身 道人 道別 道地 道家 道教 道經 道義 道行 達人 達達 遠安 遠行 遣人 遣使 遭報 遮天 遼 避世 邁 還可以 那得 那是 那鴻 部 都合 都知 鄉人 鄰 酉 酊 配稱 酒漏 醇 醒過來 醜 醫病 重地 重罪 野的 量的 金冠 金牛 金牛犢 金線 金製 釘十字架 鈕 鈴 銅錢 銘 鋼 錚錚 錢銀 錦 鍋臺 鎮 鏈 鏡 鐐 鐵筆 鐵門 鑰 長上 長勢 長年 長得 長按 長槍 長沙 長波 長肉 長草 門下 門把 門簾 門都沒有 閂上 閉 閉口 閉門 開交 開大 開弓 開會 開本 開眼 開示 開罪 開羅 開開 閑 閒 閒事 閒飯 間或 間行 間隔 阿拉 阿連 阿達 附體 院牆 陣雨 陪 陰府 陳酒 陸 陸地 陽 陽上 陽平 障 隨在 隨地 隨著 雀 雄 雅安 集 集成 雕 雖然如此 雖說 雙生的 離家 離席 離愁 離歌 難事 難明 難為 難說 雨遮 雪藏 電 電擊 震 震天 霎時 霧 露骨 靈便 靖 靜聽 非得 面水 面生 面談 面面 音像 音變 響動 頂用 順子 順從的 頌 頒賞 領先 領兵 領帶 領軍 頭一 頭刺 頭帶 頭疼 頭胎 頭裡 頭赤 頭那 頰 頸 題詩 風吹 風土 風暴 風發 飛散 飛的 飛騰 食人 食飽 飯量 飽食 養大 養父母 養神 養身 餐 餘利 饑饉 首先的 首都 香火 香肉 馬來 馬可 馬打 馬提亞 馬槽 馬路 馬軍 駐防 駒 駱 騙人 骨立 髒 髓 體內 體高 高二 高低 高壓 高岡 高抬 高臺 高門 高飛 髮白的 鬚 鬢邊 鬼知 魯 鱷 鳥鳴 鳩 鴉 鷂 鷺 鸛鳥 麥餅 麻繩 麼人 黃楊木 黎 黏 黑雲 點燈 點點 齊齊 龍妹'"
      ]
     },
     "metadata": {},
     "execution_count": 262
    }
   ],
   "source": [
    "' '.join(new_vocabs_by_sources.iloc[4])"
   ]
  },
  {
   "cell_type": "code",
   "execution_count": 265,
   "metadata": {},
   "outputs": [
    {
     "output_type": "execute_result",
     "data": {
      "text/plain": [
       "False"
      ]
     },
     "metadata": {},
     "execution_count": 265
    }
   ],
   "source": [
    "'約拿' in strategy._words_vec.index"
   ]
  }
 ]
}