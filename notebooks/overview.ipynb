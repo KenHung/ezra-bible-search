{
 "metadata": {
  "language_info": {
   "codemirror_mode": {
    "name": "ipython",
    "version": 3
   },
   "file_extension": ".py",
   "mimetype": "text/x-python",
   "name": "python",
   "nbconvert_exporter": "python",
   "pygments_lexer": "ipython3",
   "version": "3.7.9-final"
  },
  "orig_nbformat": 2,
  "kernelspec": {
   "name": "cnlp",
   "display_name": "ezra",
   "language": "python"
  }
 },
 "nbformat": 4,
 "nbformat_minor": 2,
 "cells": [
  {
   "source": [
    "# Overview of Popular Word Embeddings\n",
    "## Overall Size"
   ],
   "cell_type": "markdown",
   "metadata": {}
  },
  {
   "cell_type": "code",
   "execution_count": 23,
   "metadata": {},
   "outputs": [
    {
     "output_type": "stream",
     "name": "stdout",
     "text": [
      "<class 'pandas.core.frame.DataFrame'>\nIndex: 1635499 entries, /c/de/####er to /c/zh/𫚉鱼\nColumns: 300 entries, 0 to 299\ndtypes: int8(300)\nmemory usage: 480.4+ MB\n"
     ]
    }
   ],
   "source": [
    "import pandas as pd\n",
    "\n",
    "conceptnet = pd.read_hdf('mini.h5')\n",
    "conceptnet.info()"
   ]
  },
  {
   "cell_type": "code",
   "execution_count": 1,
   "metadata": {},
   "outputs": [],
   "source": [
    "import fasttext.util\n",
    "fasttext.util.download_model('zh', if_exists='ignore')\n",
    "ft = fasttext.load_model('cc.zh.300.bin')"
   ]
  },
  {
   "cell_type": "code",
   "execution_count": 24,
   "metadata": {},
   "outputs": [
    {
     "output_type": "stream",
     "name": "stdout",
     "text": [
      "-rw-r--r--  1 Ken  staff   6.7G Jan  1 11:05 cc.zh.300.bin\n-rw-r--r--@ 1 Ken  staff   4.2G Jan  1 11:01 cc.zh.300.bin.gz\n"
     ]
    }
   ],
   "source": [
    "!ls -lh cc.zh.300.bin*"
   ]
  },
  {
   "source": [
    "## Chinese vocabs"
   ],
   "cell_type": "markdown",
   "metadata": {}
  },
  {
   "cell_type": "code",
   "execution_count": 25,
   "metadata": {},
   "outputs": [
    {
     "output_type": "stream",
     "name": "stdout",
     "text": [
      "<class 'pandas.core.frame.DataFrame'>\nIndex: 270235 entries, /c/zh/##cm to /c/zh/𫚉鱼\nColumns: 300 entries, 0 to 299\ndtypes: int8(300)\nmemory usage: 79.4+ MB\n"
     ]
    }
   ],
   "source": [
    "conceptnet_zh = conceptnet[conceptnet.index.str.startswith('/c/zh')]\n",
    "conceptnet_zh.info()"
   ]
  },
  {
   "cell_type": "code",
   "execution_count": 26,
   "metadata": {},
   "outputs": [
    {
     "output_type": "execute_result",
     "data": {
      "text/plain": [
       "2000000"
      ]
     },
     "metadata": {},
     "execution_count": 26
    }
   ],
   "source": [
    "len(ft.words)"
   ]
  },
  {
   "source": [
    "## Simple words compare"
   ],
   "cell_type": "markdown",
   "metadata": {}
  },
  {
   "cell_type": "code",
   "execution_count": 56,
   "metadata": {},
   "outputs": [],
   "source": [
    "from itertools import combinations\n",
    "from sklearn.metrics.pairwise import cosine_similarity\n",
    "\n",
    "def word_similarity(get_vector, word1: str, word2: str) -> float:\n",
    "    vec1 = get_vector(word1)\n",
    "    vec2 = get_vector(word2)\n",
    "    return cosine_similarity(vec1.reshape(1, -1), vec2.reshape(1, -1))[0][0]\n",
    "\n",
    "def compare_words(get_vector):\n",
    "    word_list = [\n",
    "        '歡欣', '歡樂', '喜樂', '快樂', '高興', '喜樂', '服事', '事奉', '敬畏', '害怕', '祈禱',\n",
    "        '是', '祈禱', '禱告', '要说', '挂虑', '喜樂', '苦難', '喜乐', '苦难', '喜乐', '荣耀', '喜乐', '财利'\n",
    "    ]\n",
    "    word_list = pd.Series(word_list).unique()\n",
    "    word_combinations = combinations(word_list, 2)\n",
    "    word_scores = {word_pair: word_similarity(get_vector, *word_pair)\n",
    "                   for word_pair in word_combinations if word_pair[0] != word_pair[1]}\n",
    "    for pair in sorted(word_scores, key=word_scores.get, reverse=True)[:10]:\n",
    "        print(f'{pair}: {word_scores[pair]}')"
   ]
  },
  {
   "cell_type": "code",
   "execution_count": 60,
   "metadata": {},
   "outputs": [
    {
     "output_type": "stream",
     "name": "stdout",
     "text": [
      "('喜樂', '喜乐'): 0.9092429111196532\n('苦難', '苦难'): 0.898737950176371\n('祈禱', '禱告'): 0.857233449674653\n('快樂', '高興'): 0.8516892402941497\n('歡樂', '快樂'): 0.8374214375408773\n('服事', '事奉'): 0.7964751831365556\n('歡樂', '高興'): 0.7595223770702401\n('歡樂', '喜樂'): 0.7027476227631397\n('歡樂', '喜乐'): 0.633865849560741\n('喜樂', '快樂'): 0.5790454036495138\n"
     ]
    }
   ],
   "source": [
    "def ccn_get_word_vector(word):\n",
    "    return conceptnet_zh.loc[f'/c/zh/{word}'].to_numpy()\n",
    "\n",
    "compare_words(ccn_get_word_vector)"
   ]
  },
  {
   "cell_type": "code",
   "execution_count": 58,
   "metadata": {},
   "outputs": [
    {
     "output_type": "stream",
     "name": "stdout",
     "text": [
      "('服事', '事奉'): 0.7572233080863953\n('祈禱', '禱告'): 0.7417813539505005\n('苦難', '苦难'): 0.6590461730957031\n('歡樂', '快樂'): 0.6331542134284973\n('喜樂', '快樂'): 0.5811575651168823\n('喜樂', '喜乐'): 0.5609360337257385\n('喜樂', '禱告'): 0.556587815284729\n('快樂', '高興'): 0.5492446422576904\n('歡欣', '歡樂'): 0.5454975962638855\n('喜樂', '苦難'): 0.5265867710113525\n"
     ]
    }
   ],
   "source": [
    "compare_words(ft.get_word_vector)"
   ]
  },
  {
   "cell_type": "code",
   "execution_count": 67,
   "metadata": {},
   "outputs": [
    {
     "output_type": "execute_result",
     "data": {
      "text/plain": [
       "0.2727139927512483"
      ]
     },
     "metadata": {},
     "execution_count": 67
    }
   ],
   "source": [
    "word_similarity(ccn_get_word_vector, '喜樂', '歡歡喜喜')"
   ]
  }
 ]
}