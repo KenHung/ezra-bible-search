{
 "metadata": {
  "language_info": {
   "codemirror_mode": {
    "name": "ipython",
    "version": 3
   },
   "file_extension": ".py",
   "mimetype": "text/x-python",
   "name": "python",
   "nbconvert_exporter": "python",
   "pygments_lexer": "ipython3",
   "version": "3.7.9-final"
  },
  "orig_nbformat": 2,
  "kernelspec": {
   "name": "cnlp",
   "display_name": "ezra",
   "language": "python"
  }
 },
 "nbformat": 4,
 "nbformat_minor": 2,
 "cells": [
  {
   "source": [
    "# Transformer models\n",
    "\n",
    "## Load data"
   ],
   "cell_type": "markdown",
   "metadata": {}
  },
  {
   "cell_type": "code",
   "execution_count": 1,
   "metadata": {},
   "outputs": [],
   "source": [
    "from hanziconv import HanziConv\n",
    "from ezra import BibleSearchEngine, BibleSearchStrategy\n",
    "\n",
    "ezra_engine = BibleSearchEngine()\n",
    "ezra_engine.bible['text_s'] = ezra_engine.bible.text.apply(HanziConv.toSimplified)"
   ]
  },
  {
   "source": [
    "## Compute embeddings"
   ],
   "cell_type": "markdown",
   "metadata": {}
  },
  {
   "cell_type": "code",
   "execution_count": 2,
   "metadata": {},
   "outputs": [],
   "source": [
    "import pickle\n",
    "from sentence_transformers import SentenceTransformer, util\n",
    "\n",
    "max_seq = ezra_engine.bible.text_s.str.len().max()\n",
    "\n",
    "class SentenceTransformerStrategy(BibleSearchStrategy):\n",
    "    def __init__(self, model_name: str):\n",
    "        self.model = SentenceTransformer(model_name)\n",
    "        self.model.max_seq_length = max_seq\n",
    "        self.verse_emb = self.model.encode(ezra_engine.bible.text_s, show_progress_bar=True)\n",
    "        self.save_embeddings(f'data/embeddings/{model_name}.pkl')\n",
    "\n",
    "    def save_embeddings(self, path: str):\n",
    "        with open(path, \"wb\") as fOut:\n",
    "            pickle.dump(self.verse_emb, fOut, protocol=pickle.HIGHEST_PROTOCOL)\n",
    "\n",
    "    def search(self, keyword, top_k):\n",
    "        keyword_emb = self.model.encode([keyword])\n",
    "        results = util.semantic_search(keyword_emb, self.verse_emb)[0]\n",
    "        return [(r['corpus_id'], r['score']) for r in results]"
   ]
  },
  {
   "cell_type": "code",
   "execution_count": 3,
   "metadata": {},
   "outputs": [
    {
     "output_type": "stream",
     "name": "stderr",
     "text": [
      "Exception when trying to download https://sbert.net/models/hfl/chinese-bert-wwm.zip. Response 404\n",
      "WARNING:root:SentenceTransformer-Model https://sbert.net/models/hfl/chinese-bert-wwm.zip not found. Try to create it from scratch\n",
      "WARNING:root:Try to create Transformer Model hfl/chinese-bert-wwm with mean pooling\n",
      "Batches: 100%|██████████| 972/972 [2:44:47<00:00, 10.17s/it]\n"
     ]
    }
   ],
   "source": [
    "wwm = SentenceTransformerStrategy('hfl/chinese-bert-wwm')\n",
    "ezra_engine.strategy = wwm"
   ]
  },
  {
   "cell_type": "code",
   "execution_count": 4,
   "metadata": {},
   "outputs": [],
   "source": [
    "searches = ['挂虑 祈祷', '喜乐 事奉', '求救', '信心 行事']"
   ]
  },
  {
   "cell_type": "code",
   "execution_count": 5,
   "metadata": {},
   "outputs": [
    {
     "output_type": "stream",
     "name": "stdout",
     "text": [
      "Searches for 挂虑 祈祷:\n",
      "Score:  0.7362 我便禁食，披麻蒙灰，定意向主神祈禱懇求。\n",
      "Score:  0.7213 在思念夜中、異象之間，世人沉睡的時候，\n",
      "Score:  0.7213 我心中急躁，所以我的思念叫我回答。\n",
      "Score:  0.7168 我想念神，就煩躁不安；我沉吟悲傷，心便發昏。（細拉）\n",
      "Score:  0.7104 不住地禱告，\n",
      "Score:  0.7096 像奴僕切慕黑影，像雇工人盼望工價；\n",
      "Score:  0.7085 恐懼戰兢歸到我身；驚恐漫過了我。\n",
      "Score:  0.7084 他當口貼塵埃，或者有指望。\n",
      "Score:  0.7066 常在殿裡稱頌神。\n",
      "Score:  0.7033 人因多受欺壓就哀求，因受能者的轄制（原文是膀臂）便求救，\n",
      "\n",
      "Searches for 喜乐 事奉:\n",
      "Score:  0.8281 因聽見你們在基督耶穌裡的信心，並向眾聖徒的愛心，\n",
      "Score:  0.8228 為他們記念他的約，照他豐盛的慈愛後悔。\n",
      "Score:  0.8216 向我們列祖施憐憫，記念他的聖約─\n",
      "Score:  0.8208 我心渴想你的救恩，仰望你的應許。\n",
      "Score:  0.8206 但我倚靠你的慈愛；我的心因你的救恩快樂。\n",
      "Score:  0.8184 願平安、仁愛、信心從父神和主耶穌基督歸與弟兄們！\n",
      "Score:  0.8170 願恩惠、平安從神我們的父並主耶穌基督歸與你們！\n",
      "Score:  0.8162 要常常喜樂，\n",
      "Score:  0.8148 你們要用愛心彼此親嘴問安。願平安歸與你們凡在基督裡的人！\n",
      "Score:  0.8141 門徒滿心喜樂，又被聖靈充滿。\n",
      "\n",
      "Searches for 求救:\n",
      "Score:  0.7617 a\n",
      "Score:  0.7617 a\n",
      "Score:  0.7617 a\n",
      "Score:  0.7617 a\n",
      "Score:  0.7617 a\n",
      "Score:  0.7617 a\n",
      "Score:  0.7617 a\n",
      "Score:  0.7617 a\n",
      "Score:  0.7617 a\n",
      "Score:  0.7617 a\n",
      "\n",
      "Searches for 信心 行事:\n",
      "Score:  0.7641 但要凡事察驗；善美的要持守，\n",
      "Score:  0.7587 惡人臉無羞恥；正直人行事堅定。\n",
      "Score:  0.7445 凡事包容，凡事相信，凡事盼望，凡事忍耐。\n",
      "Score:  0.7444 你自己凡事要顯出善行的榜樣；在教訓上要正直、端莊，\n",
      "Score:  0.7380 凡事謙虛、溫柔、忍耐，用愛心互相寬容，\n",
      "Score:  0.7375 不要以惡報惡；眾人以為美的事要留心去做。\n",
      "Score:  0.7357 一主，一信，一洗，\n",
      "Score:  0.7333 我因此自己勉勵，對神對人，常存無虧的良心。\n",
      "Score:  0.7331 惟用愛心說誠實話，凡事長進，連於元首基督，\n",
      "Score:  0.7326 但你已經服從了我的教訓、品行、志向、信心、寬容、愛心、忍耐，\n",
      "\n"
     ]
    }
   ],
   "source": [
    "for kw in searches:\n",
    "    results = ezra_engine.search(kw, verbose=True)"
   ]
  },
  {
   "cell_type": "code",
   "execution_count": null,
   "metadata": {},
   "outputs": [],
   "source": [
    "du = SentenceTransformerStrategy('distiluse-base-multilingual-cased-v2')\n",
    "ezra_engine.strategy = du"
   ]
  },
  {
   "cell_type": "code",
   "execution_count": 66,
   "metadata": {},
   "outputs": [
    {
     "output_type": "stream",
     "name": "stdout",
     "text": [
      "Searches for 挂虑 祈祷:\nScore:  0.8784 不住地禱告，\nScore:  0.6724 請弟兄們為我們禱告。\nScore:  0.6638 你們要恆切禱告，在此警醒感恩。\nScore:  0.6236 求你從天上垂聽他們的禱告祈求，使他們得勝。\nScore:  0.6216 求你在天上垂聽他們的禱告祈求，使他們得勝。\nScore:  0.6107 神啊，求你聽我的禱告，留心聽我口中的言語。\nScore:  0.6091 你們禱告，無論求甚麼，只要信，就必得著。」\nScore:  0.6088 應當一無掛慮，只要凡事藉著禱告、祈求，和感謝，將你們所要的告訴神。\nScore:  0.5979 你們要呼求我，禱告我，我就應允你們。\nScore:  0.5791 聽禱告的主啊，凡有血氣的都要來就你。\n\nSearches for 喜乐 事奉:\nScore:  0.6796 要常常喜樂，\nScore:  0.4753 折腳折手的、\nScore:  0.4182 惟有義人必然歡喜，在神面前高興快樂。\nScore:  0.4167 猶大人有光榮，歡喜快樂而得尊貴。\nScore:  0.4079 說：\nScore:  0.4074 卑微的弟兄升高，就該喜樂；\nScore:  0.3984 以利戶又說：\nScore:  0.3984 以利戶又說：\nScore:  0.3937 你們要靠主常常喜樂。我再說，你們要喜樂。\nScore:  0.3900 不住地禱告，\n\nSearches for 求救:\nScore:  0.4954 說：\nScore:  0.4761 不住地禱告，\nScore:  0.4265 拯救我的主啊，求你快快幫助我！\nScore:  0.4238 亞希雅、哈難、亞難、\nScore:  0.4010 折腳折手的、\nScore:  0.3940 a\nScore:  0.3940 a\nScore:  0.3940 a\nScore:  0.3940 a\nScore:  0.3940 a\n\nSearches for 信心 行事:\nScore:  0.4612 可見，信心是與他的行為並行，而且信心因著行為才得成全。\nScore:  0.4397 必有人說：「你有信心，我有行為；你將你沒有行為的信心指給我看，我便藉著我的行為，將我的信心指給你看。」\nScore:  0.4238 你有信心，就當在神面前守著。人在自己以為可行的事上能不自責，就有福了。\nScore:  0.4053 使徒對主說：「求主加增我們的信心。」\nScore:  0.4017 並且仰望神的應許，總沒有因不信心裡起疑惑，反倒因信心裡得堅固，將榮耀歸給神，\nScore:  0.3920 凡事包容，凡事相信，凡事盼望，凡事忍耐。\nScore:  0.3805 且滿心相信神所應許的必能做成。\nScore:  0.3774 他所說的話，有信的，有不信的。\nScore:  0.3723 這話是可信的，是十分可佩服的。\nScore:  0.3664 並且得著你們信心的果效，就是靈魂的救恩。\n\n"
     ]
    }
   ],
   "source": [
    "for kw in searches:\n",
    "    results = ezra_engine.search(kw, verbose=True)"
   ]
  },
  {
   "cell_type": "code",
   "execution_count": 64,
   "metadata": {},
   "outputs": [
    {
     "output_type": "stream",
     "name": "stderr",
     "text": [
      "Exception when trying to download https://sbert.net/models/bert-base-chinese.zip. Response 404\n",
      "WARNING:root:SentenceTransformer-Model https://sbert.net/models/bert-base-chinese.zip not found. Try to create it from scratch\n",
      "WARNING:root:Try to create Transformer Model bert-base-chinese with mean pooling\n",
      "Downloading: 100%|██████████| 624/624 [00:00<00:00, 165kB/s]\n",
      "Downloading: 100%|██████████| 412M/412M [22:01<00:00, 312kB/s]\n",
      "Downloading: 100%|██████████| 110k/110k [00:01<00:00, 107kB/s]  \n",
      "Downloading: 100%|██████████| 269k/269k [00:01<00:00, 171kB/s]\n",
      "Batches: 100%|██████████| 972/972 [3:09:39<00:00, 11.71s/it]\n"
     ]
    }
   ],
   "source": [
    "cb = SentenceTransformerStrategy('bert-base-chinese')\n",
    "ezra_engine.strategy = cb"
   ]
  },
  {
   "cell_type": "code",
   "execution_count": 73,
   "metadata": {},
   "outputs": [
    {
     "output_type": "stream",
     "name": "stdout",
     "text": [
      "Searches for 挂虑 祈祷:\nScore:  0.7046 我便禁食，披麻蒙灰，定意向主神祈禱懇求。\nScore:  0.6962 我想念神，就煩躁不安；我沉吟悲傷，心便發昏。（細拉）\nScore:  0.6863 每逢為你們眾人祈求的時候，常是歡歡喜喜地祈求。\nScore:  0.6860 我勸你，第一要為萬人懇求、禱告、代求、祝謝；\nScore:  0.6840 從何羅念有喊荒涼大毀滅的哀聲：\nScore:  0.6720 「當記念安息日，守為聖日。\nScore:  0.6706 我有憂愁，願能自慰；我心在我裡面發昏。\nScore:  0.6700 恐懼戰兢歸到我身；驚恐漫過了我。\nScore:  0.6697 在思念夜中、異象之間，世人沉睡的時候，\nScore:  0.6662 有一宗人（宗：原文是代；下同），咒詛父親，不給母親祝福。\n\nSearches for 喜乐 事奉:\nScore:  0.8040 要常常喜樂，\nScore:  0.7612 常在殿裡稱頌神。\nScore:  0.7516 我靈以神我的救主為樂；\nScore:  0.7488 總要察驗何為主所喜悅的事。\nScore:  0.7441 卑微的弟兄升高，就該喜樂；\nScore:  0.7429 不住地禱告，\nScore:  0.7420 猶大人有光榮，歡喜快樂而得尊貴。\nScore:  0.7405 散布亮光是為義人；預備喜樂是為正直人。\nScore:  0.7403 所羅門因為求這事，就蒙主喜悅。\nScore:  0.7373 在那裡傳福音。\n\nSearches for 求救:\nScore:  0.7817 a\nScore:  0.7817 a\nScore:  0.7817 a\nScore:  0.7817 a\nScore:  0.7817 a\nScore:  0.7817 a\nScore:  0.7817 a\nScore:  0.7817 a\nScore:  0.7817 a\nScore:  0.7817 a\n\nSearches for 信心 行事:\nScore:  0.7413 但要凡事察驗；善美的要持守，\nScore:  0.7335 我知道世人，莫強如終身喜樂行善；\nScore:  0.7248 你所命定的法度是憑公義和至誠。\nScore:  0.7236 若是能行，總要盡力與眾人和睦。\nScore:  0.7229 在含地行奇事，在紅海行可畏的事。\nScore:  0.7157 凡你們所做的都要憑愛心而做。\nScore:  0.7154 「人若是公義，且行正直與合理的事：\nScore:  0.7113 要常常喜樂，\nScore:  0.7085 靠你有力量、心中想往錫安大道的，這人便為有福！\nScore:  0.7073 不要以惡報惡；眾人以為美的事要留心去做。\n\n"
     ]
    }
   ],
   "source": [
    "for kw in searches:\n",
    "    results = ezra_engine.search(kw, verbose=True)"
   ]
  }
 ]
}