{
 "metadata": {
  "language_info": {
   "codemirror_mode": {
    "name": "ipython",
    "version": 3
   },
   "file_extension": ".py",
   "mimetype": "text/x-python",
   "name": "python",
   "nbconvert_exporter": "python",
   "pygments_lexer": "ipython3",
   "version": "3.7.9-final"
  },
  "orig_nbformat": 2,
  "kernelspec": {
   "name": "cnlp",
   "display_name": "ezra",
   "language": "python"
  }
 },
 "nbformat": 4,
 "nbformat_minor": 2,
 "cells": [
  {
   "source": [
    "# Related Terms Evaluation"
   ],
   "cell_type": "markdown",
   "metadata": {}
  },
  {
   "source": [
    "## ConceptNet"
   ],
   "cell_type": "markdown",
   "metadata": {}
  },
  {
   "cell_type": "code",
   "execution_count": 1,
   "metadata": {},
   "outputs": [],
   "source": [
    "from word_embeddings.conceptnet_strategy import ConceptNetStrategy\n",
    "strategy = ConceptNetStrategy()"
   ]
  },
  {
   "cell_type": "code",
   "execution_count": 2,
   "metadata": {},
   "outputs": [],
   "source": [
    "import numpy as np\n",
    "from sklearn.metrics.pairwise import cosine_similarity\n",
    "\n",
    "def related_terms_ccn(keyword_term: str, top_k: int):\n",
    "    kw_vec, _ = strategy._get_word_vectors(np.array([keyword_term]))\n",
    "    if kw_vec.shape[0] > 0:\n",
    "        similarity = cosine_similarity(kw_vec, strategy._words_vec)[0]\n",
    "        top_matches = np.argsort(similarity)[-1:-top_k-1:-1]\n",
    "        return [(strategy._words_vec.index[i], similarity[i]) for i in top_matches]\n",
    "    else:\n",
    "        return []"
   ]
  },
  {
   "cell_type": "code",
   "execution_count": 3,
   "metadata": {},
   "outputs": [],
   "source": [
    "from opencc import OpenCC\n",
    "\n",
    "t2s = OpenCC('t2s.json')\n",
    "\n",
    "def evaluate(related_terms):\n",
    "    keywords = open('../tests/word_tokens.txt').read().splitlines()\n",
    "    for keyword in keywords:\n",
    "        keyword = t2s.convert(keyword)\n",
    "        terms = (f'{t2s.convert(term):　>4}:　{prob:.2f}' for term, prob in related_terms(keyword, 10))\n",
    "        print(f'{keyword:　>4} {\" \".join(terms)}')"
   ]
  },
  {
   "cell_type": "code",
   "execution_count": 4,
   "metadata": {},
   "outputs": [
    {
     "output_type": "stream",
     "name": "stdout",
     "text": [
      "　　喜乐 　　喜乐:　1.00 　　欢乐:　0.80 　　喜悦:　0.78 　　欢心:　0.61 　　欢喜:　0.61 　　好气:　0.58 　　快乐:　0.58 　　恩慈:　0.53 　　欢畅:　0.47 　　知足:　0.45\n",
      "　　事奉 　　事奉:　1.00 　　服事:　0.80 　　效劳:　0.79 　　伺候:　0.72 　　奉养:　0.70 　　任职:　0.56 　　　奉:　0.52 　　反照:　0.50 　　　服:　0.49 　　善事:　0.46\n",
      "　　福音 　　福音:　1.00 　好消息:　0.55 　　新约:　0.54 神爱世人:　0.50 　　耶稣:　0.47 　　圣灵:　0.47 　　基督:　0.46 　　圣经:　0.45 　　圣神:　0.44 　　信德:　0.44\n",
      "　　祈祷 　　祈祷:　1.00 　　祷告:　0.98 　　祈求:　0.77 　　默祷:　0.67 　　敬拜:　0.67 　　求神:　0.65 　　信神:　0.62 　　拜神:　0.49 　　礼拜:　0.48 　　赐福:　0.47\n",
      "　　婚姻 　　婚姻:　1.00 　　嫁娶:　0.72 　　提亲:　0.70 　　娶妻:　0.69 　　生子:　0.68 　　结亲:　0.67 　　嫁人:　0.67 　　成亲:　0.63 　　好合:　0.63 　　　娶:　0.63\n",
      "　　逆境 　　患难:　0.65 　　苦境:　0.59 　　困难:　0.57 　　景况:　0.57 　　时势:　0.55 　　阵势:　0.54 　　情形:　0.53 　　境遇:　0.53 　　困苦:　0.52 　　忧患:　0.51\n",
      "　　上帝 　　　神:　0.79 　　天堂:　0.76 　　神明:　0.67 神爱世人:　0.64 　　天使:　0.59 　　神人:　0.59 　　圣城:　0.59 　　耶稣:　0.55 　　基督:　0.54 　　天国:　0.53\n",
      "　　旨意 　　旨意:　1.00 　　　诏:　0.70 　　命令:　0.64 　　号令:　0.63 　　王命:　0.63 　　谕旨:　0.59 　　圣旨:　0.54 　　律法:　0.54 　　次序:　0.53 　　敕令:　0.48\n",
      "　　苦难 　　苦难:　1.00 　　忧患:　0.91 　　苦楚:　0.84 　　苦处:　0.75 　　困苦:　0.65 　　悲惨:　0.57 　　苦海:　0.57 　　伤痛:　0.54 　　痛苦:　0.54 　　祸福:　0.53\n",
      "　　人生 　　人生:　1.00 　　生命:　0.84 　　生活:　0.76 　　性命:　0.74 　　人命:　0.74 　　一生:　0.72 　　活命:　0.63 　　享福:　0.60 　　恩慈:　0.59 　　偿命:　0.57\n",
      "　　　罪 　　　罪:　1.00 　　罪恶:　0.85 　　罪孽:　0.79 　　罪过:　0.75 　　作孽:　0.74 　　犯罪:　0.68 　　　孽:　0.63 　　罪责:　0.57 　　罪犯:　0.55 　　罪状:　0.52\n",
      "　同性恋 　　男色:　0.72 　　　基:　0.44 　　奸淫:　0.31 　所多玛:　0.30 　　爱爱:　0.29 　　性爱:　0.28 　　娈童:　0.28 　　自慰:　0.28 　　　璧:　0.27 　　过门:　0.26\n",
      "　　挂虑 　　挂虑:　1.00 　　顾念:　0.84 　　　愁:　0.83 　　担心:　0.76 　　担忧:　0.76 　　挂心:　0.74 　　忧虑:　0.73 　　著急:　0.69 　　挂念:　0.67 　　　忧:　0.65\n",
      "　　金钱 　　　钱:　0.88 　　要存:　0.76 　　人要:　0.76 　　花钱:　0.71 　　钱财:　0.69 　做生意:　0.63 　　银子:　0.62 　　款项:　0.54 　　银行:　0.51 　　块钱:　0.50\n",
      "　　生命 　　生命:　1.00 　　人生:　0.84 　　人命:　0.76 　　生活:　0.72 　　性命:　0.72 　　一生:　0.66 　　活命:　0.63 　　生死:　0.58 　　用火:　0.56 　　偿命:　0.53\n",
      "　　未来 　　未来:　1.00 　　将来:　0.82 　　往后:　0.59 　　后人:　0.51 　　明日:　0.50 　　前面:　0.47 　　日后:　0.46 　　更好:　0.44 　　明天:　0.43 　　　前:　0.42\n",
      "　　荣耀 　　荣耀:　1.00 　　荣光:　0.96 　　荣华:　0.79 　　　荣:　0.76 　　尊荣:　0.73 　　光荣:　0.72 　　光彩:　0.65 　　名誉:　0.62 　　光辉:　0.55 　　廉耻:　0.51\n",
      "　　　爱 　　　爱:　1.00 　　眷爱:　0.92 　　爱情:　0.87 子子孙孙:　0.86 　　尽意:　0.81 　　亲情:　0.80 　　　恋:　0.79 　不嫉妒:　0.78 　　慈爱:　0.76 　　深爱:　0.73\n",
      "　　救恩 　　救恩:　1.00 　　救赎:　0.83 　　得救:　0.72 　　救世:　0.65 　　救主:　0.59 　　赎罪:　0.55 　救世主:　0.52 　　解救:　0.49 　　基督:　0.48 　　拯救:　0.45\n",
      "　　应许 　　应许:　1.00 　　应承:　0.68 　　　许:　0.63 　　听凭:　0.63 　　　让:　0.56 　　不由:　0.55 　　约言:　0.53 　　誓言:　0.49 　　食言:　0.49 　　有望:　0.49\n",
      "　　赞美 　　赞美:　1.00 　　颂扬:　0.87 　　称颂:　0.85 　　颂赞:　0.81 　　称许:　0.80 　　夸奖:　0.79 　　称扬:　0.79 　　歌颂:　0.78 　　称赞:　0.77 　　显扬:　0.73\n",
      "　　敬拜 　　敬拜:　1.00 　　崇拜:　0.81 　　祈祷:　0.67 　　拜神:　0.66 　　祷告:　0.65 　　礼拜:　0.58 　　朝拜:　0.57 　　跪拜:　0.53 　　祈求:　0.51 　　　奉:　0.50\n",
      "　　信心 　　信心:　1.00 　　自信:　0.82 　　信念:　0.71 　　不信:　0.63 　　自尊:　0.56 　　信奉:　0.54 　　成功:　0.50 　　凭信:　0.50 　　信靠:　0.49 　　相信:　0.48\n",
      "　　倚靠 　　倚靠:　1.00 　　倚仗:　0.71 　　仰赖:　0.63 　　倚赖:　0.59 　　支持:　0.59 　　后盾:　0.56 　　　靠:　0.51 　　　凭:　0.47 　　靠著:　0.47 　　　托:　0.44\n",
      "　　呼召 　　名叫:　0.75 　　叫作:　0.72 　　称呼:　0.67 　　呼叫:　0.62 　　下令:　0.58 　　称为:　0.56 　　　呼:　0.54 　　名为:　0.49 　　叫唤:　0.49 　　叫做:　0.46\n",
      "　　恩典 　　恩典:　1.00 　　恩惠:　0.87 　　　恩:　0.84 　　恩情:　0.81 　　恩德:　0.80 　　雨露:　0.79 　　施恩:　0.71 　　开恩:　0.68 　　恩赐:　0.66 　　好意:　0.56\n",
      "　　渴慕 　　渴慕:　1.00 　　敬服:　0.71 　　仰慕:　0.67 　　　慕:　0.66 　　佩服:　0.65 　　爱慕:　0.54 　　瞻仰:　0.53 　　某人:　0.53 　　尊敬:　0.50 　　仰望:　0.48\n",
      "　　　神 　　　神:　1.00 　　神明:　0.77 　　神人:　0.73 　　天堂:　0.68 　　　天:　0.61 　　全能:　0.57 　　造人:　0.56 　　大能:　0.55 　　神性:　0.55 　　天上:　0.54\n",
      "　　预定 　　预定:　1.00 　　安排:　0.54 　　打算:　0.53 　　筹划:　0.53 　　筹算:　0.49 　　　谋:　0.46 　　算计:　0.44 　　准备:　0.38 　　有意:　0.35 　　心术:　0.35\n",
      "　　基督 　　基督:　1.00 　　耶稣:　0.80 神爱世人:　0.79 　　救主:　0.77 　救世主:　0.73 耶稣基督:　0.68 　十字架:　0.64 　　信德:　0.64 　　圣灵:　0.63 　　圣神:　0.63\n",
      "　　救主 　　救主:　1.00 　救世主:　0.91 　　基督:　0.77 　　耶稣:　0.63 　　救世:　0.62 耶稣基督:　0.61 神爱世人:　0.60 　弥赛亚:　0.60 　　救恩:　0.59 　　救赎:　0.57\n",
      "　　得救 　　得救:　1.00 　　救赎:　0.74 　　救恩:　0.72 　　救世:　0.57 　　拯救:　0.57 　　　救:　0.57 　　解救:　0.53 　　搭救:　0.52 　　救主:　0.50 　救世主:　0.47\n",
      "　　天堂 　　天堂:　1.00 　　天国:　0.83 　　天使:　0.80 　　圣城:　0.74 　　乐园:　0.73 　　　神:　0.68 　　天上:　0.58 　　上天:　0.55 　　神明:　0.53 　　天空:　0.52\n",
      "　　地狱 　　地狱:　1.00 　　火湖:　0.79 　　幽冥:　0.76 　　阴间:　0.70 　　来世:　0.54 　　魔鬼:　0.49 　　天堂:　0.48 　　圣城:　0.46 　　鬼魔:　0.46 　　恶鬼:　0.45\n",
      "　　公义 　　公义:　1.00 　　大义:　0.90 　　仁义:　0.55 　　公道:　0.52 　　天理:　0.45 　　公平:　0.44 　　义行:　0.44 　　秉公:　0.42 　　公正:　0.42 　　伸冤:　0.41\n",
      "　　奉献 　　奉献:　1.00 　　供奉:　0.56 　　　献:　0.49 　　敬奉:　0.46 　　耗费:　0.41 　　托付:　0.38 　　　忠:　0.35 　　交托:　0.34 　　虚度:　0.33 　　开光:　0.32\n",
      "　　天使 　　天使:　1.00 　　天堂:　0.80 　　天国:　0.55 　　　神:　0.51 　　圣城:　0.51 　　天上:　0.46 　基路伯:　0.44 　　乐园:　0.43 　　天空:　0.42 　　伊甸:　0.42\n",
      "　　魔鬼 　　魔鬼:　1.00 　　恶鬼:　0.84 　　恶魔:　0.83 　　鬼魔:　0.81 　　凶煞:　0.72 　　　魔:　0.69 　　撒但:　0.63 　　邪灵:　0.60 　别西卜:　0.60 　　鬼怪:　0.57\n",
      "　　主仆 　　主仆:　1.00 　　臣仆:　0.77 　　佣工:　0.69 　　　仆:　0.68 　　　仆:　0.68 　　仆人:　0.65 　　师尊:　0.60 　　师傅:　0.55 　　夫子:　0.55 　　奴仆:　0.54\n",
      "　　呼求 \n",
      "　　称颂 　　称颂:　1.00 　　颂赞:　0.97 　　称扬:　0.91 　　颂扬:　0.89 　　称许:　0.87 　　赞美:　0.85 　　抬举:　0.85 　　称赞:　0.85 　　夸奖:　0.78 　　显扬:　0.77\n",
      "　　祷告 　　祷告:　1.00 　　祈祷:　0.98 　　祈求:　0.76 　　默祷:　0.67 　　敬拜:　0.65 　　求神:　0.63 　　信神:　0.63 　　拜神:　0.47 　　赐福:　0.46 　　哀告:　0.45\n",
      "　　异像 　　地震:　0.97 　　移山:　0.97 　跑出去:　0.96 　逃出去:　0.94 　　山崩:　0.76 　　逃命:　0.71 　　倒塌:　0.68 　　　逃:　0.60 　　　躲:　0.59 　　洪水:　0.54\n",
      "　　真理 　　真理:　1.00 　　实情:　0.86 　　真情:　0.69 　　虚实:　0.64 　　真言:　0.59 　　实在:　0.49 　　　真:　0.43 　　真实:　0.43 　　真的:　0.42 　　确实:　0.42\n",
      "　　敬虔 　　敬虔:　1.00 　　虔诚:　0.92 　　虔敬:　0.54 　　信徒:　0.45 　　恳切:　0.41 　　忠信:　0.41 　　　忠:　0.40 　　　圣:　0.38 　　实意:　0.38 　　神圣:　0.37\n",
      "　　虔敬 　　虔敬:　1.00 　　恭敬:　0.77 　　肃敬:　0.63 　　敬虔:　0.54 　　虔诚:　0.53 　　轻慢:　0.50 　　敬畏:　0.47 　　尊崇:　0.47 　　庄严:　0.46 　　　敬:　0.44\n",
      "　　先知 　　先知:　1.00 　以利沙:　0.50 　以利亚:　0.46 　　预言:　0.46 施洗约翰:　0.43 以实玛利:　0.42 　　摩西:　0.40 　　星月:　0.39 亚伯拉罕:　0.38 　　乌玛:　0.36\n",
      "　　先见 　　先见:　1.00 　　慧眼:　0.50 　　　智:　0.47 　　胆量:　0.42 　　悟性:　0.39 　　　胆:　0.37 　　心计:　0.37 　　灵气:　0.37 　　预言:　0.36 　　逆料:　0.36\n",
      "　　意旨 　　意旨:　1.00 　　　愿:　0.66 　　意向:　0.62 　　打算:　0.62 　　　要:　0.61 　　心志:　0.61 　　愿意:　0.61 　　将要:　0.60 　　心愿:　0.56 　　人意:　0.55\n",
      "　　肢体 　　肢体:　1.00 　　身体:　0.64 　　尸骨:　0.58 　　肉身:　0.53 　　肉体:　0.51 　　骨骼:　0.50 　　　腑:　0.50 　　死尸:　0.49 　　周身:　0.49 　　手臂:　0.47\n",
      "　　弟兄 　　弟兄:　1.00 　　兄弟:　0.88 　　兄台:　0.85 　　　兄:　0.71 　弟兄们:　0.70 　　哥哥:　0.69 　　　友:　0.69 　　姊妹:　0.69 　　内兄:　0.67 　　　弟:　0.65\n",
      "　　保守 　　保守:　1.00 　　守住:　0.66 　　看管:　0.61 　　看守:　0.58 　　把守:　0.56 　　保养:　0.54 　　守望:　0.52 　　保全:　0.51 　　看顾:　0.51 　　　守:　0.49\n",
      "　　搭救 　　搭救:　1.00 　　救护:　0.88 　　拯救:　0.87 　　　救:　0.85 　　救助:　0.75 　　解救:　0.74 　　救人:　0.64 　　救命:　0.62 　　得救:　0.52 　　救赎:　0.51\n"
     ]
    }
   ],
   "source": [
    "evaluate(related_terms_ccn)"
   ]
  },
  {
   "source": [
    "## ELMo"
   ],
   "cell_type": "markdown",
   "metadata": {}
  },
  {
   "cell_type": "code",
   "execution_count": 5,
   "metadata": {},
   "outputs": [
    {
     "output_type": "stream",
     "name": "stderr",
     "text": [
      "2021-01-15 21:01:36,048 WARNING: Could not find config.  Trying ../word_embeddings/elmo_model/cnn_50_100_512_4096_sample.json\n",
      "2021-01-15 21:01:36,049 WARNING: Could not find config.  Trying /Users/Ken/anaconda3/envs/ezra37/lib/python3.7/site-packages/elmoformanylangs/configs/cnn_50_100_512_4096_sample.json\n",
      "2021-01-15 21:01:36,171 INFO: char embedding size: 15889\n",
      "2021-01-15 21:01:37,694 INFO: word embedding size: 140384\n",
      "2021-01-15 21:01:48,766 INFO: Model(\n",
      "  (token_embedder): ConvTokenEmbedder(\n",
      "    (word_emb_layer): EmbeddingLayer(\n",
      "      (embedding): Embedding(140384, 100, padding_idx=3)\n",
      "    )\n",
      "    (char_emb_layer): EmbeddingLayer(\n",
      "      (embedding): Embedding(15889, 50, padding_idx=15886)\n",
      "    )\n",
      "    (convolutions): ModuleList(\n",
      "      (0): Conv1d(50, 32, kernel_size=(1,), stride=(1,))\n",
      "      (1): Conv1d(50, 32, kernel_size=(2,), stride=(1,))\n",
      "      (2): Conv1d(50, 64, kernel_size=(3,), stride=(1,))\n",
      "      (3): Conv1d(50, 128, kernel_size=(4,), stride=(1,))\n",
      "      (4): Conv1d(50, 256, kernel_size=(5,), stride=(1,))\n",
      "      (5): Conv1d(50, 512, kernel_size=(6,), stride=(1,))\n",
      "      (6): Conv1d(50, 1024, kernel_size=(7,), stride=(1,))\n",
      "    )\n",
      "    (highways): Highway(\n",
      "      (_layers): ModuleList(\n",
      "        (0): Linear(in_features=2048, out_features=4096, bias=True)\n",
      "        (1): Linear(in_features=2048, out_features=4096, bias=True)\n",
      "      )\n",
      "    )\n",
      "    (projection): Linear(in_features=2148, out_features=512, bias=True)\n",
      "  )\n",
      "  (encoder): ElmobiLm(\n",
      "    (forward_layer_0): LstmCellWithProjection(\n",
      "      (input_linearity): Linear(in_features=512, out_features=16384, bias=False)\n",
      "      (state_linearity): Linear(in_features=512, out_features=16384, bias=True)\n",
      "      (state_projection): Linear(in_features=4096, out_features=512, bias=False)\n",
      "    )\n",
      "    (backward_layer_0): LstmCellWithProjection(\n",
      "      (input_linearity): Linear(in_features=512, out_features=16384, bias=False)\n",
      "      (state_linearity): Linear(in_features=512, out_features=16384, bias=True)\n",
      "      (state_projection): Linear(in_features=4096, out_features=512, bias=False)\n",
      "    )\n",
      "    (forward_layer_1): LstmCellWithProjection(\n",
      "      (input_linearity): Linear(in_features=512, out_features=16384, bias=False)\n",
      "      (state_linearity): Linear(in_features=512, out_features=16384, bias=True)\n",
      "      (state_projection): Linear(in_features=4096, out_features=512, bias=False)\n",
      "    )\n",
      "    (backward_layer_1): LstmCellWithProjection(\n",
      "      (input_linearity): Linear(in_features=512, out_features=16384, bias=False)\n",
      "      (state_linearity): Linear(in_features=512, out_features=16384, bias=True)\n",
      "      (state_projection): Linear(in_features=4096, out_features=512, bias=False)\n",
      "    )\n",
      "  )\n",
      ")\n"
     ]
    }
   ],
   "source": [
    "from elmoformanylangs import Embedder\n",
    "e = Embedder('../word_embeddings/elmo_model')"
   ]
  },
  {
   "cell_type": "code",
   "execution_count": 6,
   "metadata": {},
   "outputs": [],
   "source": [
    "from importlib import resources\n",
    "verse_lines = resources.read_text('word_embeddings', 'word_tokenized_verses.txt')\\\n",
    "                       .split('\\n')[:-1]\n",
    "word_tokenized_verses = [verse.split() for verse in verse_lines]"
   ]
  },
  {
   "cell_type": "code",
   "execution_count": 7,
   "metadata": {},
   "outputs": [
    {
     "output_type": "stream",
     "name": "stderr",
     "text": [
      "2021-01-15 21:03:02,708 INFO: 486 batches, avg len: 21.5\n",
      "2021-01-15 21:06:29,935 INFO: Finished 1000 sentences.\n",
      "2021-01-15 21:10:40,337 INFO: Finished 2000 sentences.\n",
      "2021-01-15 21:14:14,457 INFO: Finished 3000 sentences.\n",
      "2021-01-15 21:18:40,304 INFO: Finished 4000 sentences.\n",
      "2021-01-15 21:26:37,836 INFO: Finished 5000 sentences.\n",
      "2021-01-15 21:32:29,501 INFO: Finished 6000 sentences.\n",
      "2021-01-15 21:37:15,687 INFO: Finished 7000 sentences.\n",
      "2021-01-15 21:41:32,412 INFO: Finished 8000 sentences.\n",
      "2021-01-15 21:45:33,517 INFO: Finished 9000 sentences.\n",
      "2021-01-15 21:47:55,545 INFO: Finished 10000 sentences.\n",
      "2021-01-15 21:50:48,320 INFO: Finished 11000 sentences.\n",
      "2021-01-15 21:53:25,062 INFO: Finished 12000 sentences.\n",
      "2021-01-15 22:17:14,064 INFO: Finished 13000 sentences.\n",
      "2021-01-15 22:20:08,349 INFO: Finished 14000 sentences.\n",
      "2021-01-15 22:22:45,863 INFO: Finished 15000 sentences.\n",
      "2021-01-15 22:26:21,650 INFO: Finished 16000 sentences.\n",
      "2021-01-15 22:29:25,375 INFO: Finished 17000 sentences.\n",
      "2021-01-15 22:32:10,549 INFO: Finished 18000 sentences.\n",
      "2021-01-15 22:35:41,577 INFO: Finished 19000 sentences.\n",
      "2021-01-15 22:38:34,897 INFO: Finished 20000 sentences.\n",
      "2021-01-15 22:51:45,937 INFO: Finished 21000 sentences.\n",
      "2021-01-15 22:56:19,441 INFO: Finished 22000 sentences.\n",
      "2021-01-15 22:59:50,643 INFO: Finished 23000 sentences.\n",
      "2021-01-16 09:13:18,326 INFO: Finished 24000 sentences.\n",
      "2021-01-16 09:16:25,095 INFO: Finished 25000 sentences.\n",
      "2021-01-16 09:20:26,926 INFO: Finished 26000 sentences.\n",
      "2021-01-16 09:23:51,097 INFO: Finished 27000 sentences.\n",
      "2021-01-16 09:27:06,344 INFO: Finished 28000 sentences.\n",
      "2021-01-16 09:30:39,106 INFO: Finished 29000 sentences.\n",
      "2021-01-16 09:34:18,678 INFO: Finished 30000 sentences.\n",
      "2021-01-16 09:37:58,524 INFO: Finished 31000 sentences.\n"
     ]
    }
   ],
   "source": [
    "bible_embeddings = e.sents2elmo(word_tokenized_verses)"
   ]
  },
  {
   "cell_type": "code",
   "execution_count": 8,
   "metadata": {},
   "outputs": [],
   "source": [
    "word_tokens = [token for verse in word_tokenized_verses for token in verse]\n",
    "word_embs = [emb for verse_embs in bible_embeddings for emb in verse_embs]"
   ]
  },
  {
   "cell_type": "code",
   "execution_count": 9,
   "metadata": {},
   "outputs": [],
   "source": [
    "def related_terms_elmo(keyword_term: str, top_k: int):\n",
    "    kw_vec = e.sents2elmo([[keyword_term]])[0]\n",
    "    similarity = cosine_similarity(kw_vec, word_embs)[0]\n",
    "    top_matches = set()\n",
    "    for i in np.argsort(similarity)[::-1]:\n",
    "        if len(top_matches) >= top_k:\n",
    "            break\n",
    "        word_token = word_tokens[i]\n",
    "        if not word_token in top_matches:\n",
    "            top_matches.add(word_token)\n",
    "            yield word_token, similarity[i]"
   ]
  },
  {
   "cell_type": "code",
   "execution_count": 10,
   "metadata": {},
   "outputs": [
    {
     "output_type": "stream",
     "name": "stderr",
     "text": [
      "2021-01-16 09:38:16,150 INFO: 1 batches, avg len: 3.0\n",
      "2021-01-16 09:41:41,922 INFO: 1 batches, avg len: 3.0\n",
      "　　喜乐 　　喜乐:　0.95 　　福乐:　0.88 　　安宁:　0.87 　　沙龙:　0.87 　　安乐:　0.87 　　柏树:　0.86 　　西门:　0.85 　　哈顺:　0.85 　　基兰:　0.85 　　耶户:　0.84\n",
      "　　事奉 　　事奉:　0.92 　　降生:　0.58 　　扶持:　0.57 　　劝教:　0.56 　　管教:　0.55 　　尊敬:　0.55 　　救恩:　0.55 　　祈求:　0.54 　　服事:　0.54 　　祈祷:　0.54\n",
      "2021-01-16 09:43:53,046 INFO: 1 batches, avg len: 3.0\n",
      "2021-01-16 09:46:05,314 INFO: 1 batches, avg len: 3.0\n",
      "　　福音 　　福音:　0.94 　　真道:　0.54 　　先知:　0.51 　　救主:　0.50 　　真理:　0.49 　　降生:　0.48 　　律法:　0.48 　　守望:　0.47 　　思想:　0.46 　　祭司:　0.46\n",
      "2021-01-16 09:47:42,138 INFO: 1 batches, avg len: 3.0\n",
      "　　祈祷 　　祈祷:　0.93 　　闪生:　0.77 　　护卫:　0.77 　　割礼:　0.77 　　救护:　0.77 　　诱惑:　0.76 　　侍卫:　0.76 　　洗礼:　0.76 　　哀鸣:　0.76 　　赏赐:　0.76\n",
      "2021-01-16 09:48:58,051 INFO: 1 batches, avg len: 3.0\n",
      "　　婚姻 　　婚姻:　0.93 　　生命:　0.58 　　死亡:　0.52 　　事情:　0.52 　　子女:　0.49 　　执事:　0.48 　　犯罪:　0.48 　　信心:　0.48 　　女人:　0.48 　　职事:　0.48\n",
      "2021-01-16 09:50:24,589 INFO: 1 batches, avg len: 3.0\n",
      "　　逆境 　　愚昧:　0.61 　　生命:　0.61 　　困苦:　0.60 　　默想:　0.57 　　活人:　0.57 　　信心:　0.56 　　懊悔:　0.55 　　正直:　0.55 　　生死:　0.54 　　暴怒:　0.54\n",
      "2021-01-16 09:52:21,428 INFO: 1 batches, avg len: 3.0\n",
      "　　上帝 　　天父:　0.67 　　君王:　0.63 　　耶稣:　0.62 　　天使:　0.62 　　救主:　0.62 　　夏娃:　0.61 　　律法:　0.60 　　魔鬼:　0.60 　　先知:　0.59 　　罪人:　0.59\n",
      "2021-01-16 09:53:28,249 INFO: 1 batches, avg len: 3.0\n",
      "　　旨意 　　旨意:　0.92 　　性命:　0.65 　　律法:　0.62 　　誓言:　0.61 　　言行:　0.61 　　本性:　0.60 　　美意:　0.59 　　救主:　0.58 　　心意:　0.58 　　思想:　0.57\n",
      "2021-01-16 09:54:38,949 INFO: 1 batches, avg len: 3.0\n",
      "　　苦难 　　苦难:　0.96 　　急难:　0.82 　　大难:　0.81 　　困难:　0.81 　　悲伤:　0.79 　　憎恶:　0.79 　　朽坏:　0.79 　　善恶:　0.78 　　艰难:　0.78 　　凶恶:　0.77\n",
      "2021-01-16 09:56:06,351 INFO: 1 batches, avg len: 3.0\n",
      "　　人生 　　人生:　0.83 　　生命:　0.71 　　生活:　0.62 　　美好:　0.55 　　恩典:　0.55 　　今生:　0.55 　　天下:　0.55 　　女人:　0.53 　　世界:　0.53 　　命定:　0.52\n",
      "2021-01-16 09:57:52,739 INFO: 1 batches, avg len: 3.0\n",
      "　　　罪 　　　罪:　0.95 　犯了罪:　0.66 　　赎罪:　0.63 　　罪愆:　0.62 　罪而死:　0.61 　血之罪:　0.60 罪上加罪:　0.60 　罪得赦:　0.60 　　　犯:　0.60 　　所犯:　0.59\n",
      "2021-01-16 10:00:19,857 INFO: 1 batches, avg len: 3.0\n",
      "　同性恋 　　罪孽:　0.71 　　令人:　0.70 　　奇事:　0.67 　　使徒:　0.67 　　虚心:　0.67 　　恋恋:　0.66 　　作孽:　0.66 　　求神:　0.66 　　贪恋:　0.66 　　诱惑:　0.66\n",
      "2021-01-16 10:02:33,033 INFO: 1 batches, avg len: 3.0\n",
      "　　挂虑 　　挂虑:　0.89 　　倾覆:　0.83 　　败坏:　0.81 　　发颤:　0.81 　　劳乏:　0.80 　　阻碍:　0.80 　　损坏:　0.80 　　谋略:　0.80 　　忧虑:　0.79 　　断乎:　0.79\n",
      "2021-01-16 10:04:47,504 INFO: 1 batches, avg len: 3.0\n",
      "　　金钱 　　松树:　0.88 　　沙龙:　0.87 　　大钱:　0.86 　　大龙:　0.85 　　柏树:　0.85 　　小钱:　0.84 　　金头:　0.84 　　枯树:　0.83 　　橡树:　0.83 　　金坛:　0.83\n",
      "2021-01-16 10:07:00,219 INFO: 1 batches, avg len: 3.0\n",
      "　　生命 　　生命:　0.93 　　人生:　0.63 　　恩典:　0.62 　　大地:　0.62 　　信心:　0.58 　　心意:　0.57 　　婚姻:　0.56 　　智慧:　0.56 　　性命:　0.56 　　命定:　0.55\n",
      "2021-01-16 10:09:02,141 INFO: 1 batches, avg len: 3.0\n",
      "　　未来 　　未来:　0.86 　　明日:　0.57 　　贫穷:　0.54 　　永远:　0.53 　带进来:　0.53 　　约柜:　0.52 　　真实:　0.52 　　一样:　0.52 　　黑暗:　0.51 　避难所:　0.51\n",
      "2021-01-16 10:10:14,737 INFO: 1 batches, avg len: 3.0\n",
      "　　荣耀 　　荣耀:　0.93 　　荣光:　0.84 　　荣美:　0.82 　　丰裕:　0.82 　　云彩:　0.81 　　欢欣:　0.81 　　聪明:　0.81 　　书雅:　0.79 　　振兴:　0.79 　　辉煌:　0.78\n",
      "2021-01-16 10:11:20,483 INFO: 1 batches, avg len: 3.0\n",
      "　　　爱 　　　爱:　0.95 　　　梦:　0.60 　　爱心:　0.50 　　爱恶:　0.50 　　爱惜:　0.50 　　爱慕:　0.50 　　爱神:　0.49 　神先爱:　0.49 　　喜爱:　0.49 　灵祝谢:　0.49\n",
      "2021-01-16 10:12:45,024 INFO: 1 batches, avg len: 3.0\n",
      "　　救恩 　　救恩:　0.94 　　仁慈:　0.62 　　恩典:　0.61 　　救主:　0.61 　　真理:　0.59 　　真道:　0.58 　　律法:　0.57 　　祈祷:　0.57 　　生命:　0.57 　　平安:　0.56\n",
      "2021-01-16 10:14:28,979 INFO: 1 batches, avg len: 3.0\n",
      "　　应许 　　应许:　0.91 　　应当:　0.77 　　灵将:　0.74 　　进来:　0.73 　　发现:　0.72 　　请来:　0.72 　　声闻:　0.71 　　显现:　0.71 　　汉聂:　0.70 　　见来:　0.70\n",
      "2021-01-16 10:15:30,621 INFO: 1 batches, avg len: 3.0\n",
      "　　赞美 　　赞美:　0.90 　　荣美:　0.81 　　舒畅:　0.79 　亚奈雅:　0.79 　　华美:　0.78 　　丰富:　0.77 　　基禄:　0.76 　亚希雅:　0.76 　　甘美:　0.75 　　雅金:　0.75\n",
      "2021-01-16 10:16:39,804 INFO: 1 batches, avg len: 3.0\n",
      "　　敬拜 　　敬拜:　0.94 　　敬重:　0.54 　　祝福:　0.52 　　恩慈:　0.52 　　祈求:　0.51 　　事奉:　0.51 　　崇拜:　0.51 　　服事:　0.48 　　勾引:　0.48 　　想念:　0.48\n",
      "2021-01-16 10:17:52,711 INFO: 1 batches, avg len: 3.0\n",
      "　　信心 　　信心:　0.90 　　恆心:　0.65 　　自信:　0.61 　　良心:　0.60 　　耐性:　0.58 　　生命:　0.53 　　口才:　0.53 　　心意:　0.52 　　力量:　0.51 　　恩典:　0.51\n",
      "2021-01-16 10:18:59,341 INFO: 1 batches, avg len: 3.0\n",
      "　　倚靠 　　倚靠:　0.89 　　持守:　0.60 　　存留:　0.54 　　善待:　0.53 　　分散:　0.53 　　配合:　0.53 　　包容:　0.52 　　掌管:　0.52 　　盼望:　0.51 　　追求:　0.51\n",
      "　　唿召 　　王召:　0.74 　蒙天召:　0.74 　　去召:　0.69 　　所召:　0.69 　　名召:　0.67 　　必召:　0.66 　　宣召:　0.65 　　祷告:　0.65 　　罢休:　0.65 　　侍立:　0.65\n",
      "2021-01-16 10:21:45,161 INFO: 1 batches, avg len: 3.0\n",
      "2021-01-16 10:24:09,072 INFO: 1 batches, avg len: 3.0\n",
      "　　恩典 　　恩典:　0.87 　　生命:　0.61 　　救恩:　0.60 　　真理:　0.59 　　救主:　0.58 　　大能:　0.57 　　恩惠:　0.55 　　磐石:　0.55 　　律法:　0.54 　　光明:　0.54\n",
      "2021-01-16 10:25:30,188 INFO: 1 batches, avg len: 3.0\n",
      "　　渴慕 　　疼苦:　0.81 　　喧嚷:　0.81 　　哀哭:　0.81 　　枉然:　0.81 　　忿怒:　0.80 　　恼怒:　0.79 　　悲叹:　0.79 　　愁苦:　0.78 　　忧愁:　0.78 　　苦恼:　0.78\n",
      "2021-01-16 10:29:29,790 INFO: 1 batches, avg len: 3.0\n",
      "　　　神 　　　神:　0.95 　　天使:　0.55 　　　狼:　0.54 　　　魂:　0.54 　　　蛇:　0.49 　　　妙:　0.48 　　　怒:　0.48 　　　王:　0.48 　　　火:　0.48 　　　光:　0.47\n",
      "　　预定 　　预备:　0.83 　　断定:　0.82 　　开释:　0.82 　　预先:　0.82 　　启示:　0.82 　　发作:　0.81 　　筹算:　0.79 　　补足:　0.79 　　寻求:　0.79 　　改变:　0.79\n",
      "2021-01-16 10:32:10,247 INFO: 1 batches, avg len: 3.0\n",
      "2021-01-16 10:35:08,093 INFO: 1 batches, avg len: 3.0\n",
      "　　基督 　　基督:　0.96 　　自由:　0.56 　　保守:　0.50 　伯特利:　0.49 　克里特:　0.49 　　世俗:　0.49 　　真道:　0.48 　　救主:　0.48 　　安息:　0.47 　　和平:　0.47\n",
      "2021-01-16 10:37:06,557 INFO: 1 batches, avg len: 3.0\n",
      "　　救主 　　救主:　0.95 　尼希米:　0.64 　　救恩:　0.62 　　真道:　0.62 　　恩典:　0.61 　　律法:　0.61 　　旨意:　0.60 　　蒙召:　0.59 　　天父:　0.58 　　子民:　0.58\n",
      "2021-01-16 10:39:16,596 INFO: 1 batches, avg len: 3.0\n",
      "　　得救 　　得救:　0.96 　　受苦:　0.67 　　默想:　0.61 　　赦免:　0.60 　　刻苦:　0.60 　　震怒:　0.59 　　逃走:　0.59 　　救人:　0.59 　　求死:　0.59 　　相安:　0.59\n",
      "2021-01-16 10:41:21,105 INFO: 1 batches, avg len: 3.0\n",
      "　　天堂 　　天堂:　0.84 　　天使:　0.57 　　女神:　0.52 　　君王:　0.48 　　死神:　0.47 　　女王:　0.47 　　王女:　0.47 　　狼群:　0.46 　　夏娃:　0.46 　　魔鬼:　0.46\n",
      "2021-01-16 10:43:17,858 INFO: 1 batches, avg len: 3.0\n",
      "　　地狱 　　地狱:　0.87 　　荒场:　0.79 　　司狱:　0.78 　　营寨:　0.76 　　宫室:　0.76 　　哀鸣:　0.76 　　难道:　0.75 　　草场:　0.75 　　廊门:　0.75 　　牢狱:　0.75\n",
      "2021-01-16 10:45:02,011 INFO: 1 batches, avg len: 3.0\n",
      "　　公义 　　公义:　0.92 　　大卫:　0.85 　　官长:　0.84 　　行义:　0.81 　　守门:　0.81 　　三门:　0.81 　　荒场:　0.81 　　土产:　0.81 　　全备:　0.80 　　大乱:　0.80\n",
      "2021-01-16 10:47:27,675 INFO: 1 batches, avg len: 3.0\n",
      "　　奉献 　　奉献:　0.90 　　赏赐:　0.81 　　谕旨:　0.80 　　同献:　0.80 　　俸禄:　0.80 　　赐福:　0.79 　　召齐:　0.79 　　尊贵:　0.79 　　割礼:　0.78 　　渐渐:　0.78\n",
      "2021-01-16 10:49:11,954 INFO: 1 batches, avg len: 3.0\n",
      "　　天使 　　天使:　0.93 　　女神:　0.65 　　王女:　0.64 　　王子:　0.60 　　死神:　0.59 　　青蛙:　0.58 　　夏娃:　0.58 　　女王:　0.57 　　兔子:　0.57 　　魔鬼:　0.56\n",
      "2021-01-16 10:50:25,627 INFO: 1 batches, avg len: 3.0\n",
      "　　魔鬼 　　魔鬼:　0.91 　　天使:　0.63 　　猎狗:　0.62 　　先知:　0.60 　　毒蛇:　0.59 　　豺狼:　0.58 　　祭司:　0.58 　　天兵:　0.58 　　死神:　0.57 　　烈火:　0.57\n",
      "2021-01-16 10:52:47,835 INFO: 1 batches, avg len: 3.0\n",
      "　　主仆 　　诫命:　0.78 　　仆人:　0.77 　　臣仆:　0.74 　　父家:　0.74 　　己命:　0.74 　　主仆:　0.73 　　奉主:　0.72 　　使徒:　0.72 　　别神:　0.72 　　侍立:　0.72\n",
      "2021-01-16 10:54:28,771 INFO: 1 batches, avg len: 3.0\n",
      "　　唿求 　　唿求:　0.85 　　恳求:　0.78 　　诫命:　0.77 　　正如:　0.75 　　雅悉:　0.75 　　究察:　0.75 　　希悉:　0.73 　　心利:　0.71 　　壮胆:　0.71 　　侍立:　0.71\n",
      "2021-01-16 10:55:52,656 INFO: 1 batches, avg len: 3.0\n",
      "　　称颂 　　称颂:　0.87 　　称赞:　0.78 　　传说:　0.75 　　称义:　0.75 　　称扬:　0.74 　　称为:　0.72 　　名誉:　0.72 　　声闻:　0.71 　　谈论:　0.71 　　译子:　0.70\n",
      "2021-01-16 10:57:00,390 INFO: 1 batches, avg len: 3.0\n",
      "　　祷告 　　祷告:　0.92 　　哀告:　0.82 　　嘱咐:　0.78 　　记念:　0.77 　　欺骗:　0.76 　　相问:　0.76 　　预言:　0.75 　　谎言:　0.75 　　审判:　0.75 　　求问:　0.75\n",
      "2021-01-16 10:58:28,270 INFO: 1 batches, avg len: 3.0\n",
      "　　异像 　　异象:　0.78 　　颂赞:　0.77 　　难道:　0.76 　　转身:　0.75 　　胜似:　0.75 　　满口:　0.74 　　听见:　0.74 　　谋略:　0.74 　　强盗:　0.74 　　同着:　0.73\n",
      "2021-01-16 11:00:21,745 INFO: 1 batches, avg len: 3.0\n",
      "　　真理 　　真理:　0.89 　　律法:　0.65 　　大能:　0.63 　　先知:　0.61 　　恩典:　0.60 　　磐石:　0.58 　　慈悲:　0.58 　　美德:　0.58 　　救恩:　0.56 　　希奇:　0.56\n",
      "2021-01-16 11:02:15,899 INFO: 1 batches, avg len: 3.0\n",
      "　　敬虔 　　敬虔:　0.84 　　安逸:　0.68 　　正直:　0.66 　　富足:　0.66 　　施恩:　0.64 　　敬重:　0.63 　　清洁:　0.63 　　虔敬:　0.63 　　廉洁:　0.63 　　任性:　0.63\n",
      "2021-01-16 11:03:48,662 INFO: 1 batches, avg len: 3.0\n",
      "　　虔敬 　　虔敬:　0.84 　　谦卑:　0.76 　　诫命:　0.76 　　奉敬:　0.76 　　求恩:　0.75 　　吉言:　0.75 　　喜悦:　0.75 　　哀哉:　0.74 　　雅悉:　0.74 　　尊贵:　0.74\n",
      "2021-01-16 11:04:53,980 INFO: 1 batches, avg len: 3.0\n",
      "　　先知 　　先知:　0.91 　　律法:　0.63 　　真理:　0.61 　　魔鬼:　0.61 　　希律:　0.58 　　祭司:　0.57 　　君王:　0.57 　　真道:　0.57 　　救主:　0.57 　　亚述:　0.56\n",
      "2021-01-16 11:06:18,153 INFO: 1 batches, avg len: 3.0\n",
      "　　先见 　　先见:　0.93 　　遇见:　0.86 　　迎见:　0.83 　　成义:　0.83 　　定见:　0.82 　　望见:　0.82 　　朝见:　0.82 　　得见:　0.82 　　奉来:　0.81 　　相见:　0.81\n",
      "2021-01-16 11:07:32,500 INFO: 1 batches, avg len: 3.0\n",
      "　　意旨 　　意旨:　0.85 　　律例:　0.58 　　旨意:　0.53 　　命令:　0.51 　　诫命:　0.50 　　典章:　0.50 　　诏书:　0.49 　　良言:　0.49 　　罪名:　0.49 　　谕旨:　0.49\n",
      "2021-01-16 11:08:46,276 INFO: 1 batches, avg len: 3.0\n",
      "　　肢体 　　肢体:　0.92 　　骨头:　0.85 　　鼻环:　0.84 　　耳环:　0.84 　　舌头:　0.82 　　腰间:　0.82 　　肉体:　0.82 　　刀剑:　0.81 　　肩头:　0.81 　　形体:　0.80\n",
      "2021-01-16 11:11:25,701 INFO: 1 batches, avg len: 3.0\n",
      "　　弟兄 　　弟兄:　0.96 　　先生:　0.54 　　哥哥:　0.52 　　姑母:　0.51 　　妻子:　0.51 　　姊姊:　0.49 　　婆婆:　0.49 　　岳父:　0.49 　　女婿:　0.49 　　妇人:　0.48\n",
      "2021-01-16 11:13:10,080 INFO: 1 batches, avg len: 3.0\n",
      "　　保守 　　保守:　0.93 　　自由:　0.59 　　中立:　0.53 　　和平:　0.52 　　基督:　0.51 　　利己:　0.51 　　公正:　0.51 　　自立:　0.51 　　平等:　0.50 　　公平:　0.49\n",
      "　　搭救 　　搭救:　0.92 　　逃遁:　0.70 　　捉住:　0.68 　　偷窃:　0.66 　　救活:　0.66 　　拯救:　0.66 　　摔死:　0.65 　　躲避:　0.64 　　追赶:　0.64 　　杀戮:　0.64\n"
     ]
    }
   ],
   "source": [
    "evaluate(related_terms_elmo)"
   ]
  }
 ]
}