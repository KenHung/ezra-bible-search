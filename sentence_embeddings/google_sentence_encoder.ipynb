{
 "metadata": {
  "language_info": {
   "codemirror_mode": {
    "name": "ipython",
    "version": 3
   },
   "file_extension": ".py",
   "mimetype": "text/x-python",
   "name": "python",
   "nbconvert_exporter": "python",
   "pygments_lexer": "ipython3",
   "version": "3.7.9-final"
  },
  "orig_nbformat": 2,
  "kernelspec": {
   "name": "cnlp",
   "display_name": "ezra",
   "language": "python"
  }
 },
 "nbformat": 4,
 "nbformat_minor": 2,
 "cells": [
  {
   "source": [
    "# Google Sentence Encoder Evaluation"
   ],
   "cell_type": "markdown",
   "metadata": {}
  },
  {
   "cell_type": "code",
   "execution_count": 2,
   "metadata": {},
   "outputs": [],
   "source": [
    "from hanziconv import HanziConv\n",
    "from build_data import read_bible\n",
    "\n",
    "unv = read_bible('../data/dnstrunv')\n",
    "unv['text_s'] = unv.text.apply(HanziConv.toSimplified)"
   ]
  },
  {
   "cell_type": "code",
   "execution_count": 3,
   "metadata": {},
   "outputs": [],
   "source": [
    "import tensorflow_hub as hub\n",
    "import numpy as np\n",
    "import tensorflow_text\n",
    "\n",
    "embed = hub.load(\"https://tfhub.dev/google/universal-sentence-encoder-multilingual/3\")"
   ]
  },
  {
   "cell_type": "code",
   "execution_count": 87,
   "metadata": {
    "tags": []
   },
   "outputs": [],
   "source": [
    "import pandas as pd\n",
    "import tensorflow as tf\n",
    "from tqdm import tqdm\n",
    "\n",
    "tensors = []\n",
    "start = 0\n",
    "end = batch_size = 3000\n",
    "while True:\n",
    "    batch = unv.text_s[start:end]\n",
    "    if not any(batch):\n",
    "        break\n",
    "    tensors.append(embed(batch))\n",
    "    start = end\n",
    "    end += batch_size\n",
    "\n",
    "embeddings = tf.concat(tensors, 0)"
   ]
  },
  {
   "cell_type": "code",
   "execution_count": 109,
   "metadata": {},
   "outputs": [],
   "source": [
    "def search(keyword: str, top_k: int = 10):\n",
    "    searches_emb = embed([keyword])\n",
    "    results = np.inner(searches_emb, embeddings)\n",
    "    for i, search_results in enumerate(results):\n",
    "        print(f'Searches for {keyword}:')\n",
    "        top_k = search_results.argsort()[-top_k:][::-1]\n",
    "        for k in top_k:\n",
    "            print(f'Score: {search_results[k]:7.4f} {unv.text.iloc[k]}')\n",
    "        print()"
   ]
  },
  {
   "cell_type": "code",
   "execution_count": 100,
   "metadata": {},
   "outputs": [
    {
     "output_type": "stream",
     "name": "stdout",
     "text": [
      "Searches for 挂虑 祈祷:\nScore:  0.5392 耶和華又對我說：「不要為這百姓祈禱求好處。\nScore:  0.5355 惟求耶和華─我的神垂顧僕人的禱告祈求，俯聽僕人在你面前的祈禱呼籲。\nScore:  0.5031 惟求耶和華─我的神垂顧僕人的禱告祈求，俯聽僕人今日在你面前的祈禱呼籲。\nScore:  0.5030 「所以，你不要為這百姓祈禱；不要為他們呼求禱告，也不要向我為他們祈求，因我不聽允你。\nScore:  0.4931 我便禁食，披麻蒙灰，定意向主神祈禱懇求。\nScore:  0.4917 耶西的兒子─大衛的祈禱完畢。\nScore:  0.4786 應當一無掛慮，只要凡事藉著禱告、祈求，和感謝，將你們所要的告訴神。\nScore:  0.4707 我聽見這話，就坐下哭泣，悲哀幾日，在天上的神面前禁食祈禱，說：\nScore:  0.4702 我為他們祈求，不為世人祈求，卻為你所賜給我的人祈求，因他們本是你的。\nScore:  0.4648 轉耳不聽律法的，他的祈禱也為可憎。\n\nSearches for 喜乐 事奉:\nScore:  0.4804 要常常喜樂，\nScore:  0.4497 惟有義人必然歡喜，在神面前高興快樂。\nScore:  0.4440 門徒滿心喜樂，又被聖靈充滿。\nScore:  0.4410 你們要靠主常常喜樂。我再說，你們要喜樂。\nScore:  0.4375 猶大人有光榮，歡喜快樂而得尊貴。\nScore:  0.4353 你必歡喜快樂；有許多人因他出世，也必喜樂。\nScore:  0.4226 你們也要照樣喜樂，並且與我一同喜樂。\nScore:  0.4129 歡喜作惡，喜愛惡人的乖僻，\nScore:  0.4010 義人享福，合城喜樂；惡人滅亡，人都歡呼。\nScore:  0.3950 喜樂的心乃是良藥；憂傷的靈使骨枯乾。\n\nSearches for 求救:\nScore:  0.4511 拯救我的主啊，求你快快幫助我！\nScore:  0.3905 我哀號求救；他使我的禱告不得上達。\nScore:  0.3715 因我拯救哀求的困苦人和無人幫助的孤兒。\nScore:  0.3522 求你憑你的公義搭救我，救拔我；側耳聽我，拯救我！\nScore:  0.3478 我真是苦啊！誰能救我脫離這取死的身體呢？\nScore:  0.3353 耶和華啊，求你不要遠離我！我的救主啊，求你快來幫助我！\nScore:  0.3195 惟有忍耐到底的，必然得救。\nScore:  0.3186 求你從上伸手救拔我，救我出離大水，救我脫離外邦人的手。\nScore:  0.3131 耶和華啊，求你轉回搭救我！因你的慈愛拯救我。\nScore:  0.3095 求你為我辨屈，救贖我，照你的話將我救活。\n\nSearches for 信心 行事:\nScore:  0.4822 可見，信心是與他的行為並行，而且信心因著行為才得成全。\nScore:  0.4159 信就是所望之事的實底，是未見之事的確據。\nScore:  0.4159 耶穌大聲說：「信我的，不是信我，乃是信那差我來的。\nScore:  0.4077 這樣，信心若沒有行為就是死的。\nScore:  0.4030 常存信心和無虧的良心。有人丟棄良心，就在真道上如同船破壞了一般。\nScore:  0.3869 那已經信的，多有人來承認訴說自己所行的事。\nScore:  0.3761 「你們心裡不要憂愁；你們信神，也當信我。\nScore:  0.3659 若有疑心而吃的，就必有罪，因為他吃不是出於信心。凡不出於信心的都是罪。\nScore:  0.3649 這話是可信的。我也願你把這些事切切實實地講明，使那些已信神的人留心做正經事業（或譯：留心行善）。這都是美事，並且與人有益。\nScore:  0.3612 你信神只有一位，你信的不錯；鬼魔也信，卻是戰驚。\n\n"
     ]
    }
   ],
   "source": [
    "for kw in ['挂虑 祈祷', '喜乐 事奉', '求救', '信心 行事']:\n",
    "    search(kw)"
   ]
  },
  {
   "cell_type": "code",
   "execution_count": 118,
   "metadata": {},
   "outputs": [
    {
     "output_type": "stream",
     "name": "stdout",
     "text": [
      "Searches for 耶和华啊，求你听闻公义，侧耳听我的呼吁！求你留心听我这不出于诡诈嘴唇的祈祷！:\nScore:  0.9395 （大衛的祈禱。）耶和華啊，求你聽聞公義，側耳聽我的呼籲！求你留心聽我這不出於詭詐嘴唇的祈禱！\nScore:  0.7556 耶和華啊，求你留心聽我的禱告，垂聽我懇求的聲音。\nScore:  0.7279 耶和華啊，我用聲音呼籲的時候，求你垂聽；並求你憐恤我，應允我。\nScore:  0.7218 我曾對耶和華說：你是我的神。耶和華啊，求你留心聽我懇求的聲音！\nScore:  0.7178 耶和華啊，求你救我脫離說謊的嘴唇和詭詐的舌頭！\nScore:  0.7134 （大衛的詩。）耶和華啊，求你聽我的禱告，留心聽我的懇求，憑你的信實和公義應允我。\nScore:  0.7105 惟求耶和華─我的神垂顧僕人的禱告祈求，俯聽僕人在你面前的祈禱呼籲。\nScore:  0.7092 耶和華─萬軍之神啊，求你聽我的禱告！雅各的神啊，求你留心聽！（細拉）\nScore:  0.7071 惟求耶和華─我的神垂顧僕人的禱告祈求，俯聽僕人今日在你面前的祈禱呼籲。\nScore:  0.7062 耶和華啊，求你側耳而聽！耶和華啊，求你睜眼而看！要聽西拿基立打發使者來辱罵永生神的話。\nScore:  0.7027 求你照你的慈愛聽我的聲音；耶和華啊，求你照你的典章將我救活！\nScore:  0.7022 我的王我的神啊，求你垂聽我呼求的聲音！因為我向你祈禱。\nScore:  0.6928 （大衛的詩。）耶和華啊，我曾求告你，求你快快臨到我這裡！我求告你的時候，願你留心聽我的聲音！\nScore:  0.6873 神啊，求你聽我的禱告，留心聽我口中的言語。\nScore:  0.6851 （大衛的祈禱。）耶和華啊，求你側耳應允我，因我是困苦窮乏的。\nScore:  0.6827 耶和華啊，求你應允我，憐恤我！耶和華啊，求你幫助我！\nScore:  0.6780 耶和華啊，求你起來！神啊，求你舉手，不要忘記困苦人！\nScore:  0.6721 耶和華啊，求你不要撇棄我！我的神啊，求你不要遠離我！\nScore:  0.6709 耶和華啊，求你側耳而聽；耶和華啊，求你睜眼而看，要聽西拿基立的一切話，他是打發使者來辱罵永生神的。\nScore:  0.6705 耶和華啊，謙卑人的心願，你早已知道（原文是聽見）。你必預備他們的心，也必側耳聽他們的祈求，\n\n"
     ]
    }
   ],
   "source": [
    "search('耶和华啊，求你听闻公义，侧耳听我的呼吁！求你留心听我这不出于诡诈嘴唇的祈祷！', 20)"
   ]
  },
  {
   "cell_type": "code",
   "execution_count": 120,
   "metadata": {},
   "outputs": [
    {
     "output_type": "stream",
     "name": "stdout",
     "text": [
      "Searches for 于是用比喻说：「一个人有一棵无花果树栽在葡萄园里。他来到树前找果子，却找不着。:\nScore:  1.0000 於是用比喻說：「一個人有一棵無花果樹栽在葡萄園裡。他來到樹前找果子，卻找不著。\nScore:  0.7427 看見路旁有一棵無花果樹，就走到跟前，在樹上找不著甚麼，不過有葉子，就對樹說：「從今以後，你永不結果子。」那無花果樹就立刻枯乾了。\nScore:  0.7363 凡樹木看果子，就可以認出它來。人不是從荊棘上摘無花果，也不是從蒺藜裡摘葡萄。\nScore:  0.6988 「因為，沒有好樹結壞果子，也沒有壞樹結好果子。\nScore:  0.6975 「你們或以為樹好，果子也好；樹壞，果子也壞；因為看果子就可以知道樹。\nScore:  0.6783 他必像葡萄樹的葡萄，未熟而落；又像橄欖樹的花，一開而謝。\nScore:  0.6692 耶和華神使各樣的樹從地裡長出來，可以悅人的眼目，其上的果子好作食物。園子當中又有生命樹和分別善惡的樹。\nScore:  0.6660 好樹不能結壞果子；壞樹不能結好果子。\nScore:  0.6655 又必在撒馬利亞的山上栽種葡萄園，栽種的人要享用所結的果子。\nScore:  0.6621 耶和華說：我必使他們全然滅絕；葡萄樹上必沒有葡萄，無花果樹上必沒有果子，葉子也必枯乾。我所賜給他們的，必離開他們過去。\nScore:  0.6593 這樣，凡好樹都結好果子，惟獨壞樹結壞果子。\nScore:  0.6550 又看那地土是肥美是瘠薄，其中有樹木沒有。你們要放開膽量，把那地的果子帶些來。」（那時正是葡萄初熟的時候。）\nScore:  0.6505 不可摘盡葡萄園的果子，也不可拾取葡萄園所掉的果子；要留給窮人和寄居的。我是耶和華你─們的神。\nScore:  0.6494 遠遠地看見一棵無花果樹，樹上有葉子，就往那裡去，或者在樹上可以找著甚麼。到了樹下，竟找不著甚麼，不過有葉子，因為不是收無花果的時候。\nScore:  0.6484 人人都要坐在自己葡萄樹下和無花果樹下，無人驚嚇。這是萬軍之耶和華親口說的。\nScore:  0.6473 誰種葡萄園，尚未用所結的果子，他可以回家去，恐怕他陣亡，別人去用。\nScore:  0.6443 無花果樹回答說：『我豈肯止住所結甜美的果子，飄颻在眾樹之上呢？』\nScore:  0.6433 其間所剩下的不多，好像人打橄欖樹─在儘上的枝梢上只剩兩三個果子；在多果樹的旁枝上只剩四五個果子。這是耶和華─以色列的神說的。\nScore:  0.6408 看守無花果樹的，必吃樹上的果子；敬奉主人的，必得尊榮。\nScore:  0.6384 就對管園的說：『看哪，我這三年來到這無花果樹前找果子，竟找不著。把它砍了吧，何必白佔地土呢！』\n\n"
     ]
    }
   ],
   "source": [
    "search('于是用比喻说：「一个人有一棵无花果树栽在葡萄园里。他来到树前找果子，却找不着。', 20)"
   ]
  },
  {
   "cell_type": "code",
   "execution_count": 122,
   "metadata": {},
   "outputs": [
    {
     "output_type": "stream",
     "name": "stdout",
     "text": [
      "Searches for 作执事的，也是如此：必须端庄，不一口两舌，不好喝酒，不贪不义之财；:\nScore:  1.0000 作執事的，也是如此：必須端莊，不一口兩舌，不好喝酒，不貪不義之財；\nScore:  0.6741 不因酒滋事，不打人，只要溫和，不爭競，不貪財；\nScore:  0.5573 監督既是神的管家，必須無可指責，不任性，不暴躁，不因酒滋事，不打人，不貪無義之財；\nScore:  0.5539 不要為作惡的心懷不平，也不要嫉妒惡人；\nScore:  0.5364 你必撒種，卻不得收割；踹橄欖，卻不得油抹身；踹葡萄，卻不得酒喝。\nScore:  0.5329 那暗昧無益的事，不要與人同行，倒要責備行這事的人；\nScore:  0.5301 好飲酒的，好吃肉的，不要與他們來往；\nScore:  0.5265 不要吃惡眼人的飯，也不要貪他的美味；\nScore:  0.5251 不要仗勢欺人，也不要因搶奪而驕傲；若財寶加增，不要放在心上。\nScore:  0.5210 他必以敬畏耶和華為樂；行審判不憑眼見，斷是非也不憑耳聞；\n\n"
     ]
    }
   ],
   "source": [
    "search('作执事的，也是如此：必须端庄，不一口两舌，不好喝酒，不贪不义之财；', 10)"
   ]
  },
  {
   "cell_type": "code",
   "execution_count": null,
   "metadata": {},
   "outputs": [],
   "source": []
  }
 ]
}