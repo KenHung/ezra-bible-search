{
 "metadata": {
  "language_info": {
   "codemirror_mode": {
    "name": "ipython",
    "version": 3
   },
   "file_extension": ".py",
   "mimetype": "text/x-python",
   "name": "python",
   "nbconvert_exporter": "python",
   "pygments_lexer": "ipython3",
   "version": "3.7.9-final"
  },
  "orig_nbformat": 2,
  "kernelspec": {
   "name": "cnlp",
   "display_name": "ezra",
   "language": "python"
  }
 },
 "nbformat": 4,
 "nbformat_minor": 2,
 "cells": [
  {
   "source": [
    "# Full Search"
   ],
   "cell_type": "markdown",
   "metadata": {}
  },
  {
   "source": [
    "## Load Bible Text"
   ],
   "cell_type": "markdown",
   "metadata": {}
  },
  {
   "cell_type": "code",
   "execution_count": 1,
   "metadata": {},
   "outputs": [],
   "source": [
    "import numpy as np\n",
    "import pandas as pd\n",
    "\n",
    "types = {\n",
    "    'book': 'string',\n",
    "    'chap': np.int32,\n",
    "    'vers': np.int32,\n",
    "    'text': 'string'\n",
    "}\n",
    "unv = pd.read_csv(\n",
    "    'https://bible.fhl.net/public/dnstrunv.tgz',\n",
    "    sep='#',\n",
    "    compression='gzip',\n",
    "    header=None,\n",
    "    usecols=[1, 2, 3, 4],\n",
    "    names=list(types.keys()))"
   ]
  },
  {
   "cell_type": "code",
   "execution_count": 58,
   "metadata": {},
   "outputs": [],
   "source": [
    "unv.dropna(inplace=True)\n",
    "unv = unv.astype(types)\n",
    "unv.sort_values(['book', 'chap', 'vers'], inplace=True)\n",
    "\n",
    "def in_order(nums: np.ndarray):\n",
    "    return np.array_equal(nums, range(1, nums.max() + 1))\n",
    "\n",
    "assert len(unv.book.unique()) == 66\n",
    "assert unv.groupby('book').chap.unique().apply(in_order).all()\n",
    "assert unv.groupby(['book', 'chap']).vers.apply(in_order).all()\n",
    "assert unv.groupby(['book', 'chap']).vers.max().sum() == len(unv) == 31103"
   ]
  },
  {
   "source": [
    "## Tokenize"
   ],
   "cell_type": "markdown",
   "metadata": {}
  },
  {
   "cell_type": "code",
   "execution_count": 5,
   "metadata": {},
   "outputs": [
    {
     "output_type": "stream",
     "name": "stderr",
     "text": [
      "Paddle enabled successfully......\n"
     ]
    }
   ],
   "source": [
    "import jieba\n",
    "import jieba.posseg as pseg\n",
    "\n",
    "jieba.enable_paddle()"
   ]
  },
  {
   "cell_type": "code",
   "execution_count": 6,
   "metadata": {},
   "outputs": [],
   "source": [
    "from hanziconv import HanziConv\n",
    "\n",
    "unv['s_text'] = unv.text.apply(HanziConv.toSimplified)"
   ]
  },
  {
   "cell_type": "code",
   "execution_count": 7,
   "metadata": {},
   "outputs": [],
   "source": [
    "unv['s_text_tk'] = unv.s_text.apply(lambda v: pseg.lcut(v, use_paddle=True))"
   ]
  },
  {
   "source": [
    "## Search"
   ],
   "cell_type": "markdown",
   "metadata": {}
  },
  {
   "cell_type": "code",
   "execution_count": 9,
   "metadata": {},
   "outputs": [
    {
     "output_type": "stream",
     "name": "stdout",
     "text": [
      "\u001b[6;30;41mfirst\u001b[0m, \u001b[6;30;42msecond\u001b[0m, \u001b[6;30;43mthrid\u001b[0m, \u001b[6;30;44mforth\u001b[0m, \u001b[6;30;45mfifth\u001b[0m, \u001b[6;30;46msixth\u001b[0m, \u001b[6;30;47mseventh\u001b[0m\n"
     ]
    }
   ],
   "source": [
    "from typing import Iterable\n",
    "\n",
    "def highlight_occurances(text: str, keywords: Iterable[str]) -> str:\n",
    "    for i, kw in enumerate(keywords):\n",
    "        text = text.replace(kw, highlight(kw, i))\n",
    "    return text\n",
    "\n",
    "def highlight(text: str, color_code: int) -> str:\n",
    "    return f'\\x1b[6;30;4{color_code + 1}m{text}\\x1b[0m'\n",
    "\n",
    "test_data = ['first', 'second', 'thrid', 'forth', 'fifth', 'sixth', 'seventh']\n",
    "print(highlight_occurances(', '.join(test_data), test_data))"
   ]
  },
  {
   "cell_type": "code",
   "execution_count": 10,
   "metadata": {},
   "outputs": [
    {
     "output_type": "stream",
     "name": "stdout",
     "text": [
      "Search for 挂虑 祈祷:\n",
      "Match:  2.0000 Verse: 应当一无\u001b[6;30;41m挂虑\u001b[0m，只要凡事借着\u001b[6;30;42m祷告\u001b[0m、祈求，和感谢，将你们所要的告诉神。\n",
      "Match:  1.1429 Verse: 妇人和处女也有分别。\u001b[6;30;42m没有\u001b[0m出嫁的，是为主的事\u001b[6;30;41m挂虑\u001b[0m，要身体、灵魂都圣洁；已经出嫁的，是为世上的事\u001b[6;30;41m挂虑\u001b[0m，想怎样叫丈夫喜悦。\n",
      "Match:  1.1429 Verse: 我愿你们无所\u001b[6;30;41m挂虑\u001b[0m。\u001b[6;30;42m没有\u001b[0m娶妻的，是为主的事\u001b[6;30;41m挂虑\u001b[0m，想怎样叫主喜悦。\n",
      "Match:  1.1429 Verse: 娶了妻的，\u001b[6;30;42m是\u001b[0m为世上的事\u001b[6;30;41m挂虑\u001b[0m，想怎样叫妻子喜悦。\n",
      "Match:  1.1429 Verse: 他必像树栽于水旁，在河边扎根，炎热来到，并不\u001b[6;30;42m惧怕\u001b[0m，叶子仍必青翠，在干旱之年毫无\u001b[6;30;41m挂虑\u001b[0m，而且结果不止。\n",
      "Match:  1.0000 Verse: 在这日以前，这日以后，耶和华听人的\u001b[6;30;41m祷告\u001b[0m，没有像这日的，是因耶和华为以色列争战。\n",
      "Match:  1.0000 Verse: 于是禁食\u001b[6;30;41m祷告\u001b[0m，按手在他们头上，就打发他们去了。\n",
      "Match:  1.0000 Verse: 希西家就转脸朝墙，\u001b[6;30;41m祷告\u001b[0m耶和华说：\n",
      "Match:  1.0000 Verse: 散了众人以后，他就独自上山去\u001b[6;30;41m祷告\u001b[0m。到了晚上，只有他一人在那里。\n",
      "Match:  1.0000 Verse: 对他们说：「经上说：我的殿必作\u001b[6;30;41m祷告\u001b[0m的殿，你们倒使它成为贼窝了。」\n",
      "\n",
      "Search for 喜乐 事奉:\n",
      "Match:  2.0000 Verse: 你们当乐意\u001b[6;30;41m事\u001b[0m\u001b[6;30;42m奉\u001b[0m耶和华，当来向他歌唱！\n",
      "Match:  2.0000 Verse: 「以色列家啊，至于你们，主耶和华如此说：从此以后若不听从我，就任凭你们去\u001b[6;30;41m事\u001b[0m\u001b[6;30;42m奉\u001b[0m偶像，只是不可再因你们的供物和偶像亵渎我的圣名。\n",
      "Match:  2.0000 Verse: 「我儿所罗门哪，你当认识耶和华─你父的神，诚心乐意地\u001b[6;30;41m事\u001b[0m\u001b[6;30;42m奉\u001b[0m他；因为他鉴察众人的心，知道一切心思意念。你若寻求他，他必使你寻见；你若离弃他，他必永远丢弃你。\n",
      "Match:  2.0000 Verse: 那时，我必使万民用清洁的言语好求告我─耶和华的名，同心合意地\u001b[6;30;41m事\u001b[0m\u001b[6;30;42m奉\u001b[0m我。\n",
      "Match:  2.0000 Verse: 暗兰的儿子是亚伦、摩西。亚伦和他的子孙分出来，好分别至圣的物，在耶和华面前烧香、\u001b[6;30;41m事\u001b[0m\u001b[6;30;42m奉\u001b[0m他，\u001b[6;30;42m奉\u001b[0m他的名祝福，直到永远。\n",
      "Match:  2.0000 Verse: 就能废弃我与我仆人大卫所立的约，使他没有儿子在他的宝座上为王，并能废弃我与\u001b[6;30;41m事\u001b[0m\u001b[6;30;42m奉\u001b[0m我的祭司、利未人所立的约。\n",
      "Match:  2.0000 Verse: 天上的万象不能数算，海边的尘沙也不能斗量；我必照样使我仆人大卫的后裔和\u001b[6;30;41m事\u001b[0m\u001b[6;30;42m奉\u001b[0m我的利未人多起来。」\n",
      "Match:  2.0000 Verse: \u001b[6;30;41m事\u001b[0m\u001b[6;30;42m奉\u001b[0m他们的偶像，这就成了自己的网罗，\n",
      "Match:  2.0000 Verse: 他行耶和华眼中看为恶的\u001b[6;30;41m事\u001b[0m，效法他父玛拿西所行的，祭祀\u001b[6;30;41m事\u001b[0m\u001b[6;30;42m奉\u001b[0m他父玛拿西所雕刻的偶像，\n",
      "Match:  2.0000 Verse: 夜间，法老召了摩西、亚伦来，说：「起来！连你们带以色列人，从我民中出去，依你们所说的，去\u001b[6;30;41m事\u001b[0m\u001b[6;30;42m奉\u001b[0m耶和华吧！\n",
      "\n",
      "Search for 求救:\n",
      "Match:  1.0000 Verse: 前行后随的人都喊着说：和散那（和散那：原有\u001b[6;30;41m求救\u001b[0m的意思，在此乃是称颂的话）！奉主名来的是应当称颂的！\n",
      "Match:  1.0000 Verse: 到降罚的日子，有灾祸从远方临到，那时，你们怎样行呢？你们向谁逃奔\u001b[6;30;41m求救\u001b[0m呢？你们的荣耀（或译：财宝）存留何处呢？\n",
      "Match:  1.0000 Verse: 人因多受欺压就哀求，因受能者的辖制（原文是膀臂）便\u001b[6;30;41m求救\u001b[0m，\n",
      "Match:  1.0000 Verse: 我哀号\u001b[6;30;41m求救\u001b[0m；他使我的祷告不得上达。\n",
      "Match:  1.0000 Verse: 前行后随的众人喊着说：和散那（原有\u001b[6;30;41m求救\u001b[0m的意思，在此是称颂的话）归于大卫的子孙！奉主名来的是应当称颂的！高高在上和散那！\n",
      "Match:  1.0000 Verse: 然而，人仆倒岂不伸手？遇灾难岂不\u001b[6;30;41m求救\u001b[0m呢？\n",
      "Match:  1.0000 Verse: 我没有日光就哀哭行去（或译：我面发黑并非因日晒）；我在会中站着\u001b[6;30;41m求救\u001b[0m。\n",
      "Match:  1.0000 Verse: 我们不向亚述\u001b[6;30;41m求救\u001b[0m，不骑埃及的马，也不再对我们手所造的说：你是我们的神。因为孤儿在你─耶和华那里得蒙怜悯。\n",
      "Match:  1.0000 Verse: 「那时，这沿海一带的居民必说：『看哪，我们素所仰望的，就是我们为脱离亚述王逃往\u001b[6;30;41m求救\u001b[0m的，不过是如此！我们怎能逃脱呢？』」\n",
      "Match:  0.0000 Verse: 其次是管理耶路撒冷那一半、哈罗黑的儿子沙龙和他的女儿们修造。\n",
      "\n",
      "Search for 信心 行事:\n",
      "Match:  2.0000 Verse: 因我们\u001b[6;30;42m行事\u001b[0m为人是凭着\u001b[6;30;41m信心\u001b[0m，不是凭着眼见。\n",
      "Match:  1.3333 Verse: 摩西学了埃及人一切的\u001b[6;30;41m学问\u001b[0m，说话\u001b[6;30;42m行事\u001b[0m都有才能。\n",
      "Match:  1.3333 Verse: \u001b[6;30;41m神\u001b[0m\u001b[6;30;42m行事\u001b[0m有高大的能力；教训人的有谁像他呢？\n",
      "Match:  1.3333 Verse: 凡通达人都凭\u001b[6;30;41m知识\u001b[0m\u001b[6;30;42m行事\u001b[0m；愚昧人张扬自己的愚昧。\n",
      "Match:  1.3333 Verse: 然而，我们的\u001b[6;30;41m神\u001b[0m在天上，都随自己的意旨\u001b[6;30;42m行事\u001b[0m。\n",
      "Match:  1.3333 Verse: 『主耶和华啊，你已将你的大力大能显给仆人看。在天上，在地下，有甚么\u001b[6;30;41m神\u001b[0m能像你\u001b[6;30;42m行事\u001b[0m、像你有大能的作为呢？\n",
      "Match:  1.3333 Verse: 我又说：「你们所行的不善！你们\u001b[6;30;42m行事\u001b[0m不当敬畏我们的\u001b[6;30;41m神\u001b[0m吗？不然，难免我们的仇敌外邦人毁谤我们。\n",
      "Match:  1.3333 Verse: 耶和华─以色列的\u001b[6;30;41m神\u001b[0m啊，你所应许你仆人─我父大卫的话说：『你的子孙若谨慎自己的行为，在我面前\u001b[6;30;42m行事\u001b[0m像你所行的一样，就不断人坐以色列的国位。』现在求你应验这话。\n",
      "Match:  1.3333 Verse: 你的倚靠不是在你敬畏\u001b[6;30;41m神\u001b[0m吗？你的盼望不是在你\u001b[6;30;42m行事\u001b[0m纯正吗？\n",
      "Match:  1.3333 Verse: 耶稣说：「甚么事呢？」他们说：「就是拿撒勒人耶稣的事。他是个先知，在\u001b[6;30;41m神\u001b[0m和众百姓面前，说话\u001b[6;30;42m行事\u001b[0m都有大能。\n",
      "\n"
     ]
    }
   ],
   "source": [
    "from search import sentence_similarity\n",
    "\n",
    "searches = ['挂虑 祈祷', '喜乐 事奉', '求救', '信心 行事']\n",
    "\n",
    "for search_term in searches:\n",
    "    print(f'Search for {search_term}:')\n",
    "    search_tk = pseg.lcut(search_term, use_paddle=True)\n",
    "    match_scores = {}\n",
    "    for v, vers_tk in zip(unv.s_text, unv.s_text_tk):\n",
    "        similarity = sentence_similarity(search_tk, vers_tk)\n",
    "        match_kw = [kw for kw in similarity.keys() if similarity[kw] > 0]\n",
    "        vers = highlight_occurances(v, match_kw)\n",
    "        score = sum(similarity.values())\n",
    "        match_scores[vers] = score\n",
    "    for top_match in sorted(match_scores, key=match_scores.get, reverse=True)[:10]:\n",
    "        print(f'Match: {match_scores[top_match]:7.4f} Verse: {top_match}')\n",
    "    print()"
   ]
  },
  {
   "cell_type": "code",
   "execution_count": null,
   "metadata": {},
   "outputs": [],
   "source": []
  }
 ]
}