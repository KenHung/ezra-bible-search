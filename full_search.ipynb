{
 "metadata": {
  "language_info": {
   "codemirror_mode": {
    "name": "ipython",
    "version": 3
   },
   "file_extension": ".py",
   "mimetype": "text/x-python",
   "name": "python",
   "nbconvert_exporter": "python",
   "pygments_lexer": "ipython3",
   "version": "3.7.9-final"
  },
  "orig_nbformat": 2,
  "kernelspec": {
   "name": "cnlp",
   "display_name": "ezra",
   "language": "python"
  }
 },
 "nbformat": 4,
 "nbformat_minor": 2,
 "cells": [
  {
   "source": [
    "# Full Search"
   ],
   "cell_type": "markdown",
   "metadata": {}
  },
  {
   "source": [
    "## Load Bible Text"
   ],
   "cell_type": "markdown",
   "metadata": {}
  },
  {
   "cell_type": "code",
   "execution_count": 1,
   "metadata": {},
   "outputs": [],
   "source": [
    "%load_ext autoreload\n",
    "%autoreload 2"
   ]
  },
  {
   "cell_type": "code",
   "execution_count": 2,
   "metadata": {},
   "outputs": [],
   "source": [
    "from hanziconv import HanziConv\n",
    "from data import read_bible\n",
    "\n",
    "unv = read_bible('data/dnstrunv.tgz')\n",
    "unv['text_s'] = unv.text.apply(HanziConv.toSimplified)"
   ]
  },
  {
   "source": [
    "## Tokenize"
   ],
   "cell_type": "markdown",
   "metadata": {}
  },
  {
   "cell_type": "code",
   "execution_count": 3,
   "metadata": {},
   "outputs": [
    {
     "output_type": "stream",
     "name": "stderr",
     "text": [
      "Building prefix dict from the default dictionary ...\n",
      "Loading model from cache /var/folders/w0/lx0qzxln5p72qnrg392g7nyc0000gn/T/jieba.cache\n",
      "Loading model cost 2.007 seconds.\n",
      "Prefix dict has been built successfully.\n"
     ]
    }
   ],
   "source": [
    "import jieba\n",
    "import jieba.posseg as pseg\n",
    "\n",
    "jieba.load_userdict('bible_terms.txt')\n",
    "\n",
    "unv['text_tk'] = unv.text_s.apply(pseg.lcut)"
   ]
  },
  {
   "source": [
    "## Search"
   ],
   "cell_type": "markdown",
   "metadata": {}
  },
  {
   "cell_type": "code",
   "execution_count": 4,
   "metadata": {},
   "outputs": [
    {
     "output_type": "stream",
     "name": "stdout",
     "text": [
      "\u001b[6;30;41mfirst\u001b[0m, \u001b[6;30;42msecond\u001b[0m, \u001b[6;30;43mthrid\u001b[0m, \u001b[6;30;44mforth\u001b[0m, \u001b[6;30;45mfifth\u001b[0m, \u001b[6;30;46msixth\u001b[0m, \u001b[6;30;47mseventh\u001b[0m\n"
     ]
    }
   ],
   "source": [
    "from typing import Iterable\n",
    "\n",
    "def highlight_occurances(text: str, keywords: Iterable[str]) -> str:\n",
    "    for i, kw in enumerate(keywords):\n",
    "        text = text.replace(kw, highlight(kw, i))\n",
    "    return text\n",
    "\n",
    "def highlight(text: str, color_code: int) -> str:\n",
    "    return f'\\x1b[6;30;4{color_code + 1}m{text}\\x1b[0m'\n",
    "\n",
    "test_data = ['first', 'second', 'thrid', 'forth', 'fifth', 'sixth', 'seventh']\n",
    "print(highlight_occurances(', '.join(test_data), test_data))"
   ]
  },
  {
   "cell_type": "code",
   "execution_count": 41,
   "metadata": {},
   "outputs": [],
   "source": [
    "from search import sentence_similarity, load_word_embeddings\n",
    "\n",
    "load_word_embeddings('data/mini.h5')"
   ]
  },
  {
   "cell_type": "code",
   "execution_count": 42,
   "metadata": {
    "tags": []
   },
   "outputs": [
    {
     "output_type": "stream",
     "name": "stdout",
     "text": [
      "Search for 欢乐 祈祷 ([pair('欢乐', 'a'), pair(' ', 'x'), pair('祈祷', 'v')]):\n",
      "Match:  1.8144 Verse: 恶人献祭，为耶和华所憎恶；正直人\u001b[6;30;42m祈祷\u001b[0m，为他所\u001b[6;30;41m喜悦\u001b[0m。\n",
      "Match:  1.7942 Verse: 撒母耳不\u001b[6;30;41m喜悦\u001b[0m他们说「立一个王治理我们」，他就\u001b[6;30;42m祷告\u001b[0m耶和华。\n",
      "Match:  1.7942 Verse: 他\u001b[6;30;42m祷告\u001b[0m神，神就\u001b[6;30;41m喜悦\u001b[0m他，使他欢唿朝见神的面；神又看他为义。\n",
      "Match:  1.7777 Verse: 我必领他们到我的圣山，使他们在\u001b[6;30;42m祷告\u001b[0m我的殿中\u001b[6;30;41m喜乐\u001b[0m。他们的燔祭和平安祭，在我坛上必蒙悦纳，因我的殿必称为万民\u001b[6;30;42m祷告\u001b[0m的殿。\n",
      "Match:  1.7777 Verse: 你们中间有受苦的呢，他就该\u001b[6;30;42m祷告\u001b[0m；有\u001b[6;30;41m喜乐\u001b[0m的呢，他就该歌颂。\n",
      "Match:  1.7777 Verse: 在指望中要\u001b[6;30;41m喜乐\u001b[0m；在患难中要忍耐；\u001b[6;30;42m祷告\u001b[0m要恆切。\n",
      "Match:  1.7091 Verse: 哈拿\u001b[6;30;42m祷告\u001b[0m说：我的心因耶和华\u001b[6;30;41m快乐\u001b[0m；我的角因耶和华高举。我的口向仇敌张开；我因耶和华的救恩欢欣。\n",
      "Match:  1.4742 Verse: 在那里，耶和华─你们神的面前，你们和你们的家属都可以吃，并且因你手所办的一切事蒙耶和华─你的神\u001b[6;30;42m赐福\u001b[0m，就都\u001b[6;30;41m欢乐\u001b[0m。\n",
      "Match:  1.4742 Verse: 在耶和华所选择的地方，你当向耶和华─你的神守节七日；因为耶和华─你神在你一切的土产上和你手里所办的事上要\u001b[6;30;42m赐福\u001b[0m与你，你就非常地\u001b[6;30;41m欢乐\u001b[0m。\n",
      "Match:  1.4094 Verse: 将要灭亡的为我\u001b[6;30;42m祝福\u001b[0m；我也使寡妇心中\u001b[6;30;41m欢乐\u001b[0m。\n",
      "\n",
      "Search for 挂虑 祈祷 ([pair('挂虑', 'v'), pair(' ', 'x'), pair('祈祷', 'v')]):\n",
      "Match:  1.9797 Verse: 应当一无\u001b[6;30;41m挂虑\u001b[0m，只要凡事借着\u001b[6;30;42m祷告\u001b[0m、祈求，和感谢，将你们所要的告诉神。\n",
      "Match:  1.5609 Verse: \u001b[6;30;42m祷告\u001b[0m完了，就起来，到门徒那里，见他们因为\u001b[6;30;41m忧愁\u001b[0m都睡着了，\n",
      "Match:  1.5530 Verse: 哈拿心里\u001b[6;30;41m愁苦\u001b[0m，就痛痛哭泣，\u001b[6;30;42m祈祷\u001b[0m耶和华，\n",
      "Match:  1.5131 Verse: 次日清早，他们起来，在耶和华面前\u001b[6;30;42m敬拜\u001b[0m，就回拉玛。到了家里，以利加拿和妻哈拿同房，耶和华\u001b[6;30;41m顾念\u001b[0m哈拿，\n",
      "Match:  1.3913 Verse: 当时，部百流的父亲\u001b[6;30;41m患\u001b[0m热病和痢疾躺着。保罗进去，为他\u001b[6;30;42m祷告\u001b[0m，按手在他身上，治好了他。\n",
      "Match:  1.3574 Verse: 耶稣说：「你们\u001b[6;30;42m祷告\u001b[0m的时候，\u001b[6;30;41m要说\u001b[0m：我们在天上的父（有古卷：父啊）：愿人都尊你的名为圣。愿你的国降临；愿你的旨意行在地上，如同行在天上（有古卷没有愿你的旨意....）。\n",
      "Match:  1.3548 Verse: 哥尼流定睛看他，\u001b[6;30;41m惊怕\u001b[0m说：「主啊，甚么事呢？」天使说：「你的\u001b[6;30;42m祷告\u001b[0m和你的赒济达到神面前，已蒙记念了。\n",
      "Match:  1.3505 Verse: \u001b[6;30;41m至于\u001b[0m我，断不停止为你们\u001b[6;30;42m祷告\u001b[0m，以致得罪耶和华。我必以善道正路指教你们。\n",
      "Match:  1.3505 Verse: \u001b[6;30;41m至于\u001b[0m这一类的鬼，若不\u001b[6;30;42m祷告\u001b[0m、禁食，他就不出来（或译：不能赶他出来）。」\n",
      "Match:  1.3452 Verse: 我愿男人无忿怒，无争论（或译：\u001b[6;30;41m疑惑\u001b[0m），举起圣洁的手，随处\u001b[6;30;42m祷告\u001b[0m；\n",
      "\n",
      "Search for 虑 祈祷 ([pair('虑', 'vg'), pair(' ', 'x'), pair('祈祷', 'v')]):\n",
      "Match:  1.4623 Verse: 哈拿心里\u001b[6;30;41m愁苦\u001b[0m，就痛痛哭泣，\u001b[6;30;42m祈祷\u001b[0m耶和华，\n",
      "Match:  1.3767 Verse: 你们\u001b[6;30;42m祷告\u001b[0m，不可像外邦人，用许多重复话，他们\u001b[6;30;41m以为\u001b[0m话多了必蒙垂听。\n",
      "Match:  1.3735 Verse: 所以我心里说：\u001b[6;30;41m恐怕\u001b[0m我没有\u001b[6;30;42m祷告\u001b[0m耶和华。非利士人下到吉甲攻击我，我就勉强献上燔祭。」\n",
      "Match:  1.3513 Verse: \u001b[6;30;41m想\u001b[0m了一\u001b[6;30;41m想\u001b[0m，就往那称唿马可的约翰、他母亲马利亚家去，在那里有好些人聚集\u001b[6;30;42m祷告\u001b[0m。\n",
      "Match:  1.3390 Verse: 应当一无\u001b[6;30;41m挂虑\u001b[0m，只要凡事借着\u001b[6;30;42m祷告\u001b[0m、祈求，和感谢，将你们所要的告诉神。\n",
      "Match:  1.3248 Verse: 我愿男人无忿怒，无争论（或译：\u001b[6;30;41m疑惑\u001b[0m），举起圣洁的手，随处\u001b[6;30;42m祷告\u001b[0m；\n",
      "Match:  1.3164 Verse: 你们站着\u001b[6;30;42m祷告\u001b[0m的时候，若\u001b[6;30;41m想起\u001b[0m有人得罪你们，就当饶恕他，好叫你们在天上的父也饶恕你们的过犯。\n",
      "Match:  1.2839 Verse: \u001b[6;30;42m祷告\u001b[0m完了，就起来，到门徒那里，见他们因为\u001b[6;30;41m忧愁\u001b[0m都睡着了，\n",
      "Match:  1.2432 Verse: \u001b[6;30;42m祷告\u001b[0m完了，聚会的地方震动，他们就都被圣灵充满，放胆\u001b[6;30;41m讲论\u001b[0m神的道。\n",
      "Match:  1.2403 Verse: 「你的民以色列若得罪你，败在仇敌面前，又\u001b[6;30;41m回心转意\u001b[0m承认你的名，在这殿里向你祈求\u001b[6;30;42m祷告\u001b[0m，\n",
      "\n",
      "Search for 喜乐 事奉 ([pair('喜乐', 'ns'), pair(' ', 'x'), pair('事', 'n'), pair('奉', 'v')]):\n",
      "Match:  2.7845 Verse: 所以，弟兄们，我以神的慈悲劝你们，将身体献上，当作活祭，是圣洁的，是神所\u001b[6;30;41m喜悦\u001b[0m的；你们如此\u001b[6;30;42m事\u001b[0m\u001b[6;30;43m奉\u001b[0m乃是理所当然的。\n",
      "Match:  2.5804 Verse: 当存畏惧\u001b[6;30;42m事\u001b[0m\u001b[6;30;43m奉\u001b[0m耶和华，又当存战兢而\u001b[6;30;41m快乐\u001b[0m。\n",
      "Match:  2.4179 Verse: 向来你们没有\u001b[6;30;43m奉\u001b[0m我的名求\u001b[6;30;42m甚么\u001b[0m，如今你们求，就必得着，叫你们的\u001b[6;30;41m喜乐\u001b[0m可以满足。」\n",
      "Match:  2.3529 Verse: 得了权柄、\u001b[6;30;41m荣耀\u001b[0m、国度，使各方、各国、各族的人都\u001b[6;30;42m事\u001b[0m\u001b[6;30;43m奉\u001b[0m他。他的权柄是永远的，不能废去；他的国必不败坏。\n",
      "Match:  2.3272 Verse: 暗兰的儿子是亚伦、摩西。亚伦和他的子孙分出来，好分别至圣的物，在耶和华面前烧香、\u001b[6;30;42m事\u001b[0m\u001b[6;30;43m奉\u001b[0m他，\u001b[6;30;43m奉\u001b[0m他的名\u001b[6;30;41m祝福\u001b[0m，直到永远。\n",
      "Match:  2.3272 Verse: 那时，耶和华将利未支派分别出来，抬耶和华的约柜，又侍立在耶和华面前\u001b[6;30;42m事\u001b[0m\u001b[6;30;43m奉\u001b[0m他，\u001b[6;30;43m奉\u001b[0m他的名\u001b[6;30;41m祝福\u001b[0m，直到今日。\n",
      "Match:  2.3272 Verse: 祭司利未的子孙要近前来；因为耶和华─你的神拣选了他们\u001b[6;30;42m事\u001b[0m\u001b[6;30;43m奉\u001b[0m他，\u001b[6;30;43m奉\u001b[0m耶和华的名\u001b[6;30;41m祝福\u001b[0m，所有争讼殴打的\u001b[6;30;42m事\u001b[0m都要凭他们判断。\n",
      "Match:  2.3140 Verse: 以色列人就除掉他们中间的外邦神，\u001b[6;30;42m事\u001b[0m\u001b[6;30;43m奉\u001b[0m耶和华。耶和华因以色列人受的\u001b[6;30;41m苦难\u001b[0m，就心中担忧。\n",
      "Match:  2.2806 Verse: 「一个人不能\u001b[6;30;42m事\u001b[0m\u001b[6;30;43m奉\u001b[0m两个主；不是恶这个、爱那个，就是重这个、轻那个。你们不能又\u001b[6;30;42m事\u001b[0m\u001b[6;30;43m奉\u001b[0m神，又\u001b[6;30;42m事\u001b[0m\u001b[6;30;43m奉\u001b[0m玛门（玛门：\u001b[6;30;41m财利\u001b[0m的意思）。」\n",
      "Match:  2.2726 Verse: 素祭和奠祭从耶和华的殿中断绝；\u001b[6;30;42m事\u001b[0m\u001b[6;30;43m奉\u001b[0m耶和华的祭司都\u001b[6;30;41m悲哀\u001b[0m。\n",
      "\n",
      "Search for 求救 ([pair('求救', 'v')]):\n",
      "Match:  1.0000 Verse: 我们不向亚述\u001b[6;30;41m求救\u001b[0m，不骑埃及的马，也不再对我们手所造的说：你是我们的神。因为孤儿在你─耶和华那里得蒙怜悯。\n",
      "Match:  1.0000 Verse: 到降罚的日子，有灾祸从远方临到，那时，你们怎样行呢？你们向谁逃奔\u001b[6;30;41m求救\u001b[0m呢？你们的荣耀（或译：财宝）存留何处呢？\n",
      "Match:  1.0000 Verse: 「那时，这沿海一带的居民必说：『看哪，我们素所仰望的，就是我们为脱离亚述王逃往\u001b[6;30;41m求救\u001b[0m的，不过是如此！我们怎能逃脱呢？』」\n",
      "Match:  1.0000 Verse: 然而，人仆倒岂不伸手？遇灾难岂不\u001b[6;30;41m求救\u001b[0m呢？\n",
      "Match:  1.0000 Verse: 我没有日光就哀哭行去（或译：我面发黑并非因日晒）；我在会中站着\u001b[6;30;41m求救\u001b[0m。\n",
      "Match:  1.0000 Verse: 人因多受欺压就哀求，因受能者的辖制（原文是膀臂）便\u001b[6;30;41m求救\u001b[0m，\n",
      "Match:  1.0000 Verse: 那心中不敬虔的人积蓄怒气；神捆绑他们，他们竟不\u001b[6;30;41m求救\u001b[0m；\n",
      "Match:  1.0000 Verse: 我哀号\u001b[6;30;41m求救\u001b[0m；他使我的祷告不得上达。\n",
      "Match:  1.0000 Verse: 前行后随的人都喊着说：和散那（和散那：原有\u001b[6;30;41m求救\u001b[0m的意思，在此乃是称颂的话）！奉主名来的是应当称颂的！\n",
      "Match:  1.0000 Verse: 前行后随的众人喊着说：和散那（原有\u001b[6;30;41m求救\u001b[0m的意思，在此是称颂的话）归于大卫的子孙！奉主名来的是应当称颂的！高高在上和散那！\n",
      "\n",
      "Search for 信心 行事 ([pair('信心', 'n'), pair(' ', 'x'), pair('行事', 'n')]):\n",
      "Match:  2.0000 Verse: 因我们\u001b[6;30;42m行事\u001b[0m为人是凭着\u001b[6;30;41m信心\u001b[0m，不是凭着眼见。\n",
      "Match:  1.6834 Verse: 不可叫人小看你年轻，总要在言语、\u001b[6;30;42m行为\u001b[0m、爱心、\u001b[6;30;41m信心\u001b[0m、清洁上，都作信徒的榜样。\n",
      "Match:  1.6834 Verse: 我的弟兄们，若有人说自己有\u001b[6;30;41m信心\u001b[0m，却没有\u001b[6;30;42m行为\u001b[0m，有甚么益处呢？这\u001b[6;30;41m信心\u001b[0m能救他吗？\n",
      "Match:  1.6834 Verse: 这样，\u001b[6;30;41m信心\u001b[0m若没有\u001b[6;30;42m行为\u001b[0m就是死的。\n",
      "Match:  1.6834 Verse: 必有人说：「你有\u001b[6;30;41m信心\u001b[0m，我有\u001b[6;30;42m行为\u001b[0m；你将你没有\u001b[6;30;42m行为\u001b[0m的\u001b[6;30;41m信心\u001b[0m指给我看，我便借着我的\u001b[6;30;42m行为\u001b[0m，将我的\u001b[6;30;41m信心\u001b[0m指给你看。」\n",
      "Match:  1.6834 Verse: 虚浮的人哪，你愿意知道没有\u001b[6;30;42m行为\u001b[0m的\u001b[6;30;41m信心\u001b[0m是死的吗？\n",
      "Match:  1.6834 Verse: 可见，\u001b[6;30;41m信心\u001b[0m是与他的\u001b[6;30;42m行为\u001b[0m并行，而且\u001b[6;30;41m信心\u001b[0m因着\u001b[6;30;42m行为\u001b[0m才得成全。\n",
      "Match:  1.6834 Verse: 身体没有灵魂是死的，\u001b[6;30;41m信心\u001b[0m没有\u001b[6;30;42m行为\u001b[0m也是死的。\n",
      "Match:  1.6834 Verse: 我知道你的\u001b[6;30;42m行为\u001b[0m、爱心、\u001b[6;30;41m信心\u001b[0m、勤劳、忍耐，又知道你末后所行的善事，比起初所行的更多。\n",
      "Match:  1.6834 Verse: 这是甚么缘故呢？是因为他们不凭着\u001b[6;30;41m信心\u001b[0m求，只凭着\u001b[6;30;42m行为\u001b[0m求；他们正跌在那绊脚石上。\n",
      "\n"
     ]
    }
   ],
   "source": [
    "searches = ['欢乐 祈祷', '挂虑 祈祷', '虑 祈祷', '喜乐 事奉', '求救', '信心 行事']\n",
    "\n",
    "for search_term in searches:\n",
    "    search_tk = pseg.lcut(search_term)\n",
    "    print(f'Search for {search_term} ({search_tk}):')\n",
    "    match_scores = {}\n",
    "    for v, vers_tk in zip(unv.text_s, unv.text_tk):\n",
    "        similarity = sentence_similarity(search_tk, vers_tk)\n",
    "        match_kw = [kw for kw in similarity.keys() if similarity[kw] > 0]\n",
    "        vers = highlight_occurances(v, match_kw)\n",
    "        score = sum(similarity.values())\n",
    "        match_scores[vers] = score\n",
    "    for top_match in sorted(match_scores, key=match_scores.get, reverse=True)[:10]:\n",
    "        print(f'Match: {match_scores[top_match]:7.4f} Verse: {top_match}')\n",
    "    print()"
   ]
  }
 ]
}