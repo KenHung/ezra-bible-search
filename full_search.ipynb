{
 "metadata": {
  "language_info": {
   "codemirror_mode": {
    "name": "ipython",
    "version": 3
   },
   "file_extension": ".py",
   "mimetype": "text/x-python",
   "name": "python",
   "nbconvert_exporter": "python",
   "pygments_lexer": "ipython3",
   "version": "3.7.9-final"
  },
  "orig_nbformat": 2,
  "kernelspec": {
   "name": "cnlp",
   "display_name": "ezra",
   "language": "python"
  }
 },
 "nbformat": 4,
 "nbformat_minor": 2,
 "cells": [
  {
   "source": [
    "# Full Search"
   ],
   "cell_type": "markdown",
   "metadata": {}
  },
  {
   "source": [
    "## Load Bible Text"
   ],
   "cell_type": "markdown",
   "metadata": {}
  },
  {
   "cell_type": "code",
   "execution_count": 1,
   "metadata": {},
   "outputs": [],
   "source": [
    "%load_ext autoreload\n",
    "%autoreload 2"
   ]
  },
  {
   "cell_type": "code",
   "execution_count": 2,
   "metadata": {},
   "outputs": [],
   "source": [
    "from hanziconv import HanziConv\n",
    "from data import read_bible\n",
    "\n",
    "unv = read_bible('data/dnstrunv.tgz')\n",
    "unv['text_s'] = unv.text.apply(HanziConv.toSimplified)"
   ]
  },
  {
   "source": [
    "## Tokenize"
   ],
   "cell_type": "markdown",
   "metadata": {}
  },
  {
   "cell_type": "code",
   "execution_count": 3,
   "metadata": {},
   "outputs": [
    {
     "output_type": "stream",
     "name": "stderr",
     "text": [
      "Building prefix dict from the default dictionary ...\n",
      "Loading model from cache /var/folders/w0/lx0qzxln5p72qnrg392g7nyc0000gn/T/jieba.cache\n",
      "Loading model cost 2.007 seconds.\n",
      "Prefix dict has been built successfully.\n"
     ]
    }
   ],
   "source": [
    "import jieba\n",
    "import jieba.posseg as pseg\n",
    "\n",
    "jieba.load_userdict('bible_terms.txt')\n",
    "\n",
    "unv['text_tk'] = unv.text_s.apply(pseg.lcut)"
   ]
  },
  {
   "source": [
    "## Search"
   ],
   "cell_type": "markdown",
   "metadata": {}
  },
  {
   "cell_type": "code",
   "execution_count": 4,
   "metadata": {},
   "outputs": [
    {
     "output_type": "stream",
     "name": "stdout",
     "text": [
      "\u001b[6;30;41mfirst\u001b[0m, \u001b[6;30;42msecond\u001b[0m, \u001b[6;30;43mthrid\u001b[0m, \u001b[6;30;44mforth\u001b[0m, \u001b[6;30;45mfifth\u001b[0m, \u001b[6;30;46msixth\u001b[0m, \u001b[6;30;47mseventh\u001b[0m\n"
     ]
    }
   ],
   "source": [
    "from typing import Iterable\n",
    "\n",
    "def highlight_occurances(text: str, keywords: Iterable[str]) -> str:\n",
    "    for i, kw in enumerate(keywords):\n",
    "        text = text.replace(kw, highlight(kw, i))\n",
    "    return text\n",
    "\n",
    "def highlight(text: str, color_code: int) -> str:\n",
    "    return f'\\x1b[6;30;4{color_code + 1}m{text}\\x1b[0m'\n",
    "\n",
    "test_data = ['first', 'second', 'thrid', 'forth', 'fifth', 'sixth', 'seventh']\n",
    "print(highlight_occurances(', '.join(test_data), test_data))"
   ]
  },
  {
   "cell_type": "code",
   "execution_count": 8,
   "metadata": {
    "tags": []
   },
   "outputs": [
    {
     "output_type": "stream",
     "name": "stdout",
     "text": [
      "Search for 欢乐 祈祷 ([pair('欢乐', 'a'), pair(' ', 'x'), pair('祈祷', 'v')]):\n",
      "Match:  1.2500 Verse: 耶何耶大派官看守耶和华的殿，是在祭司利未人手下。这祭司利未人是大卫分派在耶和华殿中、照摩西律法上所\u001b[6;30;42m写\u001b[0m的，给耶和华献燔祭，又按大卫所定的例，\u001b[6;30;41m欢乐\u001b[0m歌唱；\n",
      "Match:  1.2500 Verse: 我向耶和华─我的神\u001b[6;30;42m祈祷\u001b[0m、认罪，说：「主啊，大而可畏的神，向爱主、守主诫命的人守约施\u001b[6;30;41m慈爱\u001b[0m。\n",
      "Match:  1.2500 Verse: 就\u001b[6;30;42m祷告\u001b[0m耶和华说：「耶和华啊，我在本国的时候岂不是这样说吗？我知道你是有恩典、有怜悯的神，不轻易发怒，有丰盛的\u001b[6;30;41m慈爱\u001b[0m，并且后悔不降所说的灾，所以我急速逃往他施去。\n",
      "Match:  1.2500 Verse: 耶稣在一个地方\u001b[6;30;42m祷告\u001b[0m；\u001b[6;30;42m祷告\u001b[0m完了，有个门徒对他说：「求主\u001b[6;30;41m教导\u001b[0m我们\u001b[6;30;42m祷告\u001b[0m，像约翰\u001b[6;30;41m教导\u001b[0m他的门徒。」\n",
      "Match:  1.2500 Verse: 白昼，耶和华必向我施\u001b[6;30;41m慈爱\u001b[0m；黑夜，我要歌颂\u001b[6;30;42m祷告\u001b[0m赐我生命的神。\n",
      "Match:  1.2500 Verse: 神是应当称颂的！他并没有推却我的\u001b[6;30;42m祷告\u001b[0m，也没有叫他的\u001b[6;30;41m慈爱\u001b[0m离开我。\n",
      "Match:  1.2500 Verse: 但我在悦纳的时候向你─耶和华\u001b[6;30;42m祈祷\u001b[0m。神啊，求你按你丰盛的\u001b[6;30;41m慈爱\u001b[0m，凭你拯救的诚实应允我！\n",
      "Match:  1.2000 Verse: 耶和华神啊，求你起来，和你\u001b[6;30;42m有\u001b[0m能力的约柜同入安息之所。耶和华神啊，愿你的祭司披上救恩；愿你的圣民蒙福\u001b[6;30;41m欢乐\u001b[0m。\n",
      "Match:  1.2000 Verse: 看见王站在殿门的柱旁，百夫长和吹号的人侍立在王左右，国民都\u001b[6;30;41m欢乐\u001b[0m吹号，又\u001b[6;30;42m有\u001b[0m歌唱的，用各样的乐器领人歌唱赞美；亚她利雅就撕裂衣服，喊叫说：「反了！反了！」\n",
      "Match:  1.2000 Verse: 看见王照例站在柱旁，百夫长和吹号的人侍立在王左右，国中的众民\u001b[6;30;41m欢乐\u001b[0m吹号；亚她利雅就撕裂衣服，\u001b[6;30;42m喊叫\u001b[0m说：「反了！反了！」\n",
      "\n",
      "Search for 挂虑 祈祷 ([pair('挂虑', 'v'), pair(' ', 'x'), pair('祈祷', 'v')]):\n",
      "Match:  2.0000 Verse: 应当一无\u001b[6;30;41m挂虑\u001b[0m，只要凡事借着\u001b[6;30;42m祷告\u001b[0m、祈求，和感谢，将你们所要的告诉神。\n",
      "Match:  1.2000 Verse: 妇人和处女也\u001b[6;30;42m有\u001b[0m分别。没\u001b[6;30;42m有\u001b[0m出嫁的，是为主的事\u001b[6;30;41m挂虑\u001b[0m，要身体、灵魂都圣洁；已经出嫁的，是为世上的事\u001b[6;30;41m挂虑\u001b[0m，想怎样叫丈夫喜悦。\n",
      "Match:  1.1429 Verse: 我愿你们无所\u001b[6;30;41m挂虑\u001b[0m。\u001b[6;30;42m没有\u001b[0m娶妻的，是为主的事\u001b[6;30;41m挂虑\u001b[0m，想怎样叫主喜悦。\n",
      "Match:  1.1429 Verse: 娶了妻的，\u001b[6;30;42m是\u001b[0m为世上的事\u001b[6;30;41m挂虑\u001b[0m，想怎样叫妻子喜悦。\n",
      "Match:  1.1429 Verse: 他必像树栽于水旁，在河边扎根，炎热来到，并不\u001b[6;30;42m惧怕\u001b[0m，叶子仍必青翠，在干旱之年毫无\u001b[6;30;41m挂虑\u001b[0m，而且结果不止。\n",
      "Match:  1.0000 Verse: 我的神啊，因你启示仆人说，我必为你建立家室，所以仆人大胆在你面前\u001b[6;30;41m祈祷\u001b[0m。\n",
      "Match:  1.0000 Verse: 大卫\u001b[6;30;41m祷告\u001b[0m神说：「我行这事大有罪了！现在求你除掉仆人的罪孽，因我所行的甚是愚昧。」\n",
      "Match:  1.0000 Verse: 大卫\u001b[6;30;41m祷告\u001b[0m神说：「吩咐数点百姓的不是我吗？我犯了罪，行了恶，但这群羊做了甚么呢？愿耶和华─我神的手攻击我和我的父家，不要攻击你的民，降瘟疫与他们。」\n",
      "Match:  1.0000 Verse: 夫妻不可彼此亏负，除非两相情愿，暂时分房，为要专心\u001b[6;30;41m祷告\u001b[0m方可；以后仍要同房，免得撒但趁着你们情不自禁，引诱你们。\n",
      "Match:  1.0000 Verse: 凡男人\u001b[6;30;41m祷告\u001b[0m或是讲道（或译：说预言；下同），若蒙着头，就羞辱自己的头。\n",
      "\n",
      "Search for 虑 祈祷 ([pair('虑', 'vg'), pair(' ', 'x'), pair('祈祷', 'v')]):\n",
      "Match:  1.0000 Verse: 我的神啊，因你启示仆人说，我必为你建立家室，所以仆人大胆在你面前\u001b[6;30;41m祈祷\u001b[0m。\n",
      "Match:  1.0000 Verse: 大卫\u001b[6;30;41m祷告\u001b[0m神说：「我行这事大有罪了！现在求你除掉仆人的罪孽，因我所行的甚是愚昧。」\n",
      "Match:  1.0000 Verse: 大卫\u001b[6;30;41m祷告\u001b[0m神说：「吩咐数点百姓的不是我吗？我犯了罪，行了恶，但这群羊做了甚么呢？愿耶和华─我神的手攻击我和我的父家，不要攻击你的民，降瘟疫与他们。」\n",
      "Match:  1.0000 Verse: 夫妻不可彼此亏负，除非两相情愿，暂时分房，为要专心\u001b[6;30;41m祷告\u001b[0m方可；以后仍要同房，免得撒但趁着你们情不自禁，引诱你们。\n",
      "Match:  1.0000 Verse: 凡男人\u001b[6;30;41m祷告\u001b[0m或是讲道（或译：说预言；下同），若蒙着头，就羞辱自己的头。\n",
      "Match:  1.0000 Verse: 凡女人\u001b[6;30;41m祷告\u001b[0m或是讲道，若不蒙着头，就羞辱自己的头，因为这就如同剃了头发一样。\n",
      "Match:  1.0000 Verse: 你们自己审察，女人\u001b[6;30;41m祷告\u001b[0m神，不蒙着头是合宜的吗？\n",
      "Match:  1.0000 Verse: 我若用方言\u001b[6;30;41m祷告\u001b[0m，是我的灵\u001b[6;30;41m祷告\u001b[0m，但我的悟性没有果效。\n",
      "Match:  1.0000 Verse: 这却怎么样呢？我要用灵\u001b[6;30;41m祷告\u001b[0m，也要用悟性\u001b[6;30;41m祷告\u001b[0m；我要用灵歌唱，也要用悟性歌唱。\n",
      "Match:  1.0000 Verse: 惟求耶和华─我的神垂顾仆人的\u001b[6;30;41m祷告\u001b[0m祈求，俯听仆人今日在你面前的祈祷唿吁。\n",
      "\n",
      "Search for 喜乐 事奉 ([pair('喜乐', 'ns'), pair(' ', 'x'), pair('事', 'n'), pair('奉', 'v')]):\n",
      "Match:  2.0000 Verse: 那时大卫说：「除了利未人之外，无人可抬神的约柜；因为耶和华拣选他们抬神的约柜，且永远\u001b[6;30;41m事\u001b[0m\u001b[6;30;42m奉\u001b[0m他。」\n",
      "Match:  2.0000 Verse: 大卫派几个利未人在耶和华的约柜前\u001b[6;30;41m事\u001b[0m\u001b[6;30;42m奉\u001b[0m，颂扬，称谢，赞美耶和华─以色列的神：\n",
      "Match:  2.0000 Verse: 大卫派亚萨和他的弟兄在约柜前常常\u001b[6;30;41m事\u001b[0m\u001b[6;30;42m奉\u001b[0m耶和华，一日尽一日的职分；\n",
      "Match:  2.0000 Verse: 暗兰的儿子是亚伦、摩西。亚伦和他的子孙分出来，好分别至圣的物，在耶和华面前烧香、\u001b[6;30;41m事\u001b[0m\u001b[6;30;42m奉\u001b[0m他，\u001b[6;30;42m奉\u001b[0m他的名祝福，直到永远。\n",
      "Match:  2.0000 Verse: 「你父亲使我们负重轭，做苦工，现在求你使我们做的苦工、负的重轭轻松些，我们就\u001b[6;30;41m事\u001b[0m\u001b[6;30;42m奉\u001b[0m你。」\n",
      "Match:  2.0000 Verse: 现在你当差遣人，招聚以色列众人和\u001b[6;30;41m事\u001b[0m\u001b[6;30;42m奉\u001b[0m巴力的那四百五十个先知，并耶洗别所供养\u001b[6;30;41m事\u001b[0m\u001b[6;30;42m奉\u001b[0m亚舍拉的那四百个先知，使他们都上迦密山去见我。」\n",
      "Match:  2.0000 Verse: 到了献晚祭的时候，先知以利亚近前来，说：「亚伯拉罕、以撒、以色列的神，耶和华啊，求你今日使人知道你是以色列的神，也知道我是你的仆人，又是\u001b[6;30;42m奉\u001b[0m你的命行这一切\u001b[6;30;41m事\u001b[0m。\n",
      "Match:  2.0000 Verse: 以利加拿往拉玛回家去了。那孩子在祭司以利面前\u001b[6;30;41m事\u001b[0m\u001b[6;30;42m奉\u001b[0m耶和华。\n",
      "Match:  2.0000 Verse: 童子撒母耳在以利面前\u001b[6;30;41m事\u001b[0m\u001b[6;30;42m奉\u001b[0m耶和华。当那些日子，耶和华的言语稀少，不常有默示。\n",
      "Match:  2.0000 Verse: 他们就唿求耶和华说：『我们离弃耶和华，\u001b[6;30;41m事\u001b[0m\u001b[6;30;42m奉\u001b[0m巴力和亚斯她录，是有罪了。现在求你救我们脱离仇敌的手，我们必\u001b[6;30;41m事\u001b[0m\u001b[6;30;42m奉\u001b[0m你。』\n",
      "\n",
      "Search for 求救 ([pair('求救', 'v')]):\n",
      "Match:  1.0000 Verse: 我们不向亚述\u001b[6;30;41m求救\u001b[0m，不骑埃及的马，也不再对我们手所造的说：你是我们的神。因为孤儿在你─耶和华那里得蒙怜悯。\n",
      "Match:  1.0000 Verse: 到降罚的日子，有灾祸从远方临到，那时，你们怎样行呢？你们向谁逃奔\u001b[6;30;41m求救\u001b[0m呢？你们的荣耀（或译：财宝）存留何处呢？\n",
      "Match:  1.0000 Verse: 「那时，这沿海一带的居民必说：『看哪，我们素所仰望的，就是我们为脱离亚述王逃往\u001b[6;30;41m求救\u001b[0m的，不过是如此！我们怎能逃脱呢？』」\n",
      "Match:  1.0000 Verse: 然而，人仆倒岂不伸手？遇灾难岂不\u001b[6;30;41m求救\u001b[0m呢？\n",
      "Match:  1.0000 Verse: 我没有日光就哀哭行去（或译：我面发黑并非因日晒）；我在会中站着\u001b[6;30;41m求救\u001b[0m。\n",
      "Match:  1.0000 Verse: 人因多受欺压就哀求，因受能者的辖制（原文是膀臂）便\u001b[6;30;41m求救\u001b[0m，\n",
      "Match:  1.0000 Verse: 那心中不敬虔的人积蓄怒气；神捆绑他们，他们竟不\u001b[6;30;41m求救\u001b[0m；\n",
      "Match:  1.0000 Verse: 我哀号\u001b[6;30;41m求救\u001b[0m；他使我的祷告不得上达。\n",
      "Match:  1.0000 Verse: 前行后随的人都喊着说：和散那（和散那：原有\u001b[6;30;41m求救\u001b[0m的意思，在此乃是称颂的话）！奉主名来的是应当称颂的！\n",
      "Match:  1.0000 Verse: 前行后随的众人喊着说：和散那（原有\u001b[6;30;41m求救\u001b[0m的意思，在此是称颂的话）归于大卫的子孙！奉主名来的是应当称颂的！高高在上和散那！\n",
      "\n",
      "Search for 信心 行事 ([pair('信心', 'n'), pair(' ', 'x'), pair('行事', 'n')]):\n",
      "Match:  2.0000 Verse: 因我们\u001b[6;30;42m行事\u001b[0m为人是凭着\u001b[6;30;41m信心\u001b[0m，不是凭着眼见。\n",
      "Match:  1.3333 Verse: 耶和华─以色列的\u001b[6;30;41m神\u001b[0m啊，你所应许你仆人─我父大卫的话说：『你的子孙若谨慎自己的行为，在我面前\u001b[6;30;42m行事\u001b[0m像你所行的一样，就不断人坐以色列的国位。』现在求你应验这话。\n",
      "Match:  1.3333 Verse: 要叫你们\u001b[6;30;42m行事\u001b[0m对得起那召你们进他国、得他荣耀的\u001b[6;30;41m神\u001b[0m。\n",
      "Match:  1.3333 Verse: 我在\u001b[6;30;41m神\u001b[0m和基督耶稣并蒙拣选的天使面前嘱咐你：要遵守这些话，不可存成见，\u001b[6;30;42m行事\u001b[0m也不可有偏心。\n",
      "Match:  1.3333 Verse: 他既强盛，就心高气傲，以致\u001b[6;30;42m行事\u001b[0m邪僻，干犯耶和华─他的\u001b[6;30;41m神\u001b[0m，进耶和华的殿，要在香坛上烧香。\n",
      "Match:  1.3333 Verse: 摩西学了埃及人一切的\u001b[6;30;41m学问\u001b[0m，说话\u001b[6;30;42m行事\u001b[0m都有才能。\n",
      "Match:  1.3333 Verse: 保罗定睛看着公会的人，说：「弟兄们，我在\u001b[6;30;41m神\u001b[0m面前\u001b[6;30;42m行事\u001b[0m为人都是凭着良心，直到今日。」\n",
      "Match:  1.3333 Verse: 先在大马士革，后在耶路撒冷和犹太全地，以及外邦，劝勉他们应当悔改归向\u001b[6;30;41m神\u001b[0m，\u001b[6;30;42m行事\u001b[0m与悔改的心相称。\n",
      "Match:  1.3333 Verse: 好叫你们\u001b[6;30;42m行事\u001b[0m为人对得起主，凡事蒙他喜悦，在一切善事上结果子，渐渐地多知道\u001b[6;30;41m神\u001b[0m；\n",
      "Match:  1.3333 Verse: 作恶违背圣约的人，他必用巧言勾引；惟独认识\u001b[6;30;41m神\u001b[0m的子民必刚强\u001b[6;30;42m行事\u001b[0m。\n",
      "\n"
     ]
    }
   ],
   "source": [
    "from search import sentence_similarity\n",
    "\n",
    "searches = ['欢乐 祈祷', '挂虑 祈祷', '虑 祈祷', '喜乐 事奉', '求救', '信心 行事']\n",
    "\n",
    "for search_term in searches:\n",
    "    search_tk = pseg.lcut(search_term)\n",
    "    print(f'Search for {search_term} ({search_tk}):')\n",
    "    match_scores = {}\n",
    "    for v, vers_tk in zip(unv.text_s, unv.text_tk):\n",
    "        similarity = sentence_similarity(search_tk, vers_tk)\n",
    "        match_kw = [kw for kw in similarity.keys() if similarity[kw] > 0]\n",
    "        vers = highlight_occurances(v, match_kw)\n",
    "        score = sum(similarity.values())\n",
    "        match_scores[vers] = score\n",
    "    for top_match in sorted(match_scores, key=match_scores.get, reverse=True)[:10]:\n",
    "        print(f'Match: {match_scores[top_match]:7.4f} Verse: {top_match}')\n",
    "    print()"
   ]
  }
 ]
}