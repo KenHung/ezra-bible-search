{
 "metadata": {
  "language_info": {
   "codemirror_mode": {
    "name": "ipython",
    "version": 3
   },
   "file_extension": ".py",
   "mimetype": "text/x-python",
   "name": "python",
   "nbconvert_exporter": "python",
   "pygments_lexer": "ipython3",
   "version": "3.7.9-final"
  },
  "orig_nbformat": 2,
  "kernelspec": {
   "name": "cnlp",
   "display_name": "ezra",
   "language": "python"
  }
 },
 "nbformat": 4,
 "nbformat_minor": 2,
 "cells": [
  {
   "source": [
    "# Full Search"
   ],
   "cell_type": "markdown",
   "metadata": {}
  },
  {
   "source": [
    "## Load Bible Text"
   ],
   "cell_type": "markdown",
   "metadata": {}
  },
  {
   "cell_type": "code",
   "execution_count": 1,
   "metadata": {},
   "outputs": [],
   "source": [
    "from data import read_bible\n",
    "\n",
    "unv = read_bible('https://bible.fhl.net/public/dnstrunv.tgz')"
   ]
  },
  {
   "source": [
    "## Tokenize"
   ],
   "cell_type": "markdown",
   "metadata": {}
  },
  {
   "cell_type": "code",
   "execution_count": 2,
   "metadata": {},
   "outputs": [
    {
     "output_type": "stream",
     "name": "stderr",
     "text": [
      "Paddle enabled successfully......\n"
     ]
    }
   ],
   "source": [
    "import jieba\n",
    "import jieba.posseg as pseg\n",
    "\n",
    "jieba.enable_paddle()"
   ]
  },
  {
   "cell_type": "code",
   "execution_count": 3,
   "metadata": {},
   "outputs": [],
   "source": [
    "from hanziconv import HanziConv\n",
    "\n",
    "unv['s_text'] = unv.text.apply(HanziConv.toSimplified)"
   ]
  },
  {
   "cell_type": "code",
   "execution_count": 4,
   "metadata": {},
   "outputs": [],
   "source": [
    "unv['s_text_tk'] = unv.s_text.apply(lambda v: pseg.lcut(v, use_paddle=True))"
   ]
  },
  {
   "source": [
    "## Search"
   ],
   "cell_type": "markdown",
   "metadata": {}
  },
  {
   "cell_type": "code",
   "execution_count": 5,
   "metadata": {},
   "outputs": [
    {
     "output_type": "stream",
     "name": "stdout",
     "text": [
      "\u001b[6;30;41mfirst\u001b[0m, \u001b[6;30;42msecond\u001b[0m, \u001b[6;30;43mthrid\u001b[0m, \u001b[6;30;44mforth\u001b[0m, \u001b[6;30;45mfifth\u001b[0m, \u001b[6;30;46msixth\u001b[0m, \u001b[6;30;47mseventh\u001b[0m\n"
     ]
    }
   ],
   "source": [
    "from typing import Iterable\n",
    "\n",
    "def highlight_occurances(text: str, keywords: Iterable[str]) -> str:\n",
    "    for i, kw in enumerate(keywords):\n",
    "        text = text.replace(kw, highlight(kw, i))\n",
    "    return text\n",
    "\n",
    "def highlight(text: str, color_code: int) -> str:\n",
    "    return f'\\x1b[6;30;4{color_code + 1}m{text}\\x1b[0m'\n",
    "\n",
    "test_data = ['first', 'second', 'thrid', 'forth', 'fifth', 'sixth', 'seventh']\n",
    "print(highlight_occurances(', '.join(test_data), test_data))"
   ]
  },
  {
   "cell_type": "code",
   "execution_count": 6,
   "metadata": {},
   "outputs": [
    {
     "output_type": "stream",
     "name": "stdout",
     "text": [
      "Search for 欢乐 祈祷:\n",
      "Match:  1.0000 Verse: 我的神啊，因你启示仆人说，我必为你建立家室，所以仆人大胆在你面前\u001b[6;30;41m祈祷\u001b[0m。\n",
      "Match:  1.0000 Verse: 大卫\u001b[6;30;41m祷告\u001b[0m神说：「我行这事大有罪了！现在求你除掉仆人的罪孽，因我所行的甚是愚昧。」\n",
      "Match:  1.0000 Verse: 大卫\u001b[6;30;41m祷告\u001b[0m神说：「吩咐数点百姓的不是我吗？我犯了罪，行了恶，但这群羊做了甚么呢？愿耶和华─我神的手攻击我和我的父家，不要攻击你的民，降瘟疫与他们。」\n",
      "Match:  1.0000 Verse: 夫妻不可彼此亏负，除非两相情愿，暂时分房，为要专心\u001b[6;30;41m祷告\u001b[0m方可；以后仍要同房，免得撒但趁着你们情不自禁，引诱你们。\n",
      "Match:  1.0000 Verse: 凡男人\u001b[6;30;41m祷告\u001b[0m或是讲道（或译：说预言；下同），若蒙着头，就羞辱自己的头。\n",
      "Match:  1.0000 Verse: 凡女人\u001b[6;30;41m祷告\u001b[0m或是讲道，若不蒙着头，就羞辱自己的头，因为这就如同剃了头发一样。\n",
      "Match:  1.0000 Verse: 你们自己审察，女人\u001b[6;30;41m祷告\u001b[0m神，不蒙着头是合宜的吗？\n",
      "Match:  1.0000 Verse: 我若用方言\u001b[6;30;41m祷告\u001b[0m，是我的灵\u001b[6;30;41m祷告\u001b[0m，但我的悟性没有果效。\n",
      "Match:  1.0000 Verse: 这却怎么样呢？我要用灵\u001b[6;30;41m祷告\u001b[0m，也要用悟性\u001b[6;30;41m祷告\u001b[0m；我要用灵歌唱，也要用悟性歌唱。\n",
      "Match:  1.0000 Verse: 惟求耶和华─我的神垂顾仆人的\u001b[6;30;41m祷告\u001b[0m祈求，俯听仆人今日在你面前的祈祷唿吁。\n",
      "\n",
      "Search for 挂虑 祈祷:\n",
      "Match:  2.0000 Verse: 应当一无\u001b[6;30;41m挂虑\u001b[0m，只要凡事借着\u001b[6;30;42m祷告\u001b[0m、祈求，和感谢，将你们所要的告诉神。\n",
      "Match:  1.1429 Verse: 我愿你们无所\u001b[6;30;41m挂虑\u001b[0m。\u001b[6;30;42m没有\u001b[0m娶妻的，是为主的事\u001b[6;30;41m挂虑\u001b[0m，想怎样叫主喜悦。\n",
      "Match:  1.1429 Verse: 娶了妻的，\u001b[6;30;42m是\u001b[0m为世上的事\u001b[6;30;41m挂虑\u001b[0m，想怎样叫妻子喜悦。\n",
      "Match:  1.1429 Verse: 妇人和处女也有分别。\u001b[6;30;42m没有\u001b[0m出嫁的，是为主的事\u001b[6;30;41m挂虑\u001b[0m，要身体、灵魂都圣洁；已经出嫁的，是为世上的事\u001b[6;30;41m挂虑\u001b[0m，想怎样叫丈夫喜悦。\n",
      "Match:  1.1429 Verse: 他必像树栽于水旁，在河边扎根，炎热来到，并不\u001b[6;30;42m惧怕\u001b[0m，叶子仍必青翠，在干旱之年毫无\u001b[6;30;41m挂虑\u001b[0m，而且结果不止。\n",
      "Match:  1.0000 Verse: 我的神啊，因你启示仆人说，我必为你建立家室，所以仆人大胆在你面前\u001b[6;30;41m祈祷\u001b[0m。\n",
      "Match:  1.0000 Verse: 大卫\u001b[6;30;41m祷告\u001b[0m神说：「我行这事大有罪了！现在求你除掉仆人的罪孽，因我所行的甚是愚昧。」\n",
      "Match:  1.0000 Verse: 大卫\u001b[6;30;41m祷告\u001b[0m神说：「吩咐数点百姓的不是我吗？我犯了罪，行了恶，但这群羊做了甚么呢？愿耶和华─我神的手攻击我和我的父家，不要攻击你的民，降瘟疫与他们。」\n",
      "Match:  1.0000 Verse: 夫妻不可彼此亏负，除非两相情愿，暂时分房，为要专心\u001b[6;30;41m祷告\u001b[0m方可；以后仍要同房，免得撒但趁着你们情不自禁，引诱你们。\n",
      "Match:  1.0000 Verse: 凡男人\u001b[6;30;41m祷告\u001b[0m或是讲道（或译：说预言；下同），若蒙着头，就羞辱自己的头。\n",
      "\n",
      "Search for 虑 祈祷:\n",
      "Match:  1.0000 Verse: 我的神啊，因你启示仆人说，我必为你建立家室，所以仆人大胆在你面前\u001b[6;30;41m祈祷\u001b[0m。\n",
      "Match:  1.0000 Verse: 大卫\u001b[6;30;41m祷告\u001b[0m神说：「我行这事大有罪了！现在求你除掉仆人的罪孽，因我所行的甚是愚昧。」\n",
      "Match:  1.0000 Verse: 大卫\u001b[6;30;41m祷告\u001b[0m神说：「吩咐数点百姓的不是我吗？我犯了罪，行了恶，但这群羊做了甚么呢？愿耶和华─我神的手攻击我和我的父家，不要攻击你的民，降瘟疫与他们。」\n",
      "Match:  1.0000 Verse: 夫妻不可彼此亏负，除非两相情愿，暂时分房，为要专心\u001b[6;30;41m祷告\u001b[0m方可；以后仍要同房，免得撒但趁着你们情不自禁，引诱你们。\n",
      "Match:  1.0000 Verse: 凡男人\u001b[6;30;41m祷告\u001b[0m或是讲道（或译：说预言；下同），若蒙着头，就羞辱自己的头。\n",
      "Match:  1.0000 Verse: 凡女人\u001b[6;30;41m祷告\u001b[0m或是讲道，若不蒙着头，就羞辱自己的头，因为这就如同剃了头发一样。\n",
      "Match:  1.0000 Verse: 你们自己审察，女人\u001b[6;30;41m祷告\u001b[0m神，不蒙着头是合宜的吗？\n",
      "Match:  1.0000 Verse: 我若用方言\u001b[6;30;41m祷告\u001b[0m，是我的灵\u001b[6;30;41m祷告\u001b[0m，但我的悟性没有果效。\n",
      "Match:  1.0000 Verse: 这却怎么样呢？我要用灵\u001b[6;30;41m祷告\u001b[0m，也要用悟性\u001b[6;30;41m祷告\u001b[0m；我要用灵歌唱，也要用悟性歌唱。\n",
      "Match:  1.0000 Verse: 惟求耶和华─我的神垂顾仆人的\u001b[6;30;41m祷告\u001b[0m祈求，俯听仆人今日在你面前的祈祷唿吁。\n",
      "\n",
      "Search for 喜乐 事奉:\n",
      "Match:  2.0000 Verse: 暗兰的儿子是亚伦、摩西。亚伦和他的子孙分出来，好分别至圣的物，在耶和华面前烧香、\u001b[6;30;41m事\u001b[0m\u001b[6;30;42m奉\u001b[0m他，\u001b[6;30;42m奉\u001b[0m他的名祝福，直到永远。\n",
      "Match:  2.0000 Verse: 「我儿所罗门哪，你当认识耶和华─你父的神，诚心乐意地\u001b[6;30;41m事\u001b[0m\u001b[6;30;42m奉\u001b[0m他；因为他鉴察众人的心，知道一切心思意念。你若寻求他，他必使你寻见；你若离弃他，他必永远丢弃你。\n",
      "Match:  2.0000 Verse: 人必回答说：『是因此地的人离弃领他们列祖出埃及地之耶和华─他们的神，去亲近别神，\u001b[6;30;41m事\u001b[0m\u001b[6;30;42m奉\u001b[0m敬拜他，所以耶和华使这一切灾祸临到他们。』」\n",
      "Match:  2.0000 Verse: 「你父亲使我们负重轭，做苦工，现在求你使我们做的苦工、负的重轭轻松些，我们就\u001b[6;30;41m事\u001b[0m\u001b[6;30;42m奉\u001b[0m你。」\n",
      "Match:  2.0000 Verse: 犯了尼八的儿子耶罗波安所犯的罪；他还以为轻，又娶了西顿王谒巴力的女儿耶洗别为妻，去\u001b[6;30;41m事\u001b[0m\u001b[6;30;42m奉\u001b[0m敬拜巴力，\n",
      "Match:  2.0000 Verse: 以利亚说：「我指着所\u001b[6;30;41m事\u001b[0m\u001b[6;30;42m奉\u001b[0m永生的万军之耶和华起誓，我今日必使亚哈得见我。」\n",
      "Match:  2.0000 Verse: 现在你当差遣人，招聚以色列众人和\u001b[6;30;41m事\u001b[0m\u001b[6;30;42m奉\u001b[0m巴力的那四百五十个先知，并耶洗别所供养\u001b[6;30;41m事\u001b[0m\u001b[6;30;42m奉\u001b[0m亚舍拉的那四百个先知，使他们都上迦密山去见我。」\n",
      "Match:  2.0000 Verse: 撒母耳对以色列全家说：「你们若一心归顺耶和华，就要把外邦的神和亚斯她录从你们中间除掉，专心归向耶和华，单单地\u001b[6;30;41m事\u001b[0m\u001b[6;30;42m奉\u001b[0m他。他必救你们脱离非利士人的手。」\n",
      "Match:  2.0000 Verse: 以色列人就除掉诸巴力和亚斯她录，单单地\u001b[6;30;41m事\u001b[0m\u001b[6;30;42m奉\u001b[0m耶和华。\n",
      "Match:  2.0000 Verse: 求我主我王听仆人的话：若是耶和华激发你攻击我，愿耶和华收纳祭物；若是人激发你，愿他在耶和华面前受咒诅；因为他现今赶逐我，不容我在耶和华的产业上有分，说：『你去\u001b[6;30;41m事\u001b[0m\u001b[6;30;42m奉\u001b[0m别神吧！』\n",
      "\n",
      "Search for 求救:\n",
      "Match:  1.0000 Verse: 我们不向亚述\u001b[6;30;41m求救\u001b[0m，不骑埃及的马，也不再对我们手所造的说：你是我们的神。因为孤儿在你─耶和华那里得蒙怜悯。\n",
      "Match:  1.0000 Verse: 到降罚的日子，有灾祸从远方临到，那时，你们怎样行呢？你们向谁逃奔\u001b[6;30;41m求救\u001b[0m呢？你们的荣耀（或译：财宝）存留何处呢？\n",
      "Match:  1.0000 Verse: 「那时，这沿海一带的居民必说：『看哪，我们素所仰望的，就是我们为脱离亚述王逃往\u001b[6;30;41m求救\u001b[0m的，不过是如此！我们怎能逃脱呢？』」\n",
      "Match:  1.0000 Verse: 然而，人仆倒岂不伸手？遇灾难岂不\u001b[6;30;41m求救\u001b[0m呢？\n",
      "Match:  1.0000 Verse: 我没有日光就哀哭行去（或译：我面发黑并非因日晒）；我在会中站着\u001b[6;30;41m求救\u001b[0m。\n",
      "Match:  1.0000 Verse: 人因多受欺压就哀求，因受能者的辖制（原文是膀臂）便\u001b[6;30;41m求救\u001b[0m，\n",
      "Match:  1.0000 Verse: 我哀号\u001b[6;30;41m求救\u001b[0m；他使我的祷告不得上达。\n",
      "Match:  1.0000 Verse: 前行后随的人都喊着说：和散那（和散那：原有\u001b[6;30;41m求救\u001b[0m的意思，在此乃是称颂的话）！奉主名来的是应当称颂的！\n",
      "Match:  1.0000 Verse: 前行后随的众人喊着说：和散那（原有\u001b[6;30;41m求救\u001b[0m的意思，在此是称颂的话）归于大卫的子孙！奉主名来的是应当称颂的！高高在上和散那！\n",
      "Match:  0.0000 Verse: 亚当生塞特；塞特生以挪士；\n",
      "\n",
      "Search for 信心 行事:\n",
      "Match:  2.0000 Verse: 因我们\u001b[6;30;42m行事\u001b[0m为人是凭着\u001b[6;30;41m信心\u001b[0m，不是凭着眼见。\n",
      "Match:  1.3333 Verse: 耶和华─以色列的\u001b[6;30;41m神\u001b[0m啊，你所应许你仆人─我父大卫的话说：『你的子孙若谨慎自己的行为，在我面前\u001b[6;30;42m行事\u001b[0m像你所行的一样，就不断人坐以色列的国位。』现在求你应验这话。\n",
      "Match:  1.3333 Verse: 我在\u001b[6;30;41m神\u001b[0m和基督耶稣并蒙拣选的天使面前嘱咐你：要遵守这些话，不可存成见，\u001b[6;30;42m行事\u001b[0m也不可有偏心。\n",
      "Match:  1.3333 Verse: 摩西学了埃及人一切的\u001b[6;30;41m学问\u001b[0m，说话\u001b[6;30;42m行事\u001b[0m都有才能。\n",
      "Match:  1.3333 Verse: 保罗定睛看着公会的人，说：「弟兄们，我在\u001b[6;30;41m神\u001b[0m面前\u001b[6;30;42m行事\u001b[0m为人都是凭着良心，直到今日。」\n",
      "Match:  1.3333 Verse: 王必任意而行，自高自大，超过所有的\u001b[6;30;41m神\u001b[0m，又用奇异的话攻击万\u001b[6;30;41m神\u001b[0m之\u001b[6;30;41m神\u001b[0m。他必\u001b[6;30;42m行事\u001b[0m亨通，直到主的忿怒完毕，因为所定的事必然成就。\n",
      "Match:  1.3333 Verse: 『主耶和华啊，你已将你的大力大能显给仆人看。在天上，在地下，有甚么\u001b[6;30;41m神\u001b[0m能像你\u001b[6;30;42m行事\u001b[0m、像你有大能的作为呢？\n",
      "Match:  1.3333 Verse: 你的倚靠不是在你敬畏\u001b[6;30;41m神\u001b[0m吗？你的盼望不是在你\u001b[6;30;42m行事\u001b[0m纯正吗？\n",
      "Match:  1.3333 Verse: \u001b[6;30;41m神\u001b[0m\u001b[6;30;42m行事\u001b[0m有高大的能力；教训人的有谁像他呢？\n",
      "Match:  1.3333 Verse: 耶稣说：「甚么事呢？」他们说：「就是拿撒勒人耶稣的事。他是个先知，在\u001b[6;30;41m神\u001b[0m和众百姓面前，说话\u001b[6;30;42m行事\u001b[0m都有大能。\n",
      "\n"
     ]
    }
   ],
   "source": [
    "from search import sentence_similarity\n",
    "\n",
    "searches = ['欢乐 祈祷', '挂虑 祈祷', '虑 祈祷', '喜乐 事奉', '求救', '信心 行事']\n",
    "\n",
    "for search_term in searches:\n",
    "    print(f'Search for {search_term}:')\n",
    "    search_tk = pseg.lcut(search_term, use_paddle=True)\n",
    "    match_scores = {}\n",
    "    for v, vers_tk in zip(unv.s_text, unv.s_text_tk):\n",
    "        similarity = sentence_similarity(search_tk, vers_tk)\n",
    "        match_kw = [kw for kw in similarity.keys() if similarity[kw] > 0]\n",
    "        vers = highlight_occurances(v, match_kw)\n",
    "        score = sum(similarity.values())\n",
    "        match_scores[vers] = score\n",
    "    for top_match in sorted(match_scores, key=match_scores.get, reverse=True)[:10]:\n",
    "        print(f'Match: {match_scores[top_match]:7.4f} Verse: {top_match}')\n",
    "    print()"
   ]
  },
  {
   "cell_type": "code",
   "execution_count": null,
   "metadata": {},
   "outputs": [],
   "source": []
  }
 ]
}